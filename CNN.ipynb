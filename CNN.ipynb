{
 "cells": [
  {
   "cell_type": "code",
   "execution_count": 1,
   "metadata": {},
   "outputs": [],
   "source": [
    "import os\n",
    "import torch\n",
    "import pandas as pd\n",
    "import numpy as np\n",
    "import matplotlib.pyplot as plt\n",
    "#os.chdir(\"C:/Users/Nikita/Documents/GitHub/Self-learning-Monte-carlo-algorithms\")\n",
    "#os.chdir(\"C:/aut/Self-learning-Monte-carlo-algorithms\")\n",
    "import Ising\n",
    "from torch import nn\n",
    "from torch.nn import functional as F\n",
    "from torch.optim.lr_scheduler import StepLR, ReduceLROnPlateau\n",
    "\n",
    "from sklearn.metrics import accuracy_score\n",
    "from tqdm import tqdm_notebook as tqdm\n",
    "from numba import jit\n",
    "from sklearn.model_selection import train_test_split\n",
    "from sklearn.metrics import accuracy_score\n",
    "from sklearn.linear_model import LinearRegression\n",
    "from torch.utils.data import DataLoader, TensorDataset\n",
    "%matplotlib inline\n",
    "plt.style.use('ggplot')"
   ]
  },
  {
   "cell_type": "code",
   "execution_count": 2,
   "metadata": {},
   "outputs": [
    {
     "name": "stdout",
     "output_type": "stream",
     "text": [
      "Sun Apr  5 20:05:24 2020       \n",
      "+-----------------------------------------------------------------------------+\n",
      "| NVIDIA-SMI 440.33.01    Driver Version: 440.33.01    CUDA Version: 10.2     |\n",
      "|-------------------------------+----------------------+----------------------+\n",
      "| GPU  Name        Persistence-M| Bus-Id        Disp.A | Volatile Uncorr. ECC |\n",
      "| Fan  Temp  Perf  Pwr:Usage/Cap|         Memory-Usage | GPU-Util  Compute M. |\n",
      "|===============================+======================+======================|\n",
      "|   0  Tesla V100-SXM2...  On   | 00000000:1A:00.0 Off |                    0 |\n",
      "| N/A   37C    P0    44W / 300W |      0MiB / 32510MiB |      0%      Default |\n",
      "+-------------------------------+----------------------+----------------------+\n",
      "|   1  Tesla V100-SXM2...  On   | 00000000:1C:00.0 Off |                    0 |\n",
      "| N/A   33C    P0    42W / 300W |      0MiB / 32510MiB |      0%      Default |\n",
      "+-------------------------------+----------------------+----------------------+\n",
      "|   2  Tesla V100-SXM2...  On   | 00000000:1D:00.0 Off |                    0 |\n",
      "| N/A   30C    P0    41W / 300W |      0MiB / 32510MiB |      0%      Default |\n",
      "+-------------------------------+----------------------+----------------------+\n",
      "|   3  Tesla V100-SXM2...  On   | 00000000:1E:00.0 Off |                    0 |\n",
      "| N/A   33C    P0    39W / 300W |      0MiB / 32510MiB |      0%      Default |\n",
      "+-------------------------------+----------------------+----------------------+\n",
      "                                                                               \n",
      "+-----------------------------------------------------------------------------+\n",
      "| Processes:                                                       GPU Memory |\n",
      "|  GPU       PID   Type   Process name                             Usage      |\n",
      "|=============================================================================|\n",
      "|  No running processes found                                                 |\n",
      "+-----------------------------------------------------------------------------+\n"
     ]
    }
   ],
   "source": [
    "!nvidia-smi"
   ]
  },
  {
   "cell_type": "code",
   "execution_count": 19,
   "metadata": {},
   "outputs": [],
   "source": [
    "class Net(torch.nn.Module):\n",
    "    def __init__(self, input_size=10, hidden_size=64):\n",
    "        super().__init__()\n",
    "        self.conv = torch.nn.Conv2d(1, 1, kernel_size=[3, 3])\n",
    "        self.act1 = torch.nn.ReLU()\n",
    "        self.drop = torch.nn.Dropout(0.05)\n",
    "        self.fc1 = torch.nn.Linear((input_size-2)*(input_size-2), hidden_size)\n",
    "        self.act2 = torch.nn.ReLU()\n",
    "        \n",
    "        self.fc2 = torch.nn.Linear(hidden_size, 2)\n",
    "\n",
    "    def forward(self, x):\n",
    "        x = self.conv(x)\n",
    "        x = x.reshape(x.shape[0], x.shape[2]**2)\n",
    "        x = self.act1(self.fc1(x))\n",
    "        x = self.act2(x)\n",
    "        x = self.drop(x)\n",
    "        x = self.fc2(x)\n",
    "        return x"
   ]
  },
  {
   "cell_type": "code",
   "execution_count": 4,
   "metadata": {},
   "outputs": [],
   "source": [
    "def find_point():\n",
    "    global ind\n",
    "    clouse = -1\n",
    "    val1 = float(\"inf\")\n",
    "    output_val = net.forward(X_test.float())\n",
    "    output_val_soft = cr(output_val).cpu().detach().numpy()\n",
    "    \n",
    "    y = []\n",
    "    for i in range(X_test_time.shape[0]):\n",
    "        mn = output_val_soft[:, 1][100*i:100*(i+1)].mean()\n",
    "        y.append([X_test_time[i], mn])\n",
    "    y.sort(key = lambda x: x[1])\n",
    "    \n",
    "    val = float(\"inf\")\n",
    "    for i in range(len(y)):\n",
    "        mn = y[i][1]\n",
    "        if abs(mn - 0.5) < abs(val - 0.5):\n",
    "            clouse = i \n",
    "            val = mn\n",
    "            \n",
    "    ind.append(val)\n",
    "    ind.append(y[clouse-1][0])\n",
    "    ind.append(y[clouse+1][0] if clouse+1 != len(y) else y[clouse][0])\n",
    "    ind.append(y[clouse][0])"
   ]
  },
  {
   "cell_type": "markdown",
   "metadata": {},
   "source": [
    "# Loadind data and neural network training"
   ]
  },
  {
   "cell_type": "code",
   "execution_count": 5,
   "metadata": {},
   "outputs": [],
   "source": [
    "def load(size, sample, n_obj):\n",
    "    if sample == \"train\":\n",
    "        X_path = \"/home/nasorokin11/CPP/squre/size{}_min1_max3.5_step0.0625_batch1000_re100_N10000\".format(str(size))\n",
    "        y_path = \"/home/nasorokin11/CPP/squre/labels_size{}_min1_max3.5_step0.0625_batch1000_re100_N10000\".format(str(size))\n",
    "    else:\n",
    "        X_path = \"/home/nasorokin11/CPP/size{}_min1_max3.5_step0.0625_batch1000_re100_N10000_triangular\".format(str(size))\n",
    "        y_path = \"/home/nasorokin11/CPP/labels_size{}_min1_max3.5_step0.0625_batch1000_re100_N10000_triangular\".format(str(size))\n",
    "        \n",
    "    with open(X_path) as fl:\n",
    "            lines = fl.readlines()\n",
    "    X_test = np.zeros((n_obj, size, size), dtype = np.int8)\n",
    "    curr = 0\n",
    "    for i in tqdm(range(len(lines))):\n",
    "        if lines[i] == ';\\n':\n",
    "            curr += 1\n",
    "        else:\n",
    "            X_test[curr] = np.array(list(map(lambda x: int(x), lines[i][:-2].split(\" \"))))\n",
    "        \n",
    "    del lines\n",
    "        \n",
    "    with open(y_path) as fl:\n",
    "        lines = fl.readlines()\n",
    "    y_test = []\n",
    "    for i in range(len(lines)):\n",
    "        y_test.append(int(lines[i][0]))\n",
    "    return X_test, y_test"
   ]
  },
  {
   "cell_type": "code",
   "execution_count": 6,
   "metadata": {},
   "outputs": [],
   "source": [
    "def plot_fitting():\n",
    "    net.eval()\n",
    "    output_val = net.forward(X_test.to(device).float())\n",
    "    output_val_soft = cr(output_val).cpu().detach().numpy()\n",
    "    x_line = np.arange(0,1.2,0.2)\n",
    "    output_0 = []\n",
    "    for i in range(X_test_time.shape[0]):\n",
    "        output_0.append(output_val_soft[:, 0][100*i:100*(i+1)].mean())\n",
    "    plt.plot(X_test_time, output_0, '-.^g', alpha=0.5)\n",
    "    output_1 = []\n",
    "    for i in range(X_test_time.shape[0]):\n",
    "        output_1.append(output_val_soft[:, 1][100*i:100*(i+1)].mean())\n",
    "    plt.plot(X_test_time, output_1, '-.^b', alpha=0.5)\n",
    "    plt.plot([3.65]*x_line.shape[0], x_line, '-')\n",
    "    plt.show()"
   ]
  },
  {
   "cell_type": "code",
   "execution_count": 7,
   "metadata": {},
   "outputs": [],
   "source": [
    "device = torch.device('cuda:0' if torch.cuda.is_available() else 'cpu')"
   ]
  },
  {
   "cell_type": "code",
   "execution_count": 9,
   "metadata": {},
   "outputs": [
    {
     "ename": "KeyboardInterrupt",
     "evalue": "",
     "output_type": "error",
     "traceback": [
      "\u001b[0;31m---------------------------------------------------------------------------\u001b[0m",
      "\u001b[0;31mKeyboardInterrupt\u001b[0m                         Traceback (most recent call last)",
      "\u001b[0;32m<ipython-input-9-f36903e68ee3>\u001b[0m in \u001b[0;36m<module>\u001b[0;34m\u001b[0m\n\u001b[1;32m      2\u001b[0m \u001b[0msize\u001b[0m \u001b[0;34m=\u001b[0m \u001b[0;36m256\u001b[0m\u001b[0;34m\u001b[0m\u001b[0;34m\u001b[0m\u001b[0m\n\u001b[1;32m      3\u001b[0m \u001b[0mx\u001b[0m \u001b[0;34m=\u001b[0m \u001b[0mnp\u001b[0m\u001b[0;34m.\u001b[0m\u001b[0marange\u001b[0m\u001b[0;34m(\u001b[0m\u001b[0;36m1\u001b[0m\u001b[0;34m,\u001b[0m \u001b[0;36m3.5\u001b[0m\u001b[0;34m,\u001b[0m \u001b[0;36m0.0625\u001b[0m\u001b[0;34m)\u001b[0m\u001b[0;34m\u001b[0m\u001b[0;34m\u001b[0m\u001b[0m\n\u001b[0;32m----> 4\u001b[0;31m \u001b[0mX_train\u001b[0m\u001b[0;34m,\u001b[0m \u001b[0my_train\u001b[0m \u001b[0;34m=\u001b[0m \u001b[0mload\u001b[0m\u001b[0;34m(\u001b[0m\u001b[0msize\u001b[0m\u001b[0;34m,\u001b[0m \u001b[0;34m\"train\"\u001b[0m\u001b[0;34m,\u001b[0m \u001b[0;36m40000\u001b[0m\u001b[0;34m)\u001b[0m\u001b[0;34m\u001b[0m\u001b[0;34m\u001b[0m\u001b[0m\n\u001b[0m\u001b[1;32m      5\u001b[0m \u001b[0mX_test\u001b[0m\u001b[0;34m,\u001b[0m \u001b[0my_test\u001b[0m \u001b[0;34m=\u001b[0m \u001b[0mload\u001b[0m\u001b[0;34m(\u001b[0m\u001b[0msize\u001b[0m\u001b[0;34m,\u001b[0m \u001b[0;34m\"test\"\u001b[0m\u001b[0;34m,\u001b[0m \u001b[0;36m30100\u001b[0m\u001b[0;34m)\u001b[0m\u001b[0;34m\u001b[0m\u001b[0;34m\u001b[0m\u001b[0m\n\u001b[1;32m      6\u001b[0m \u001b[0;34m\u001b[0m\u001b[0m\n",
      "\u001b[0;32m<ipython-input-6-b1f68a355ec3>\u001b[0m in \u001b[0;36mload\u001b[0;34m(size, sample, n_obj)\u001b[0m\n\u001b[1;32m      8\u001b[0m \u001b[0;34m\u001b[0m\u001b[0m\n\u001b[1;32m      9\u001b[0m     \u001b[0;32mwith\u001b[0m \u001b[0mopen\u001b[0m\u001b[0;34m(\u001b[0m\u001b[0mX_path\u001b[0m\u001b[0;34m)\u001b[0m \u001b[0;32mas\u001b[0m \u001b[0mfl\u001b[0m\u001b[0;34m:\u001b[0m\u001b[0;34m\u001b[0m\u001b[0;34m\u001b[0m\u001b[0m\n\u001b[0;32m---> 10\u001b[0;31m             \u001b[0mlines\u001b[0m \u001b[0;34m=\u001b[0m \u001b[0mfl\u001b[0m\u001b[0;34m.\u001b[0m\u001b[0mreadlines\u001b[0m\u001b[0;34m(\u001b[0m\u001b[0;34m)\u001b[0m\u001b[0;34m\u001b[0m\u001b[0;34m\u001b[0m\u001b[0m\n\u001b[0m\u001b[1;32m     11\u001b[0m     \u001b[0mX_test\u001b[0m \u001b[0;34m=\u001b[0m \u001b[0mnp\u001b[0m\u001b[0;34m.\u001b[0m\u001b[0mzeros\u001b[0m\u001b[0;34m(\u001b[0m\u001b[0;34m(\u001b[0m\u001b[0mn_obj\u001b[0m\u001b[0;34m,\u001b[0m \u001b[0msize\u001b[0m\u001b[0;34m,\u001b[0m \u001b[0msize\u001b[0m\u001b[0;34m)\u001b[0m\u001b[0;34m,\u001b[0m \u001b[0mdtype\u001b[0m \u001b[0;34m=\u001b[0m \u001b[0mnp\u001b[0m\u001b[0;34m.\u001b[0m\u001b[0mint8\u001b[0m\u001b[0;34m)\u001b[0m\u001b[0;34m\u001b[0m\u001b[0;34m\u001b[0m\u001b[0m\n\u001b[1;32m     12\u001b[0m     \u001b[0mcurr\u001b[0m \u001b[0;34m=\u001b[0m \u001b[0;36m0\u001b[0m\u001b[0;34m\u001b[0m\u001b[0;34m\u001b[0m\u001b[0m\n",
      "\u001b[0;32m/opt/software/python/anaconda/2019_10/lib/python3.7/codecs.py\u001b[0m in \u001b[0;36mdecode\u001b[0;34m(self, input, final)\u001b[0m\n\u001b[1;32m    317\u001b[0m         \u001b[0;32mraise\u001b[0m \u001b[0mNotImplementedError\u001b[0m\u001b[0;34m\u001b[0m\u001b[0;34m\u001b[0m\u001b[0m\n\u001b[1;32m    318\u001b[0m \u001b[0;34m\u001b[0m\u001b[0m\n\u001b[0;32m--> 319\u001b[0;31m     \u001b[0;32mdef\u001b[0m \u001b[0mdecode\u001b[0m\u001b[0;34m(\u001b[0m\u001b[0mself\u001b[0m\u001b[0;34m,\u001b[0m \u001b[0minput\u001b[0m\u001b[0;34m,\u001b[0m \u001b[0mfinal\u001b[0m\u001b[0;34m=\u001b[0m\u001b[0;32mFalse\u001b[0m\u001b[0;34m)\u001b[0m\u001b[0;34m:\u001b[0m\u001b[0;34m\u001b[0m\u001b[0;34m\u001b[0m\u001b[0m\n\u001b[0m\u001b[1;32m    320\u001b[0m         \u001b[0;31m# decode input (taking the buffer into account)\u001b[0m\u001b[0;34m\u001b[0m\u001b[0;34m\u001b[0m\u001b[0;34m\u001b[0m\u001b[0m\n\u001b[1;32m    321\u001b[0m         \u001b[0mdata\u001b[0m \u001b[0;34m=\u001b[0m \u001b[0mself\u001b[0m\u001b[0;34m.\u001b[0m\u001b[0mbuffer\u001b[0m \u001b[0;34m+\u001b[0m \u001b[0minput\u001b[0m\u001b[0;34m\u001b[0m\u001b[0;34m\u001b[0m\u001b[0m\n",
      "\u001b[0;31mKeyboardInterrupt\u001b[0m: "
     ]
    }
   ],
   "source": [
    "# load\n",
    "size = 256\n",
    "x = np.arange(1, 3.5, 0.0625)\n",
    "X_train, y_train = load(size, \"train\", 40000)\n",
    "X_test, y_test = load(size, \"test\", 30100)\n",
    "            \n",
    "print(\"size:\", size)\n",
    "    \n",
    "X_test_time = np.arange(1, 4, 0.01)\n",
    "    \n",
    "X_test = np.array(X_test)\n",
    "X_test = X_test.reshape(X_test.shape[0], size*size)\n",
    "X_test = torch.from_numpy(X_test).to(device)\n",
    "y_test = np.array(y_test)\n",
    "    \n",
    "X_train = np.array(X_train)\n",
    "X_train = X_train.reshape(X_train.shape[0], size*size)\n",
    "X_train = torch.from_numpy(X_train)\n",
    "y_train = torch.from_numpy(np.array(y_train))\n",
    "train_data = TensorDataset(X_train, y_train)\n",
    "# dataloaders\n",
    "train_data = TensorDataset(X_train, y_train)\n",
    "batch_size = 16384\n",
    "\n",
    "train_loader = DataLoader(train_data, batch_size=batch_size, shuffle=True)\n",
    "\n",
    "torch.cuda.empty_cache()\n",
    "#train\n"
   ]
  },
  {
   "cell_type": "code",
   "execution_count": null,
   "metadata": {},
   "outputs": [],
   "source": [
    "net = Net(size*size)\n",
    "net.to(device)\n",
    "net.train()\n",
    "    \n",
    "cr = torch.nn.Softmax()\n",
    "criterion = torch.nn.CrossEntropyLoss()\n",
    "lr=3*(10**-4)\n",
    "optimizer = torch.optim.Adam(net.parameters(), lr=lr, weight_decay=0.01)\n",
    "for e in tqdm(range(400)):\n",
    "    net.train()    \n",
    "    for X, y in train_loader:\n",
    "        output = net.forward(X.to(device).float())\n",
    "        y = y.to(device)\n",
    "            \n",
    "        loss = criterion(output, y.long())\n",
    "        loss.backward()\n",
    "        optimizer.step()\n",
    "        net.zero_grad()\n",
    "\n",
    "    if e % 10 == 0:\n",
    "        net.eval()\n",
    "        output = []\n",
    "        output_val = []\n",
    "        labels_train = []\n",
    "        output_val = net.forward(X_test.float())\n",
    "        for X, y in train_loader:\n",
    "            output += net.forward(X.to(device).float()).tolist()\n",
    "            labels_train += y.tolist()\n",
    "            \n",
    "        output_val = net.forward(X_test.float())\n",
    "\n",
    "        print(e, \":\", \"val accuracy:\", \n",
    "                    accuracy_score(np.around(cr((output_val))[:, 1].cpu().detach().numpy()), y_test),\n",
    "                    \"train accuracy:\", accuracy_score(np.around(cr(torch.Tensor(output))[:, 1].detach().numpy()),labels_train))\n",
    "    \n",
    "net.eval()\n",
    "plot_fitting()\n",
    "find_point()\n",
    "    \n",
    "output_val = net.forward(X_test.to(device).float())\n",
    "acc.append(accuracy_score(np.around(cr((output_val))[:, 1].cpu().detach().numpy()), y_test))\n",
    "print(\"T\", ind[-1])"
   ]
  },
  {
   "cell_type": "code",
   "execution_count": 16,
   "metadata": {},
   "outputs": [
    {
     "data": {
      "text/plain": [
       "Net(\n",
       "  (conv): Conv2d(1, 1, kernel_size=[3, 3], stride=(1, 1))\n",
       "  (act1): ReLU()\n",
       "  (fc1): Linear(in_features=900, out_features=64, bias=True)\n",
       "  (act2): ReLU()\n",
       "  (drop): Dropout(p=0.05, inplace=False)\n",
       "  (fc2): Linear(in_features=64, out_features=2, bias=True)\n",
       ")"
      ]
     },
     "execution_count": 16,
     "metadata": {},
     "output_type": "execute_result"
    }
   ],
   "source": [
    "net"
   ]
  },
  {
   "cell_type": "code",
   "execution_count": null,
   "metadata": {},
   "outputs": [
    {
     "data": {
      "application/vnd.jupyter.widget-view+json": {
       "model_id": "936047a437d04de2a1934222f415d653",
       "version_major": 2,
       "version_minor": 0
      },
      "text/plain": [
       "HBox(children=(IntProgress(value=0, max=680000), HTML(value='')))"
      ]
     },
     "metadata": {},
     "output_type": "display_data"
    },
    {
     "name": "stdout",
     "output_type": "stream",
     "text": [
      "\n"
     ]
    },
    {
     "data": {
      "application/vnd.jupyter.widget-view+json": {
       "model_id": "630a52866159485389390b2b80965fbd",
       "version_major": 2,
       "version_minor": 0
      },
      "text/plain": [
       "HBox(children=(IntProgress(value=0, max=511700), HTML(value='')))"
      ]
     },
     "metadata": {},
     "output_type": "display_data"
    },
    {
     "name": "stdout",
     "output_type": "stream",
     "text": [
      "\n",
      "size: 16\n"
     ]
    },
    {
     "data": {
      "application/vnd.jupyter.widget-view+json": {
       "model_id": "5ef6f2bdb64a4d519dd037f18e051874",
       "version_major": 2,
       "version_minor": 0
      },
      "text/plain": [
       "HBox(children=(IntProgress(value=0, max=400), HTML(value='')))"
      ]
     },
     "metadata": {},
     "output_type": "display_data"
    },
    {
     "name": "stdout",
     "output_type": "stream",
     "text": [
      "0 : val accuracy: 0.11737541528239202 train accuracy: 0.470375\n"
     ]
    },
    {
     "name": "stderr",
     "output_type": "stream",
     "text": [
      "/opt/software/python/anaconda/2019_10/lib/python3.7/site-packages/ipykernel_launcher.py:54: UserWarning: Implicit dimension choice for softmax has been deprecated. Change the call to include dim=X as an argument.\n",
      "/opt/software/python/anaconda/2019_10/lib/python3.7/site-packages/ipykernel_launcher.py:64: UserWarning: Implicit dimension choice for softmax has been deprecated. Change the call to include dim=X as an argument.\n",
      "/opt/software/python/anaconda/2019_10/lib/python3.7/site-packages/ipykernel_launcher.py:65: UserWarning: Implicit dimension choice for softmax has been deprecated. Change the call to include dim=X as an argument.\n"
     ]
    },
    {
     "name": "stdout",
     "output_type": "stream",
     "text": [
      "10 : val accuracy: 0.3404983388704319 train accuracy: 0.60035\n",
      "20 : val accuracy: 0.4021262458471761 train accuracy: 0.620175\n",
      "30 : val accuracy: 0.6543189368770764 train accuracy: 0.756075\n",
      "40 : val accuracy: 0.7400332225913622 train accuracy: 0.78195\n",
      "50 : val accuracy: 0.792890365448505 train accuracy: 0.78545\n",
      "60 : val accuracy: 0.8188039867109634 train accuracy: 0.781075\n",
      "70 : val accuracy: 0.8308637873754153 train accuracy: 0.7784\n",
      "80 : val accuracy: 0.8307308970099668 train accuracy: 0.783675\n",
      "90 : val accuracy: 0.8224584717607973 train accuracy: 0.79265\n",
      "100 : val accuracy: 0.8152159468438538 train accuracy: 0.7997\n",
      "110 : val accuracy: 0.806843853820598 train accuracy: 0.804275\n",
      "120 : val accuracy: 0.8019601328903655 train accuracy: 0.806475\n",
      "130 : val accuracy: 0.7982392026578073 train accuracy: 0.808175\n",
      "\n"
     ]
    },
    {
     "name": "stderr",
     "output_type": "stream",
     "text": [
      "/opt/software/python/anaconda/2019_10/lib/python3.7/site-packages/ipykernel_launcher.py:4: UserWarning: Implicit dimension choice for softmax has been deprecated. Change the call to include dim=X as an argument.\n",
      "  after removing the cwd from sys.path.\n"
     ]
    },
    {
     "data": {
      "image/png": "[encoded data removed]",
      "text/plain": [
       "<Figure size 432x288 with 1 Axes>"
      ]
     },
     "metadata": {
      "needs_background": "light"
     },
     "output_type": "display_data"
    },
    {
     "name": "stdout",
     "output_type": "stream",
     "text": [
      "T 3.230000000000002\n"
     ]
    },
    {
     "name": "stderr",
     "output_type": "stream",
     "text": [
      "/opt/software/python/anaconda/2019_10/lib/python3.7/site-packages/ipykernel_launcher.py:6: UserWarning: Implicit dimension choice for softmax has been deprecated. Change the call to include dim=X as an argument.\n",
      "  \n",
      "/opt/software/python/anaconda/2019_10/lib/python3.7/site-packages/ipykernel_launcher.py:74: UserWarning: Implicit dimension choice for softmax has been deprecated. Change the call to include dim=X as an argument.\n"
     ]
    },
    {
     "data": {
      "application/vnd.jupyter.widget-view+json": {
       "model_id": "0a5cf6275a914d29a550d2ec0d65f019",
       "version_major": 2,
       "version_minor": 0
      },
      "text/plain": [
       "HBox(children=(IntProgress(value=0, max=1320000), HTML(value='')))"
      ]
     },
     "metadata": {},
     "output_type": "display_data"
    },
    {
     "name": "stdout",
     "output_type": "stream",
     "text": [
      "\n"
     ]
    },
    {
     "data": {
      "application/vnd.jupyter.widget-view+json": {
       "model_id": "9b9486fbd53f4a72b626a908f0db79b5",
       "version_major": 2,
       "version_minor": 0
      },
      "text/plain": [
       "HBox(children=(IntProgress(value=0, max=993300), HTML(value='')))"
      ]
     },
     "metadata": {},
     "output_type": "display_data"
    },
    {
     "name": "stdout",
     "output_type": "stream",
     "text": [
      "\n",
      "size: 32\n"
     ]
    },
    {
     "data": {
      "application/vnd.jupyter.widget-view+json": {
       "model_id": "144d1b2b59474f28897f548071a8baf8",
       "version_major": 2,
       "version_minor": 0
      },
      "text/plain": [
       "HBox(children=(IntProgress(value=0, max=400), HTML(value='')))"
      ]
     },
     "metadata": {},
     "output_type": "display_data"
    },
    {
     "name": "stdout",
     "output_type": "stream",
     "text": [
      "0 : val accuracy: 0.6206644518272425 train accuracy: 0.63265\n",
      "10 : val accuracy: 0.8304318936877076 train accuracy: 0.8242\n",
      "20 : val accuracy: 0.8714950166112957 train accuracy: 0.83165\n",
      "30 : val accuracy: 0.8808970099667774 train accuracy: 0.835475\n",
      "40 : val accuracy: 0.8778073089700996 train accuracy: 0.85245\n",
      "50 : val accuracy: 0.8688704318936877 train accuracy: 0.867975\n",
      "60 : val accuracy: 0.8630564784053156 train accuracy: 0.8731\n",
      "70 : val accuracy: 0.8606312292358804 train accuracy: 0.875175\n",
      "80 : val accuracy: 0.859468438538206 train accuracy: 0.876575\n",
      "90 : val accuracy: 0.8580066445182725 train accuracy: 0.87775\n"
     ]
    },
    {
     "data": {
      "image/png": "[encoded data removed]",
      "text/plain": [
       "<Figure size 432x288 with 1 Axes>"
      ]
     },
     "metadata": {
      "needs_background": "light"
     },
     "output_type": "display_data"
    },
    {
     "name": "stdout",
     "output_type": "stream",
     "text": [
      "T 3.340000000000002\n"
     ]
    },
    {
     "data": {
      "application/vnd.jupyter.widget-view+json": {
       "model_id": "97babd190a814f128370e888e6cffc0d",
       "version_major": 2,
       "version_minor": 0
      },
      "text/plain": [
       "HBox(children=(IntProgress(value=0, max=2600000), HTML(value='')))"
      ]
     },
     "metadata": {},
     "output_type": "display_data"
    },
    {
     "name": "stdout",
     "output_type": "stream",
     "text": [
      "\n"
     ]
    },
    {
     "data": {
      "application/vnd.jupyter.widget-view+json": {
       "model_id": "b3a1a8eeb1dc40998115ca38b0743eb2",
       "version_major": 2,
       "version_minor": 0
      },
      "text/plain": [
       "HBox(children=(IntProgress(value=0, max=1956500), HTML(value='')))"
      ]
     },
     "metadata": {},
     "output_type": "display_data"
    },
    {
     "name": "stdout",
     "output_type": "stream",
     "text": [
      "\n",
      "size: 64\n"
     ]
    },
    {
     "data": {
      "application/vnd.jupyter.widget-view+json": {
       "model_id": "2368df89fde74326bbd2926d642df884",
       "version_major": 2,
       "version_minor": 0
      },
      "text/plain": [
       "HBox(children=(IntProgress(value=0, max=400), HTML(value='')))"
      ]
     },
     "metadata": {},
     "output_type": "display_data"
    },
    {
     "name": "stdout",
     "output_type": "stream",
     "text": [
      "0 : val accuracy: 0.7446511627906977 train accuracy: 0.6332\n",
      "10 : val accuracy: 0.8246511627906977 train accuracy: 0.70505\n",
      "20 : val accuracy: 0.7490033222591362 train accuracy: 0.75295\n",
      "30 : val accuracy: 0.7281063122923588 train accuracy: 0.76505\n",
      "40 : val accuracy: 0.7077740863787375 train accuracy: 0.78195\n",
      "50 : val accuracy: 0.7086046511627907 train accuracy: 0.7967\n",
      "60 : val accuracy: 0.7266112956810631 train accuracy: 0.813375\n",
      "70 : val accuracy: 0.7544186046511628 train accuracy: 0.834525\n"
     ]
    },
    {
     "data": {
      "image/png": "[encoded data removed]",
      "text/plain": [
       "<Figure size 432x288 with 1 Axes>"
      ]
     },
     "metadata": {
      "needs_background": "light"
     },
     "output_type": "display_data"
    },
    {
     "name": "stdout",
     "output_type": "stream",
     "text": [
      "T 3.040000000000002\n"
     ]
    },
    {
     "data": {
      "application/vnd.jupyter.widget-view+json": {
       "model_id": "26227d2e90374afeb0c116362b32d7de",
       "version_major": 2,
       "version_minor": 0
      },
      "text/plain": [
       "HBox(children=(IntProgress(value=0, max=5160000), HTML(value='')))"
      ]
     },
     "metadata": {},
     "output_type": "display_data"
    }
   ],
   "source": [
    "ind = []\n",
    "left = []\n",
    "right = []\n",
    "acc = []\n",
    "size = 16\n",
    "while size <= 128:\n",
    "    # load\n",
    "    x = np.arange(1, 3.5, 0.0625)\n",
    "    X_train, y_train = load(size, \"train\", 40000)\n",
    "    X_test, y_test = load(size, \"test\", 30100)\n",
    "            \n",
    "    print(\"size:\", size)\n",
    "    \n",
    "    X_test_time = np.arange(1, 4, 0.01)\n",
    "    \n",
    "    X_test = np.array(X_test)\n",
    "    X_test = X_test.reshape(X_test.shape[0], 1, size, size)\n",
    "    X_test = torch.from_numpy(X_test).to(device)\n",
    "    y_test = np.array(y_test)\n",
    "    \n",
    "    X_train = np.array(X_train)\n",
    "    X_train = X_train.reshape(X_train.shape[0], 1, size, size)\n",
    "    X_train = torch.from_numpy(X_train).to(device)\n",
    "    y_train = torch.from_numpy(np.array(y_train)).to(device)\n",
    "    train_data = TensorDataset(X_train, y_train)\n",
    "    \n",
    "    torch.cuda.empty_cache()\n",
    "    #train\n",
    "    net = Net(size)\n",
    "    net.to(device)\n",
    "    net.train()\n",
    "    \n",
    "    cr = torch.nn.Softmax()\n",
    "    criterion = torch.nn.CrossEntropyLoss()\n",
    "    lr=3*(10**-4)\n",
    "    optimizer = torch.optim.Adam(net.parameters(), lr=lr, weight_decay=0.01)\n",
    "    early_stoping = 5\n",
    "    last_er = -1\n",
    "    for e in tqdm(range(400)):\n",
    "        net.train()    \n",
    "        output = net.forward(X_train.float())\n",
    "        loss = criterion(output, y_train.long())\n",
    "        loss.backward()\n",
    "        optimizer.step()\n",
    "        net.zero_grad()\n",
    "\n",
    "        if e % 10 == 0:\n",
    "            net.eval()\n",
    "            output = []\n",
    "            output_val = []\n",
    "            labels_train = []\n",
    "            output = net.forward(X_train.float())\n",
    "            output_val = net.forward(X_test.float())\n",
    "            er = accuracy_score(np.around(cr((output_val))[:, 1].cpu().detach().numpy()), y_test)\n",
    "            \n",
    "            if last_er >= er:\n",
    "                early_stoping -= 1\n",
    "            else:\n",
    "                early_stoping = 5\n",
    "            last_er = er\n",
    "\n",
    "            print(e, \":\", \"val accuracy:\", \n",
    "                    accuracy_score(np.around(cr((output_val))[:, 1].cpu().detach().numpy()), y_test),\n",
    "                    \"train accuracy:\", accuracy_score(np.around(cr(output)[:, 1].cpu().detach().numpy()), y_train.cpu().detach().numpy()))\n",
    "        \n",
    "        if early_stoping < 0:\n",
    "            break\n",
    "    net.eval()\n",
    "    plot_fitting()\n",
    "    find_point()\n",
    "    \n",
    "    output_val = net.forward(X_test.to(device).float())\n",
    "    acc.append(accuracy_score(np.around(cr((output_val))[:, 1].cpu().detach().numpy()), y_test))\n",
    "    print(\"T\", ind[-1])\n",
    "    size *=2\n"
   ]
  },
  {
   "cell_type": "code",
   "execution_count": 11,
   "metadata": {},
   "outputs": [
    {
     "data": {
      "text/plain": [
       "10"
      ]
     },
     "execution_count": 11,
     "metadata": {},
     "output_type": "execute_result"
    }
   ],
   "source": [
    "early_stoping"
   ]
  }
 ],
 "metadata": {
  "kernelspec": {
   "display_name": "Python 3",
   "language": "python",
   "name": "python3"
  },
  "language_info": {
   "codemirror_mode": {
    "name": "ipython",
    "version": 3
   },
   "file_extension": ".py",
   "mimetype": "text/x-python",
   "name": "python",
   "nbconvert_exporter": "python",
   "pygments_lexer": "ipython3",
   "version": "3.7.4"
  }
 },
 "nbformat": 4,
 "nbformat_minor": 2
}
