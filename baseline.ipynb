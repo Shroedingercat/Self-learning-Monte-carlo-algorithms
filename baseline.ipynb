{
 "cells": [
  {
   "cell_type": "code",
   "execution_count": 1,
   "metadata": {},
   "outputs": [],
   "source": [
    "import os\n",
    "import torch\n",
    "import pandas as pd\n",
    "import numpy as np\n",
    "import matplotlib.pyplot as plt\n",
    "#os.chdir(\"C:/Users/Nikita/Documents/GitHub/Self-learning-Monte-carlo-algorithms\")\n",
    "#os.chdir(\"C:/aut/Self-learning-Monte-carlo-algorithms\")\n",
    "import Ising\n",
    "from torch import nn\n",
    "from torch.nn import functional as F\n",
    "from torch.optim.lr_scheduler import StepLR, ReduceLROnPlateau\n",
    "\n",
    "from sklearn.metrics import accuracy_score\n",
    "from tqdm import tqdm_notebook as tqdm\n",
    "from numba import jit\n",
    "from sklearn.model_selection import train_test_split\n",
    "from sklearn.metrics import accuracy_score\n",
    "from sklearn.linear_model import LinearRegression\n",
    "from torch.utils.data import DataLoader, TensorDataset\n",
    "%matplotlib inline\n",
    "plt.style.use('ggplot')"
   ]
  },
  {
   "cell_type": "code",
   "execution_count": 2,
   "metadata": {},
   "outputs": [
    {
     "name": "stdout",
     "output_type": "stream",
     "text": [
      "Sat Apr  4 15:11:20 2020       \n",
      "+-----------------------------------------------------------------------------+\n",
      "| NVIDIA-SMI 440.33.01    Driver Version: 440.33.01    CUDA Version: 10.2     |\n",
      "|-------------------------------+----------------------+----------------------+\n",
      "| GPU  Name        Persistence-M| Bus-Id        Disp.A | Volatile Uncorr. ECC |\n",
      "| Fan  Temp  Perf  Pwr:Usage/Cap|         Memory-Usage | GPU-Util  Compute M. |\n",
      "|===============================+======================+======================|\n",
      "|   0  Tesla V100-SXM2...  On   | 00000000:1A:00.0 Off |                    0 |\n",
      "| N/A   61C    P0   102W / 300W |   1536MiB / 32510MiB |     55%      Default |\n",
      "+-------------------------------+----------------------+----------------------+\n",
      "|   1  Tesla V100-SXM2...  On   | 00000000:1C:00.0 Off |                    0 |\n",
      "| N/A   32C    P0    42W / 300W |     11MiB / 32510MiB |      0%      Default |\n",
      "+-------------------------------+----------------------+----------------------+\n",
      "|   2  Tesla V100-SXM2...  On   | 00000000:1D:00.0 Off |                    0 |\n",
      "| N/A   30C    P0    44W / 300W |     11MiB / 32510MiB |      0%      Default |\n",
      "+-------------------------------+----------------------+----------------------+\n",
      "|   3  Tesla V100-SXM2...  On   | 00000000:1E:00.0 Off |                    0 |\n",
      "| N/A   35C    P0    42W / 300W |     11MiB / 32510MiB |      0%      Default |\n",
      "+-------------------------------+----------------------+----------------------+\n",
      "                                                                               \n",
      "+-----------------------------------------------------------------------------+\n",
      "| Processes:                                                       GPU Memory |\n",
      "|  GPU       PID   Type   Process name                             Usage      |\n",
      "|=============================================================================|\n",
      "|    0    156621      C   gmx_mpi                                      505MiB |\n",
      "|    0    427353      C   gmx_mpi                                      509MiB |\n",
      "|    0    427590      C   gmx_mpi                                      509MiB |\n",
      "+-----------------------------------------------------------------------------+\n"
     ]
    }
   ],
   "source": [
    "!nvidia-smi"
   ]
  },
  {
   "cell_type": "code",
   "execution_count": 3,
   "metadata": {},
   "outputs": [],
   "source": [
    "class Net(torch.nn.Module):\n",
    "    def __init__(self, input_size=10*10, hidden_size=100):\n",
    "        super().__init__()\n",
    "        self.fc1 = torch.nn.Linear(input_size, hidden_size)\n",
    "        self.act = torch.nn.ReLU()\n",
    "        #self.drop = torch.nn.Dropout(0.1)\n",
    "        self.fc2 = torch.nn.Linear(hidden_size, 2)\n",
    "\n",
    "    def forward(self, x):\n",
    "        x = self.fc1(x)\n",
    "        x = self.act(x)\n",
    "        #x = self.drop(x)\n",
    "        x = self.fc2(x)\n",
    "        return x"
   ]
  },
  {
   "cell_type": "code",
   "execution_count": 17,
   "metadata": {},
   "outputs": [],
   "source": [
    "def find_point():\n",
    "    global ind\n",
    "    clouse = -1\n",
    "    val1 = float(\"inf\")\n",
    "    output_val = net.forward(X_test.float())\n",
    "    output_val_soft = cr(output_val).cpu().detach().numpy()\n",
    "    \n",
    "    y = []\n",
    "    for i in range(X_test_time.shape[0]):\n",
    "        mn = output_val_soft[:, 1][100*i:100*(i+1)].mean()\n",
    "        y.append([X_test_time[i], mn])\n",
    "    y.sort(key = lambda x: x[1])\n",
    "    \n",
    "    val = float(\"inf\")\n",
    "    for i in range(len(y)):\n",
    "        mn = y[i][1]\n",
    "        if abs(mn - 0.5) < abs(val - 0.5):\n",
    "            clouse = i \n",
    "            val = mn\n",
    "            \n",
    "    print(val)\n",
    "    print(y[clouse-1][0])\n",
    "    print(y[clouse+1][0] if clouse+1 != len(y) else y[clouse][0])\n",
    "    print(y[clouse][0])"
   ]
  },
  {
   "cell_type": "markdown",
   "metadata": {},
   "source": [
    "# Loadind data and neural network training"
   ]
  },
  {
   "cell_type": "code",
   "execution_count": 5,
   "metadata": {},
   "outputs": [],
   "source": [
    "def load(size, sample, n_obj):\n",
    "    if sample == \"train\":\n",
    "        X_path = \"/home/nasorokin11/CPP/squre/size{}_min1_max3.5_step0.0625_batch1000_re100_N10000\".format(str(size))\n",
    "        y_path = \"/home/nasorokin11/CPP/squre/labels_size{}_min1_max3.5_step0.0625_batch1000_re100_N10000\".format(str(size))\n",
    "    else:\n",
    "        X_path = \"/home/nasorokin11/CPP/size{}_min1_max3.5_step0.0625_batch1000_re100_N10000_triangular\".format(str(size))\n",
    "        y_path = \"/home/nasorokin11/CPP/labels_size{}_min1_max3.5_step0.0625_batch1000_re100_N10000_triangular\".format(str(size))\n",
    "        \n",
    "    with open(X_path) as fl:\n",
    "            lines = fl.readlines()\n",
    "    X_test = np.zeros((n_obj, size, size), dtype = np.int8)\n",
    "    curr = 0\n",
    "    for i in tqdm(range(len(lines))):\n",
    "        if lines[i] == ';\\n':\n",
    "            curr += 1\n",
    "        else:\n",
    "            X_test[curr] = np.array(list(map(lambda x: int(x), lines[i][:-2].split(\" \"))))\n",
    "        \n",
    "    del lines\n",
    "        \n",
    "    with open(y_path) as fl:\n",
    "        lines = fl.readlines()\n",
    "    y_test = []\n",
    "    for i in range(len(lines)):\n",
    "        y_test.append(int(lines[i][0]))\n",
    "    return X_test, y_test"
   ]
  },
  {
   "cell_type": "code",
   "execution_count": 6,
   "metadata": {},
   "outputs": [],
   "source": [
    "def plot_fitting():\n",
    "    net.eval()\n",
    "    output_val = net.forward(X_test.to(device).float())\n",
    "    output_val_soft = cr(output_val).cpu().detach().numpy()\n",
    "    x_line = np.arange(0,1.2,0.2)\n",
    "    output_0 = []\n",
    "    for i in range(X_test_time.shape[0]):\n",
    "        output_0.append(output_val_soft[:, 0][100*i:100*(i+1)].mean())\n",
    "    plt.plot(X_test_time, output_0, '-.^g', alpha=0.5)\n",
    "    output_1 = []\n",
    "    for i in range(X_test_time.shape[0]):\n",
    "        output_1.append(output_val_soft[:, 1][100*i:100*(i+1)].mean())\n",
    "    plt.plot(X_test_time, output_1, '-.^b', alpha=0.5)\n",
    "    plt.plot([3.65]*x_line.shape[0], x_line, '-')\n",
    "    plt.show()"
   ]
  },
  {
   "cell_type": "code",
   "execution_count": 7,
   "metadata": {},
   "outputs": [],
   "source": [
    "device = torch.device('cuda:0' if torch.cuda.is_available() else 'cpu')"
   ]
  },
  {
   "cell_type": "code",
   "execution_count": null,
   "metadata": {},
   "outputs": [],
   "source": [
    "# load\n",
    "size = 256\n",
    "x = np.arange(1, 3.5, 0.0625)\n",
    "X_train, y_train = load(size, \"train\", 40000)\n",
    "X_test, y_test = load(size, \"test\", 30100)\n",
    "            \n",
    "print(\"size:\", size)\n",
    "    \n",
    "X_test_time = np.arange(1, 4, 0.01)\n",
    "    \n",
    "X_test = np.array(X_test)\n",
    "X_test = X_test.reshape(X_test.shape[0], size*size)\n",
    "X_test = torch.from_numpy(X_test).to(device)\n",
    "y_test = np.array(y_test)\n",
    "    \n",
    "X_train = np.array(X_train)\n",
    "X_train = X_train.reshape(X_train.shape[0], size*size)\n",
    "X_train = torch.from_numpy(X_train)\n",
    "y_train = torch.from_numpy(np.array(y_train))\n",
    "train_data = TensorDataset(X_train, y_train)\n",
    "# dataloaders\n",
    "train_data = TensorDataset(X_train, y_train)\n",
    "batch_size = 16384\n",
    "\n",
    "train_loader = DataLoader(train_data, batch_size=batch_size, shuffle=True)\n",
    "\n",
    "torch.cuda.empty_cache()\n",
    "#train\n"
   ]
  },
  {
   "cell_type": "code",
   "execution_count": 15,
   "metadata": {},
   "outputs": [
    {
     "data": {
      "application/vnd.jupyter.widget-view+json": {
       "model_id": "b37bd07440504312814c5f5ff194a523",
       "version_major": 2,
       "version_minor": 0
      },
      "text/plain": [
       "HBox(children=(IntProgress(value=0, max=400), HTML(value='')))"
      ]
     },
     "metadata": {},
     "output_type": "display_data"
    },
    {
     "name": "stderr",
     "output_type": "stream",
     "text": [
      "/opt/software/python/anaconda/2019_10/lib/python3.7/site-packages/ipykernel_launcher.py:33: UserWarning: Implicit dimension choice for softmax has been deprecated. Change the call to include dim=X as an argument.\n",
      "/opt/software/python/anaconda/2019_10/lib/python3.7/site-packages/ipykernel_launcher.py:34: UserWarning: Implicit dimension choice for softmax has been deprecated. Change the call to include dim=X as an argument.\n"
     ]
    },
    {
     "name": "stdout",
     "output_type": "stream",
     "text": [
      "0 : val accuracy: 0.9086710963455149 train accuracy: 0.73575\n",
      "10 : val accuracy: 0.9176744186046512 train accuracy: 0.952525\n",
      "20 : val accuracy: 0.9246843853820598 train accuracy: 0.972375\n",
      "30 : val accuracy: 0.9317275747508306 train accuracy: 0.9793\n",
      "40 : val accuracy: 0.9354152823920265 train accuracy: 0.98315\n",
      "50 : val accuracy: 0.9374750830564784 train accuracy: 0.985125\n",
      "60 : val accuracy: 0.9386710963455149 train accuracy: 0.987175\n",
      "70 : val accuracy: 0.9410963455149501 train accuracy: 0.989125\n",
      "80 : val accuracy: 0.9413621262458471 train accuracy: 0.990625\n",
      "90 : val accuracy: 0.9402657807308971 train accuracy: 0.992\n",
      "100 : val accuracy: 0.9415282392026578 train accuracy: 0.99315\n",
      "110 : val accuracy: 0.9423920265780731 train accuracy: 0.994275\n",
      "120 : val accuracy: 0.9419933554817276 train accuracy: 0.9951\n",
      "130 : val accuracy: 0.9424252491694353 train accuracy: 0.9962\n",
      "140 : val accuracy: 0.9426578073089701 train accuracy: 0.996975\n",
      "150 : val accuracy: 0.9428571428571428 train accuracy: 0.9973\n",
      "160 : val accuracy: 0.9431229235880398 train accuracy: 0.998125\n",
      "170 : val accuracy: 0.9426910299003323 train accuracy: 0.99835\n"
     ]
    },
    {
     "ename": "KeyboardInterrupt",
     "evalue": "",
     "output_type": "error",
     "traceback": [
      "\u001b[0;31m---------------------------------------------------------------------------\u001b[0m",
      "\u001b[0;31mKeyboardInterrupt\u001b[0m                         Traceback (most recent call last)",
      "\u001b[0;32m<ipython-input-15-fe35b280a542>\u001b[0m in \u001b[0;36m<module>\u001b[0;34m\u001b[0m\n\u001b[1;32m      9\u001b[0m \u001b[0;32mfor\u001b[0m \u001b[0me\u001b[0m \u001b[0;32min\u001b[0m \u001b[0mtqdm\u001b[0m\u001b[0;34m(\u001b[0m\u001b[0mrange\u001b[0m\u001b[0;34m(\u001b[0m\u001b[0;36m400\u001b[0m\u001b[0;34m)\u001b[0m\u001b[0;34m)\u001b[0m\u001b[0;34m:\u001b[0m\u001b[0;34m\u001b[0m\u001b[0;34m\u001b[0m\u001b[0m\n\u001b[1;32m     10\u001b[0m     \u001b[0mnet\u001b[0m\u001b[0;34m.\u001b[0m\u001b[0mtrain\u001b[0m\u001b[0;34m(\u001b[0m\u001b[0;34m)\u001b[0m\u001b[0;34m\u001b[0m\u001b[0;34m\u001b[0m\u001b[0m\n\u001b[0;32m---> 11\u001b[0;31m     \u001b[0;32mfor\u001b[0m \u001b[0mX\u001b[0m\u001b[0;34m,\u001b[0m \u001b[0my\u001b[0m \u001b[0;32min\u001b[0m \u001b[0mtrain_loader\u001b[0m\u001b[0;34m:\u001b[0m\u001b[0;34m\u001b[0m\u001b[0;34m\u001b[0m\u001b[0m\n\u001b[0m\u001b[1;32m     12\u001b[0m         \u001b[0moutput\u001b[0m \u001b[0;34m=\u001b[0m \u001b[0mnet\u001b[0m\u001b[0;34m.\u001b[0m\u001b[0mforward\u001b[0m\u001b[0;34m(\u001b[0m\u001b[0mX\u001b[0m\u001b[0;34m.\u001b[0m\u001b[0mto\u001b[0m\u001b[0;34m(\u001b[0m\u001b[0mdevice\u001b[0m\u001b[0;34m)\u001b[0m\u001b[0;34m.\u001b[0m\u001b[0mfloat\u001b[0m\u001b[0;34m(\u001b[0m\u001b[0;34m)\u001b[0m\u001b[0;34m)\u001b[0m\u001b[0;34m\u001b[0m\u001b[0;34m\u001b[0m\u001b[0m\n\u001b[1;32m     13\u001b[0m         \u001b[0my\u001b[0m \u001b[0;34m=\u001b[0m \u001b[0my\u001b[0m\u001b[0;34m.\u001b[0m\u001b[0mto\u001b[0m\u001b[0;34m(\u001b[0m\u001b[0mdevice\u001b[0m\u001b[0;34m)\u001b[0m\u001b[0;34m\u001b[0m\u001b[0;34m\u001b[0m\u001b[0m\n",
      "\u001b[0;32m/opt/software/python/anaconda/2019_10/lib/python3.7/site-packages/torch/utils/data/dataloader.py\u001b[0m in \u001b[0;36m__next__\u001b[0;34m(self)\u001b[0m\n\u001b[1;32m    344\u001b[0m     \u001b[0;32mdef\u001b[0m \u001b[0m__next__\u001b[0m\u001b[0;34m(\u001b[0m\u001b[0mself\u001b[0m\u001b[0;34m)\u001b[0m\u001b[0;34m:\u001b[0m\u001b[0;34m\u001b[0m\u001b[0;34m\u001b[0m\u001b[0m\n\u001b[1;32m    345\u001b[0m         \u001b[0mindex\u001b[0m \u001b[0;34m=\u001b[0m \u001b[0mself\u001b[0m\u001b[0;34m.\u001b[0m\u001b[0m_next_index\u001b[0m\u001b[0;34m(\u001b[0m\u001b[0;34m)\u001b[0m  \u001b[0;31m# may raise StopIteration\u001b[0m\u001b[0;34m\u001b[0m\u001b[0;34m\u001b[0m\u001b[0m\n\u001b[0;32m--> 346\u001b[0;31m         \u001b[0mdata\u001b[0m \u001b[0;34m=\u001b[0m \u001b[0mself\u001b[0m\u001b[0;34m.\u001b[0m\u001b[0m_dataset_fetcher\u001b[0m\u001b[0;34m.\u001b[0m\u001b[0mfetch\u001b[0m\u001b[0;34m(\u001b[0m\u001b[0mindex\u001b[0m\u001b[0;34m)\u001b[0m  \u001b[0;31m# may raise StopIteration\u001b[0m\u001b[0;34m\u001b[0m\u001b[0;34m\u001b[0m\u001b[0m\n\u001b[0m\u001b[1;32m    347\u001b[0m         \u001b[0;32mif\u001b[0m \u001b[0mself\u001b[0m\u001b[0;34m.\u001b[0m\u001b[0m_pin_memory\u001b[0m\u001b[0;34m:\u001b[0m\u001b[0;34m\u001b[0m\u001b[0;34m\u001b[0m\u001b[0m\n\u001b[1;32m    348\u001b[0m             \u001b[0mdata\u001b[0m \u001b[0;34m=\u001b[0m \u001b[0m_utils\u001b[0m\u001b[0;34m.\u001b[0m\u001b[0mpin_memory\u001b[0m\u001b[0;34m.\u001b[0m\u001b[0mpin_memory\u001b[0m\u001b[0;34m(\u001b[0m\u001b[0mdata\u001b[0m\u001b[0;34m)\u001b[0m\u001b[0;34m\u001b[0m\u001b[0;34m\u001b[0m\u001b[0m\n",
      "\u001b[0;32m/opt/software/python/anaconda/2019_10/lib/python3.7/site-packages/torch/utils/data/_utils/fetch.py\u001b[0m in \u001b[0;36mfetch\u001b[0;34m(self, possibly_batched_index)\u001b[0m\n\u001b[1;32m     45\u001b[0m         \u001b[0;32melse\u001b[0m\u001b[0;34m:\u001b[0m\u001b[0;34m\u001b[0m\u001b[0;34m\u001b[0m\u001b[0m\n\u001b[1;32m     46\u001b[0m             \u001b[0mdata\u001b[0m \u001b[0;34m=\u001b[0m \u001b[0mself\u001b[0m\u001b[0;34m.\u001b[0m\u001b[0mdataset\u001b[0m\u001b[0;34m[\u001b[0m\u001b[0mpossibly_batched_index\u001b[0m\u001b[0;34m]\u001b[0m\u001b[0;34m\u001b[0m\u001b[0;34m\u001b[0m\u001b[0m\n\u001b[0;32m---> 47\u001b[0;31m         \u001b[0;32mreturn\u001b[0m \u001b[0mself\u001b[0m\u001b[0;34m.\u001b[0m\u001b[0mcollate_fn\u001b[0m\u001b[0;34m(\u001b[0m\u001b[0mdata\u001b[0m\u001b[0;34m)\u001b[0m\u001b[0;34m\u001b[0m\u001b[0;34m\u001b[0m\u001b[0m\n\u001b[0m",
      "\u001b[0;32m/opt/software/python/anaconda/2019_10/lib/python3.7/site-packages/torch/utils/data/_utils/collate.py\u001b[0m in \u001b[0;36mdefault_collate\u001b[0;34m(batch)\u001b[0m\n\u001b[1;32m     77\u001b[0m     \u001b[0;32melif\u001b[0m \u001b[0misinstance\u001b[0m\u001b[0;34m(\u001b[0m\u001b[0melem\u001b[0m\u001b[0;34m,\u001b[0m \u001b[0mcontainer_abcs\u001b[0m\u001b[0;34m.\u001b[0m\u001b[0mSequence\u001b[0m\u001b[0;34m)\u001b[0m\u001b[0;34m:\u001b[0m\u001b[0;34m\u001b[0m\u001b[0;34m\u001b[0m\u001b[0m\n\u001b[1;32m     78\u001b[0m         \u001b[0mtransposed\u001b[0m \u001b[0;34m=\u001b[0m \u001b[0mzip\u001b[0m\u001b[0;34m(\u001b[0m\u001b[0;34m*\u001b[0m\u001b[0mbatch\u001b[0m\u001b[0;34m)\u001b[0m\u001b[0;34m\u001b[0m\u001b[0;34m\u001b[0m\u001b[0m\n\u001b[0;32m---> 79\u001b[0;31m         \u001b[0;32mreturn\u001b[0m \u001b[0;34m[\u001b[0m\u001b[0mdefault_collate\u001b[0m\u001b[0;34m(\u001b[0m\u001b[0msamples\u001b[0m\u001b[0;34m)\u001b[0m \u001b[0;32mfor\u001b[0m \u001b[0msamples\u001b[0m \u001b[0;32min\u001b[0m \u001b[0mtransposed\u001b[0m\u001b[0;34m]\u001b[0m\u001b[0;34m\u001b[0m\u001b[0;34m\u001b[0m\u001b[0m\n\u001b[0m\u001b[1;32m     80\u001b[0m \u001b[0;34m\u001b[0m\u001b[0m\n\u001b[1;32m     81\u001b[0m     \u001b[0;32mraise\u001b[0m \u001b[0mTypeError\u001b[0m\u001b[0;34m(\u001b[0m\u001b[0mdefault_collate_err_msg_format\u001b[0m\u001b[0;34m.\u001b[0m\u001b[0mformat\u001b[0m\u001b[0;34m(\u001b[0m\u001b[0melem_type\u001b[0m\u001b[0;34m)\u001b[0m\u001b[0;34m)\u001b[0m\u001b[0;34m\u001b[0m\u001b[0;34m\u001b[0m\u001b[0m\n",
      "\u001b[0;32m/opt/software/python/anaconda/2019_10/lib/python3.7/site-packages/torch/utils/data/_utils/collate.py\u001b[0m in \u001b[0;36m<listcomp>\u001b[0;34m(.0)\u001b[0m\n\u001b[1;32m     77\u001b[0m     \u001b[0;32melif\u001b[0m \u001b[0misinstance\u001b[0m\u001b[0;34m(\u001b[0m\u001b[0melem\u001b[0m\u001b[0;34m,\u001b[0m \u001b[0mcontainer_abcs\u001b[0m\u001b[0;34m.\u001b[0m\u001b[0mSequence\u001b[0m\u001b[0;34m)\u001b[0m\u001b[0;34m:\u001b[0m\u001b[0;34m\u001b[0m\u001b[0;34m\u001b[0m\u001b[0m\n\u001b[1;32m     78\u001b[0m         \u001b[0mtransposed\u001b[0m \u001b[0;34m=\u001b[0m \u001b[0mzip\u001b[0m\u001b[0;34m(\u001b[0m\u001b[0;34m*\u001b[0m\u001b[0mbatch\u001b[0m\u001b[0;34m)\u001b[0m\u001b[0;34m\u001b[0m\u001b[0;34m\u001b[0m\u001b[0m\n\u001b[0;32m---> 79\u001b[0;31m         \u001b[0;32mreturn\u001b[0m \u001b[0;34m[\u001b[0m\u001b[0mdefault_collate\u001b[0m\u001b[0;34m(\u001b[0m\u001b[0msamples\u001b[0m\u001b[0;34m)\u001b[0m \u001b[0;32mfor\u001b[0m \u001b[0msamples\u001b[0m \u001b[0;32min\u001b[0m \u001b[0mtransposed\u001b[0m\u001b[0;34m]\u001b[0m\u001b[0;34m\u001b[0m\u001b[0;34m\u001b[0m\u001b[0m\n\u001b[0m\u001b[1;32m     80\u001b[0m \u001b[0;34m\u001b[0m\u001b[0m\n\u001b[1;32m     81\u001b[0m     \u001b[0;32mraise\u001b[0m \u001b[0mTypeError\u001b[0m\u001b[0;34m(\u001b[0m\u001b[0mdefault_collate_err_msg_format\u001b[0m\u001b[0;34m.\u001b[0m\u001b[0mformat\u001b[0m\u001b[0;34m(\u001b[0m\u001b[0melem_type\u001b[0m\u001b[0;34m)\u001b[0m\u001b[0;34m)\u001b[0m\u001b[0;34m\u001b[0m\u001b[0;34m\u001b[0m\u001b[0m\n",
      "\u001b[0;32m/opt/software/python/anaconda/2019_10/lib/python3.7/site-packages/torch/utils/data/_utils/collate.py\u001b[0m in \u001b[0;36mdefault_collate\u001b[0;34m(batch)\u001b[0m\n\u001b[1;32m     53\u001b[0m             \u001b[0mstorage\u001b[0m \u001b[0;34m=\u001b[0m \u001b[0melem\u001b[0m\u001b[0;34m.\u001b[0m\u001b[0mstorage\u001b[0m\u001b[0;34m(\u001b[0m\u001b[0;34m)\u001b[0m\u001b[0;34m.\u001b[0m\u001b[0m_new_shared\u001b[0m\u001b[0;34m(\u001b[0m\u001b[0mnumel\u001b[0m\u001b[0;34m)\u001b[0m\u001b[0;34m\u001b[0m\u001b[0;34m\u001b[0m\u001b[0m\n\u001b[1;32m     54\u001b[0m             \u001b[0mout\u001b[0m \u001b[0;34m=\u001b[0m \u001b[0melem\u001b[0m\u001b[0;34m.\u001b[0m\u001b[0mnew\u001b[0m\u001b[0;34m(\u001b[0m\u001b[0mstorage\u001b[0m\u001b[0;34m)\u001b[0m\u001b[0;34m\u001b[0m\u001b[0;34m\u001b[0m\u001b[0m\n\u001b[0;32m---> 55\u001b[0;31m         \u001b[0;32mreturn\u001b[0m \u001b[0mtorch\u001b[0m\u001b[0;34m.\u001b[0m\u001b[0mstack\u001b[0m\u001b[0;34m(\u001b[0m\u001b[0mbatch\u001b[0m\u001b[0;34m,\u001b[0m \u001b[0;36m0\u001b[0m\u001b[0;34m,\u001b[0m \u001b[0mout\u001b[0m\u001b[0;34m=\u001b[0m\u001b[0mout\u001b[0m\u001b[0;34m)\u001b[0m\u001b[0;34m\u001b[0m\u001b[0;34m\u001b[0m\u001b[0m\n\u001b[0m\u001b[1;32m     56\u001b[0m     \u001b[0;32melif\u001b[0m \u001b[0melem_type\u001b[0m\u001b[0;34m.\u001b[0m\u001b[0m__module__\u001b[0m \u001b[0;34m==\u001b[0m \u001b[0;34m'numpy'\u001b[0m \u001b[0;32mand\u001b[0m \u001b[0melem_type\u001b[0m\u001b[0;34m.\u001b[0m\u001b[0m__name__\u001b[0m \u001b[0;34m!=\u001b[0m \u001b[0;34m'str_'\u001b[0m\u001b[0;31m \u001b[0m\u001b[0;31m\\\u001b[0m\u001b[0;34m\u001b[0m\u001b[0;34m\u001b[0m\u001b[0m\n\u001b[1;32m     57\u001b[0m             \u001b[0;32mand\u001b[0m \u001b[0melem_type\u001b[0m\u001b[0;34m.\u001b[0m\u001b[0m__name__\u001b[0m \u001b[0;34m!=\u001b[0m \u001b[0;34m'string_'\u001b[0m\u001b[0;34m:\u001b[0m\u001b[0;34m\u001b[0m\u001b[0;34m\u001b[0m\u001b[0m\n",
      "\u001b[0;31mKeyboardInterrupt\u001b[0m: "
     ]
    }
   ],
   "source": [
    "net = Net(size*size)\n",
    "net.to(device)\n",
    "net.train()\n",
    "    \n",
    "cr = torch.nn.Softmax()\n",
    "criterion = torch.nn.CrossEntropyLoss()\n",
    "lr=3*(10**-4)\n",
    "optimizer = torch.optim.Adam(net.parameters(), lr=lr, weight_decay=0.01)\n",
    "for e in tqdm(range(400)):\n",
    "    net.train()    \n",
    "    for X, y in train_loader:\n",
    "        output = net.forward(X.to(device).float())\n",
    "        y = y.to(device)\n",
    "            \n",
    "        loss = criterion(output, y.long())\n",
    "        loss.backward()\n",
    "        optimizer.step()\n",
    "        net.zero_grad()\n",
    "\n",
    "    if e % 10 == 0:\n",
    "        net.eval()\n",
    "        output = []\n",
    "        output_val = []\n",
    "        labels_train = []\n",
    "        output_val = net.forward(X_test.float())\n",
    "        for X, y in train_loader:\n",
    "            output += net.forward(X.to(device).float()).tolist()\n",
    "            labels_train += y.tolist()\n",
    "            \n",
    "        output_val = net.forward(X_test.float())\n",
    "\n",
    "        print(e, \":\", \"val accuracy:\", \n",
    "                    accuracy_score(np.around(cr((output_val))[:, 1].cpu().detach().numpy()), y_test),\n",
    "                    \"train accuracy:\", accuracy_score(np.around(cr(torch.Tensor(output))[:, 1].detach().numpy()),labels_train))\n",
    "    \n",
    "net.eval()\n",
    "plot_fitting()\n",
    "find_point()\n",
    "    \n",
    "output_val = net.forward(X_test.to(device).float())\n",
    "acc.append(accuracy_score(np.around(cr((output_val))[:, 1].cpu().detach().numpy()), y_test))\n",
    "print(\"T\", ind[-1])"
   ]
  },
  {
   "cell_type": "code",
   "execution_count": 20,
   "metadata": {},
   "outputs": [
    {
     "name": "stderr",
     "output_type": "stream",
     "text": [
      "/opt/software/python/anaconda/2019_10/lib/python3.7/site-packages/ipykernel_launcher.py:4: UserWarning: Implicit dimension choice for softmax has been deprecated. Change the call to include dim=X as an argument.\n",
      "  after removing the cwd from sys.path.\n"
     ]
    },
    {
     "data": {
      "image/png": "[encoded data removed]",
      "text/plain": [
       "<Figure size 432x288 with 1 Axes>"
      ]
     },
     "metadata": {
      "needs_background": "light"
     },
     "output_type": "display_data"
    },
    {
     "name": "stderr",
     "output_type": "stream",
     "text": [
      "/opt/software/python/anaconda/2019_10/lib/python3.7/site-packages/ipykernel_launcher.py:6: UserWarning: Implicit dimension choice for softmax has been deprecated. Change the call to include dim=X as an argument.\n",
      "  \n"
     ]
    },
    {
     "name": "stdout",
     "output_type": "stream",
     "text": [
      "0.47374743\n",
      "3.6700000000000026\n",
      "3.5900000000000025\n",
      "3.7100000000000026\n",
      "0.9429900332225913\n"
     ]
    }
   ],
   "source": [
    "net.eval()\n",
    "plot_fitting()\n",
    "find_point()\n",
    "    \n",
    "output_val = net.forward(X_test.to(device).float())\n",
    "print(accuracy_score(np.around(cr((output_val))[:, 1].cpu().detach().numpy()), y_test))"
   ]
  },
  {
   "cell_type": "code",
   "execution_count": null,
   "metadata": {},
   "outputs": [],
   "source": []
  },
  {
   "cell_type": "code",
   "execution_count": 8,
   "metadata": {},
   "outputs": [
    {
     "data": {
      "application/vnd.jupyter.widget-view+json": {
       "model_id": "9b67cb87687e40febdf55b4a153cc3c7",
       "version_major": 2,
       "version_minor": 0
      },
      "text/plain": [
       "HBox(children=(IntProgress(value=0, max=680000), HTML(value='')))"
      ]
     },
     "metadata": {},
     "output_type": "display_data"
    },
    {
     "name": "stdout",
     "output_type": "stream",
     "text": [
      "\n"
     ]
    },
    {
     "data": {
      "application/vnd.jupyter.widget-view+json": {
       "model_id": "da3a9698a2454b3ebe787681e30ff860",
       "version_major": 2,
       "version_minor": 0
      },
      "text/plain": [
       "HBox(children=(IntProgress(value=0, max=511700), HTML(value='')))"
      ]
     },
     "metadata": {},
     "output_type": "display_data"
    },
    {
     "name": "stdout",
     "output_type": "stream",
     "text": [
      "\n",
      "size: 16\n"
     ]
    },
    {
     "data": {
      "application/vnd.jupyter.widget-view+json": {
       "model_id": "951af4b5976e414e96ea734aa5c70593",
       "version_major": 2,
       "version_minor": 0
      },
      "text/plain": [
       "HBox(children=(IntProgress(value=0, max=400), HTML(value='')))"
      ]
     },
     "metadata": {},
     "output_type": "display_data"
    },
    {
     "name": "stderr",
     "output_type": "stream",
     "text": [
      "/opt/software/python/anaconda/2019_10/lib/python3.7/site-packages/ipykernel_launcher.py:55: UserWarning: Implicit dimension choice for softmax has been deprecated. Change the call to include dim=X as an argument.\n",
      "/opt/software/python/anaconda/2019_10/lib/python3.7/site-packages/ipykernel_launcher.py:56: UserWarning: Implicit dimension choice for softmax has been deprecated. Change the call to include dim=X as an argument.\n"
     ]
    },
    {
     "name": "stdout",
     "output_type": "stream",
     "text": [
      "0 : val accuracy: 0.7907641196013289 train accuracy: 0.627375\n",
      "10 : val accuracy: 0.8547840531561461 train accuracy: 0.682225\n",
      "20 : val accuracy: 0.8366112956810631 train accuracy: 0.76655\n",
      "30 : val accuracy: 0.8109302325581396 train accuracy: 0.801575\n",
      "40 : val accuracy: 0.801827242524917 train accuracy: 0.807075\n",
      "50 : val accuracy: 0.8037541528239203 train accuracy: 0.808425\n",
      "60 : val accuracy: 0.8035880398671096 train accuracy: 0.8116\n",
      "70 : val accuracy: 0.8013621262458471 train accuracy: 0.81335\n",
      "80 : val accuracy: 0.7999335548172758 train accuracy: 0.814275\n",
      "90 : val accuracy: 0.8002990033222591 train accuracy: 0.815475\n",
      "100 : val accuracy: 0.7992691029900332 train accuracy: 0.81625\n",
      "110 : val accuracy: 0.7978405315614618 train accuracy: 0.8165\n",
      "120 : val accuracy: 0.7968106312292359 train accuracy: 0.817425\n",
      "130 : val accuracy: 0.7957475083056479 train accuracy: 0.817975\n",
      "140 : val accuracy: 0.795016611295681 train accuracy: 0.818425\n",
      "150 : val accuracy: 0.7941860465116279 train accuracy: 0.818575\n",
      "160 : val accuracy: 0.7938870431893688 train accuracy: 0.820375\n",
      "170 : val accuracy: 0.793953488372093 train accuracy: 0.821075\n",
      "180 : val accuracy: 0.7932558139534883 train accuracy: 0.821525\n",
      "190 : val accuracy: 0.7933222591362126 train accuracy: 0.822025\n",
      "200 : val accuracy: 0.7934551495016612 train accuracy: 0.823\n",
      "210 : val accuracy: 0.793953488372093 train accuracy: 0.823675\n",
      "220 : val accuracy: 0.7933887043189369 train accuracy: 0.82405\n",
      "230 : val accuracy: 0.7920265780730897 train accuracy: 0.824225\n",
      "240 : val accuracy: 0.79156146179402 train accuracy: 0.824425\n",
      "250 : val accuracy: 0.7905980066445183 train accuracy: 0.82455\n",
      "260 : val accuracy: 0.7905980066445183 train accuracy: 0.824925\n",
      "270 : val accuracy: 0.7902990033222591 train accuracy: 0.8255\n",
      "280 : val accuracy: 0.7898338870431894 train accuracy: 0.8255\n",
      "290 : val accuracy: 0.7891694352159468 train accuracy: 0.8258\n",
      "300 : val accuracy: 0.7893023255813953 train accuracy: 0.8259\n",
      "310 : val accuracy: 0.7890697674418604 train accuracy: 0.826\n",
      "320 : val accuracy: 0.7892691029900333 train accuracy: 0.826375\n",
      "330 : val accuracy: 0.7890365448504983 train accuracy: 0.826425\n",
      "340 : val accuracy: 0.7888372093023256 train accuracy: 0.8264\n",
      "350 : val accuracy: 0.7881395348837209 train accuracy: 0.82635\n",
      "360 : val accuracy: 0.7870764119601329 train accuracy: 0.82665\n",
      "370 : val accuracy: 0.7869102990033222 train accuracy: 0.826725\n",
      "380 : val accuracy: 0.7867109634551495 train accuracy: 0.82685\n",
      "390 : val accuracy: 0.7867109634551495 train accuracy: 0.826875\n",
      "\n"
     ]
    },
    {
     "name": "stderr",
     "output_type": "stream",
     "text": [
      "/opt/software/python/anaconda/2019_10/lib/python3.7/site-packages/ipykernel_launcher.py:4: UserWarning: Implicit dimension choice for softmax has been deprecated. Change the call to include dim=X as an argument.\n",
      "  after removing the cwd from sys.path.\n"
     ]
    },
    {
     "data": {
      "image/png": "[encoded data removed]",
      "text/plain": [
       "<Figure size 432x288 with 1 Axes>"
      ]
     },
     "metadata": {
      "needs_background": "light"
     },
     "output_type": "display_data"
    },
    {
     "name": "stderr",
     "output_type": "stream",
     "text": [
      "/opt/software/python/anaconda/2019_10/lib/python3.7/site-packages/ipykernel_launcher.py:6: UserWarning: Implicit dimension choice for softmax has been deprecated. Change the call to include dim=X as an argument.\n",
      "  \n",
      "/opt/software/python/anaconda/2019_10/lib/python3.7/site-packages/ipykernel_launcher.py:63: UserWarning: Implicit dimension choice for softmax has been deprecated. Change the call to include dim=X as an argument.\n"
     ]
    },
    {
     "name": "stdout",
     "output_type": "stream",
     "text": [
      "0.5019138\n",
      "T 3.100000000000002\n"
     ]
    },
    {
     "data": {
      "application/vnd.jupyter.widget-view+json": {
       "model_id": "51a8d04b22c14386ae6ce9a6f1266783",
       "version_major": 2,
       "version_minor": 0
      },
      "text/plain": [
       "HBox(children=(IntProgress(value=0, max=1320000), HTML(value='')))"
      ]
     },
     "metadata": {},
     "output_type": "display_data"
    },
    {
     "name": "stdout",
     "output_type": "stream",
     "text": [
      "\n"
     ]
    },
    {
     "data": {
      "application/vnd.jupyter.widget-view+json": {
       "model_id": "6a18a599d0a740ce967702b990f28e28",
       "version_major": 2,
       "version_minor": 0
      },
      "text/plain": [
       "HBox(children=(IntProgress(value=0, max=993300), HTML(value='')))"
      ]
     },
     "metadata": {},
     "output_type": "display_data"
    },
    {
     "name": "stdout",
     "output_type": "stream",
     "text": [
      "\n",
      "size: 32\n"
     ]
    },
    {
     "data": {
      "application/vnd.jupyter.widget-view+json": {
       "model_id": "86c72a5c5d2b48d3aed70d443262caea",
       "version_major": 2,
       "version_minor": 0
      },
      "text/plain": [
       "HBox(children=(IntProgress(value=0, max=400), HTML(value='')))"
      ]
     },
     "metadata": {},
     "output_type": "display_data"
    },
    {
     "name": "stdout",
     "output_type": "stream",
     "text": [
      "0 : val accuracy: 0.8777740863787376 train accuracy: 0.58135\n",
      "10 : val accuracy: 0.881827242524917 train accuracy: 0.7856\n",
      "20 : val accuracy: 0.8542192691029901 train accuracy: 0.86075\n",
      "30 : val accuracy: 0.8567441860465116 train accuracy: 0.863525\n",
      "40 : val accuracy: 0.8580398671096345 train accuracy: 0.866725\n",
      "50 : val accuracy: 0.8530564784053156 train accuracy: 0.8711\n",
      "60 : val accuracy: 0.8558471760797343 train accuracy: 0.872325\n",
      "70 : val accuracy: 0.8550498338870431 train accuracy: 0.874825\n",
      "80 : val accuracy: 0.8552823920265781 train accuracy: 0.875925\n",
      "90 : val accuracy: 0.8547508305647841 train accuracy: 0.87695\n",
      "100 : val accuracy: 0.8544850498338871 train accuracy: 0.878125\n",
      "110 : val accuracy: 0.8543853820598006 train accuracy: 0.879675\n",
      "120 : val accuracy: 0.8546179401993356 train accuracy: 0.88085\n",
      "130 : val accuracy: 0.8542192691029901 train accuracy: 0.8815\n",
      "140 : val accuracy: 0.8540531561461794 train accuracy: 0.8822\n",
      "150 : val accuracy: 0.8535548172757476 train accuracy: 0.883025\n",
      "160 : val accuracy: 0.8530564784053156 train accuracy: 0.8837\n",
      "170 : val accuracy: 0.8529568106312292 train accuracy: 0.88405\n",
      "180 : val accuracy: 0.8527906976744186 train accuracy: 0.884675\n",
      "190 : val accuracy: 0.8522591362126246 train accuracy: 0.885075\n",
      "200 : val accuracy: 0.8522591362126246 train accuracy: 0.885825\n",
      "210 : val accuracy: 0.8520598006644519 train accuracy: 0.88635\n",
      "220 : val accuracy: 0.8518604651162791 train accuracy: 0.88695\n",
      "230 : val accuracy: 0.8514285714285714 train accuracy: 0.887225\n",
      "240 : val accuracy: 0.8511295681063122 train accuracy: 0.88755\n",
      "250 : val accuracy: 0.850797342192691 train accuracy: 0.887975\n",
      "260 : val accuracy: 0.8506312292358804 train accuracy: 0.888225\n",
      "270 : val accuracy: 0.8504318936877077 train accuracy: 0.888625\n",
      "280 : val accuracy: 0.8501661129568107 train accuracy: 0.888775\n",
      "290 : val accuracy: 0.8498006644518272 train accuracy: 0.889\n",
      "300 : val accuracy: 0.8498006644518272 train accuracy: 0.889275\n",
      "310 : val accuracy: 0.8496677740863787 train accuracy: 0.88955\n",
      "320 : val accuracy: 0.8498006644518272 train accuracy: 0.88965\n",
      "330 : val accuracy: 0.849468438538206 train accuracy: 0.8901\n",
      "340 : val accuracy: 0.8495681063122924 train accuracy: 0.89055\n",
      "350 : val accuracy: 0.8492691029900332 train accuracy: 0.89055\n",
      "360 : val accuracy: 0.8493023255813954 train accuracy: 0.8906\n",
      "370 : val accuracy: 0.8490365448504983 train accuracy: 0.8906\n",
      "380 : val accuracy: 0.8488372093023255 train accuracy: 0.890875\n",
      "390 : val accuracy: 0.8488704318936877 train accuracy: 0.890975\n",
      "\n"
     ]
    },
    {
     "data": {
      "image/png": "[encoded data removed]",
      "text/plain": [
       "<Figure size 432x288 with 1 Axes>"
      ]
     },
     "metadata": {
      "needs_background": "light"
     },
     "output_type": "display_data"
    },
    {
     "name": "stdout",
     "output_type": "stream",
     "text": [
      "0.4982736\n",
      "T 3.230000000000002\n"
     ]
    },
    {
     "data": {
      "application/vnd.jupyter.widget-view+json": {
       "model_id": "34ae33caca7541d597e286738799c6a6",
       "version_major": 2,
       "version_minor": 0
      },
      "text/plain": [
       "HBox(children=(IntProgress(value=0, max=2600000), HTML(value='')))"
      ]
     },
     "metadata": {},
     "output_type": "display_data"
    },
    {
     "name": "stdout",
     "output_type": "stream",
     "text": [
      "\n"
     ]
    },
    {
     "data": {
      "application/vnd.jupyter.widget-view+json": {
       "model_id": "90c8d819f16d48ce8fc67267cfac88b6",
       "version_major": 2,
       "version_minor": 0
      },
      "text/plain": [
       "HBox(children=(IntProgress(value=0, max=1956500), HTML(value='')))"
      ]
     },
     "metadata": {},
     "output_type": "display_data"
    },
    {
     "name": "stdout",
     "output_type": "stream",
     "text": [
      "\n",
      "size: 64\n"
     ]
    },
    {
     "data": {
      "application/vnd.jupyter.widget-view+json": {
       "model_id": "7c75ece279c34ebb87060ed6c24b4446",
       "version_major": 2,
       "version_minor": 0
      },
      "text/plain": [
       "HBox(children=(IntProgress(value=0, max=400), HTML(value='')))"
      ]
     },
     "metadata": {},
     "output_type": "display_data"
    },
    {
     "name": "stdout",
     "output_type": "stream",
     "text": [
      "0 : val accuracy: 0.8775747508305648 train accuracy: 0.789975\n",
      "10 : val accuracy: 0.9145182724252492 train accuracy: 0.862575\n",
      "20 : val accuracy: 0.9015282392026578 train accuracy: 0.91425\n",
      "30 : val accuracy: 0.9024916943521595 train accuracy: 0.9159\n",
      "40 : val accuracy: 0.9016279069767442 train accuracy: 0.9178\n",
      "50 : val accuracy: 0.9020598006644518 train accuracy: 0.920025\n",
      "60 : val accuracy: 0.9022591362126245 train accuracy: 0.921675\n",
      "70 : val accuracy: 0.9025581395348837 train accuracy: 0.923025\n",
      "80 : val accuracy: 0.9024916943521595 train accuracy: 0.924275\n",
      "90 : val accuracy: 0.902624584717608 train accuracy: 0.9257\n",
      "100 : val accuracy: 0.9026910299003322 train accuracy: 0.9265\n",
      "110 : val accuracy: 0.902890365448505 train accuracy: 0.9277\n",
      "120 : val accuracy: 0.9027906976744186 train accuracy: 0.928225\n",
      "130 : val accuracy: 0.9028239202657807 train accuracy: 0.929525\n",
      "140 : val accuracy: 0.9025581395348837 train accuracy: 0.930425\n",
      "150 : val accuracy: 0.902392026578073 train accuracy: 0.93125\n",
      "160 : val accuracy: 0.901827242524917 train accuracy: 0.9318\n",
      "170 : val accuracy: 0.9019269102990033 train accuracy: 0.932875\n",
      "180 : val accuracy: 0.9016611295681063 train accuracy: 0.933275\n",
      "190 : val accuracy: 0.9011960132890365 train accuracy: 0.934\n",
      "200 : val accuracy: 0.9008637873754153 train accuracy: 0.934325\n",
      "210 : val accuracy: 0.900531561461794 train accuracy: 0.9347\n",
      "220 : val accuracy: 0.9002990033222591 train accuracy: 0.93495\n",
      "230 : val accuracy: 0.8996013289036545 train accuracy: 0.935475\n",
      "240 : val accuracy: 0.8999003322259136 train accuracy: 0.93615\n",
      "250 : val accuracy: 0.9002990033222591 train accuracy: 0.93695\n",
      "260 : val accuracy: 0.9001993355481728 train accuracy: 0.9375\n",
      "270 : val accuracy: 0.9001993355481728 train accuracy: 0.938075\n",
      "280 : val accuracy: 0.9003986710963455 train accuracy: 0.938525\n",
      "290 : val accuracy: 0.9001328903654485 train accuracy: 0.939125\n",
      "300 : val accuracy: 0.8998006644518273 train accuracy: 0.939575\n",
      "310 : val accuracy: 0.8993687707641196 train accuracy: 0.94\n",
      "320 : val accuracy: 0.8990697674418605 train accuracy: 0.94015\n",
      "330 : val accuracy: 0.899202657807309 train accuracy: 0.940625\n",
      "340 : val accuracy: 0.8990365448504983 train accuracy: 0.940825\n",
      "350 : val accuracy: 0.8988372093023256 train accuracy: 0.941525\n",
      "360 : val accuracy: 0.8989036544850498 train accuracy: 0.9416\n",
      "370 : val accuracy: 0.8990365448504983 train accuracy: 0.94185\n",
      "380 : val accuracy: 0.8989700996677741 train accuracy: 0.941875\n",
      "390 : val accuracy: 0.8986378737541528 train accuracy: 0.942425\n",
      "\n"
     ]
    },
    {
     "data": {
      "image/png": "[encoded data removed]",
      "text/plain": [
       "<Figure size 432x288 with 1 Axes>"
      ]
     },
     "metadata": {
      "needs_background": "light"
     },
     "output_type": "display_data"
    },
    {
     "name": "stdout",
     "output_type": "stream",
     "text": [
      "0.5011918\n",
      "T 3.370000000000002\n"
     ]
    },
    {
     "data": {
      "application/vnd.jupyter.widget-view+json": {
       "model_id": "e6605d9f798543bb9fde50524b24103a",
       "version_major": 2,
       "version_minor": 0
      },
      "text/plain": [
       "HBox(children=(IntProgress(value=0, max=5160000), HTML(value='')))"
      ]
     },
     "metadata": {},
     "output_type": "display_data"
    },
    {
     "name": "stdout",
     "output_type": "stream",
     "text": [
      "\n"
     ]
    },
    {
     "data": {
      "application/vnd.jupyter.widget-view+json": {
       "model_id": "05d78d27a71e4f69a72866a730a11368",
       "version_major": 2,
       "version_minor": 0
      },
      "text/plain": [
       "HBox(children=(IntProgress(value=0, max=3882900), HTML(value='')))"
      ]
     },
     "metadata": {},
     "output_type": "display_data"
    },
    {
     "name": "stdout",
     "output_type": "stream",
     "text": [
      "\n",
      "size: 128\n"
     ]
    },
    {
     "data": {
      "application/vnd.jupyter.widget-view+json": {
       "model_id": "f333096b6dc847ae9c3d21881675e7a3",
       "version_major": 2,
       "version_minor": 0
      },
      "text/plain": [
       "HBox(children=(IntProgress(value=0, max=400), HTML(value='')))"
      ]
     },
     "metadata": {},
     "output_type": "display_data"
    },
    {
     "name": "stdout",
     "output_type": "stream",
     "text": [
      "0 : val accuracy: 0.8996013289036545 train accuracy: 0.64805\n",
      "10 : val accuracy: 0.9150830564784053 train accuracy: 0.81915\n",
      "20 : val accuracy: 0.9179069767441861 train accuracy: 0.89565\n",
      "30 : val accuracy: 0.9260797342192691 train accuracy: 0.93435\n",
      "40 : val accuracy: 0.9289036544850499 train accuracy: 0.945825\n",
      "50 : val accuracy: 0.9309634551495016 train accuracy: 0.948925\n",
      "60 : val accuracy: 0.9308970099667774 train accuracy: 0.95065\n",
      "70 : val accuracy: 0.9302990033222591 train accuracy: 0.95295\n",
      "80 : val accuracy: 0.9301993355481728 train accuracy: 0.95445\n",
      "90 : val accuracy: 0.9303986710963456 train accuracy: 0.95585\n",
      "100 : val accuracy: 0.9310963455149501 train accuracy: 0.95745\n",
      "110 : val accuracy: 0.9315614617940199 train accuracy: 0.95875\n",
      "120 : val accuracy: 0.9311627906976744 train accuracy: 0.959575\n",
      "130 : val accuracy: 0.9312624584717608 train accuracy: 0.960425\n",
      "140 : val accuracy: 0.9313953488372093 train accuracy: 0.96155\n",
      "150 : val accuracy: 0.9315614617940199 train accuracy: 0.961925\n",
      "160 : val accuracy: 0.9317275747508306 train accuracy: 0.962675\n",
      "170 : val accuracy: 0.9312624584717608 train accuracy: 0.963475\n",
      "180 : val accuracy: 0.9316943521594684 train accuracy: 0.964375\n",
      "190 : val accuracy: 0.9317940199335548 train accuracy: 0.965225\n",
      "200 : val accuracy: 0.9318604651162791 train accuracy: 0.9661\n",
      "210 : val accuracy: 0.9323255813953488 train accuracy: 0.967\n",
      "220 : val accuracy: 0.932093023255814 train accuracy: 0.967975\n",
      "230 : val accuracy: 0.9320265780730898 train accuracy: 0.968625\n",
      "240 : val accuracy: 0.9320598006644518 train accuracy: 0.96945\n",
      "250 : val accuracy: 0.9323920265780731 train accuracy: 0.970325\n",
      "260 : val accuracy: 0.9321926910299003 train accuracy: 0.971175\n",
      "270 : val accuracy: 0.9324252491694353 train accuracy: 0.971925\n",
      "280 : val accuracy: 0.9324252491694353 train accuracy: 0.97265\n",
      "290 : val accuracy: 0.9325581395348838 train accuracy: 0.97315\n",
      "300 : val accuracy: 0.9325913621262458 train accuracy: 0.9737\n",
      "310 : val accuracy: 0.9327242524916943 train accuracy: 0.97445\n",
      "320 : val accuracy: 0.9325581395348838 train accuracy: 0.97515\n",
      "330 : val accuracy: 0.9325581395348838 train accuracy: 0.976\n",
      "340 : val accuracy: 0.9323920265780731 train accuracy: 0.976575\n",
      "350 : val accuracy: 0.9322923588039868 train accuracy: 0.977325\n",
      "360 : val accuracy: 0.9321262458471761 train accuracy: 0.977775\n",
      "370 : val accuracy: 0.9323255813953488 train accuracy: 0.978175\n",
      "380 : val accuracy: 0.932624584717608 train accuracy: 0.978925\n",
      "390 : val accuracy: 0.9328571428571428 train accuracy: 0.97915\n",
      "\n"
     ]
    },
    {
     "data": {
      "image/png": "[encoded data removed]",
      "text/plain": [
       "<Figure size 432x288 with 1 Axes>"
      ]
     },
     "metadata": {
      "needs_background": "light"
     },
     "output_type": "display_data"
    },
    {
     "name": "stdout",
     "output_type": "stream",
     "text": [
      "0.49990672\n",
      "T 3.5100000000000025\n"
     ]
    },
    {
     "data": {
      "application/vnd.jupyter.widget-view+json": {
       "model_id": "0e33cfbcf6a14565a585f7c0225eebfe",
       "version_major": 2,
       "version_minor": 0
      },
      "text/plain": [
       "HBox(children=(IntProgress(value=0, max=10280000), HTML(value='')))"
      ]
     },
     "metadata": {},
     "output_type": "display_data"
    },
    {
     "name": "stdout",
     "output_type": "stream",
     "text": [
      "\n"
     ]
    },
    {
     "data": {
      "application/vnd.jupyter.widget-view+json": {
       "model_id": "9fcf558a2a024b469bd5e90e322addcb",
       "version_major": 2,
       "version_minor": 0
      },
      "text/plain": [
       "HBox(children=(IntProgress(value=0, max=7735700), HTML(value='')))"
      ]
     },
     "metadata": {},
     "output_type": "display_data"
    },
    {
     "name": "stdout",
     "output_type": "stream",
     "text": [
      "\n",
      "size: 256\n"
     ]
    },
    {
     "data": {
      "application/vnd.jupyter.widget-view+json": {
       "model_id": "c2adb51cfe984f9a9e2d7fee78e017b3",
       "version_major": 2,
       "version_minor": 0
      },
      "text/plain": [
       "HBox(children=(IntProgress(value=0, max=400), HTML(value='')))"
      ]
     },
     "metadata": {},
     "output_type": "display_data"
    },
    {
     "name": "stdout",
     "output_type": "stream",
     "text": [
      "0 : val accuracy: 0.5572425249169435 train accuracy: 0.525475\n",
      "\n"
     ]
    },
    {
     "ename": "RuntimeError",
     "evalue": "CUDA out of memory. Tried to allocate 9.77 GiB (GPU 0; 31.75 GiB total capacity; 21.55 GiB already allocated; 7.47 GiB free; 522.19 MiB cached)",
     "output_type": "error",
     "traceback": [
      "\u001b[0;31m---------------------------------------------------------------------------\u001b[0m",
      "\u001b[0;31mRuntimeError\u001b[0m                              Traceback (most recent call last)",
      "\u001b[0;32m<ipython-input-8-dfd86de132e1>\u001b[0m in \u001b[0;36m<module>\u001b[0;34m\u001b[0m\n\u001b[1;32m     37\u001b[0m     \u001b[0;32mfor\u001b[0m \u001b[0me\u001b[0m \u001b[0;32min\u001b[0m \u001b[0mtqdm\u001b[0m\u001b[0;34m(\u001b[0m\u001b[0mrange\u001b[0m\u001b[0;34m(\u001b[0m\u001b[0;36m400\u001b[0m\u001b[0;34m)\u001b[0m\u001b[0;34m)\u001b[0m\u001b[0;34m:\u001b[0m\u001b[0;34m\u001b[0m\u001b[0;34m\u001b[0m\u001b[0m\n\u001b[1;32m     38\u001b[0m         \u001b[0mnet\u001b[0m\u001b[0;34m.\u001b[0m\u001b[0mtrain\u001b[0m\u001b[0;34m(\u001b[0m\u001b[0;34m)\u001b[0m\u001b[0;34m\u001b[0m\u001b[0;34m\u001b[0m\u001b[0m\n\u001b[0;32m---> 39\u001b[0;31m         \u001b[0moutput\u001b[0m \u001b[0;34m=\u001b[0m \u001b[0mnet\u001b[0m\u001b[0;34m.\u001b[0m\u001b[0mforward\u001b[0m\u001b[0;34m(\u001b[0m\u001b[0mX_train\u001b[0m\u001b[0;34m.\u001b[0m\u001b[0mfloat\u001b[0m\u001b[0;34m(\u001b[0m\u001b[0;34m)\u001b[0m\u001b[0;34m)\u001b[0m\u001b[0;34m\u001b[0m\u001b[0;34m\u001b[0m\u001b[0m\n\u001b[0m\u001b[1;32m     40\u001b[0m         \u001b[0mloss\u001b[0m \u001b[0;34m=\u001b[0m \u001b[0mcriterion\u001b[0m\u001b[0;34m(\u001b[0m\u001b[0moutput\u001b[0m\u001b[0;34m,\u001b[0m \u001b[0my_train\u001b[0m\u001b[0;34m.\u001b[0m\u001b[0mlong\u001b[0m\u001b[0;34m(\u001b[0m\u001b[0;34m)\u001b[0m\u001b[0;34m)\u001b[0m\u001b[0;34m\u001b[0m\u001b[0;34m\u001b[0m\u001b[0m\n\u001b[1;32m     41\u001b[0m         \u001b[0mloss\u001b[0m\u001b[0;34m.\u001b[0m\u001b[0mbackward\u001b[0m\u001b[0;34m(\u001b[0m\u001b[0;34m)\u001b[0m\u001b[0;34m\u001b[0m\u001b[0;34m\u001b[0m\u001b[0m\n",
      "\u001b[0;31mRuntimeError\u001b[0m: CUDA out of memory. Tried to allocate 9.77 GiB (GPU 0; 31.75 GiB total capacity; 21.55 GiB already allocated; 7.47 GiB free; 522.19 MiB cached)"
     ]
    }
   ],
   "source": [
    "ind = []\n",
    "left = []\n",
    "right = []\n",
    "acc = []\n",
    "size = 16\n",
    "while size <= 128:\n",
    "    # load\n",
    "    x = np.arange(1, 3.5, 0.0625)\n",
    "    X_train, y_train = load(size, \"train\", 40000)\n",
    "    X_test, y_test = load(size, \"test\", 30100)\n",
    "            \n",
    "    print(\"size:\", size)\n",
    "    \n",
    "    X_test_time = np.arange(1, 4, 0.01)\n",
    "    \n",
    "    X_test = np.array(X_test)\n",
    "    X_test = X_test.reshape(X_test.shape[0], size*size)\n",
    "    X_test = torch.from_numpy(X_test).to(device)\n",
    "    y_test = np.array(y_test)\n",
    "    \n",
    "    X_train = np.array(X_train)\n",
    "    X_train = X_train.reshape(X_train.shape[0], size*size)\n",
    "    X_train = torch.from_numpy(X_train).to(device)\n",
    "    y_train = torch.from_numpy(np.array(y_train)).to(device)\n",
    "    train_data = TensorDataset(X_train, y_train)\n",
    "    \n",
    "    torch.cuda.empty_cache()\n",
    "    #train\n",
    "    net = Net(size*size)\n",
    "    net.to(device)\n",
    "    net.train()\n",
    "    \n",
    "    cr = torch.nn.Softmax()\n",
    "    criterion = torch.nn.CrossEntropyLoss()\n",
    "    lr=3*(10**-4)\n",
    "    optimizer = torch.optim.Adam(net.parameters(), lr=lr, weight_decay=0.01)\n",
    "    for e in tqdm(range(400)):\n",
    "        net.train()    \n",
    "        output = net.forward(X_train.float())\n",
    "        loss = criterion(output, y_train.long())\n",
    "        loss.backward()\n",
    "        optimizer.step()\n",
    "        net.zero_grad()\n",
    "\n",
    "        if e % 10 == 0:\n",
    "            net.eval()\n",
    "            output = []\n",
    "            output_val = []\n",
    "            labels_train = []\n",
    "            output = net.forward(X_train.float())\n",
    "            output_val = net.forward(X_test.float())\n",
    "\n",
    "\n",
    "            print(e, \":\", \"val accuracy:\", \n",
    "                    accuracy_score(np.around(cr((output_val))[:, 1].cpu().detach().numpy()), y_test),\n",
    "                    \"train accuracy:\", accuracy_score(np.around(cr(output)[:, 1].cpu().detach().numpy()), y_train.cpu().detach().numpy()))\n",
    "    \n",
    "    net.eval()\n",
    "    plot_fitting()\n",
    "    find_point()\n",
    "    \n",
    "    output_val = net.forward(X_test.to(device).float())\n",
    "    acc.append(accuracy_score(np.around(cr((output_val))[:, 1].cpu().detach().numpy()), y_test))\n",
    "    print(\"T\", ind[-1])\n",
    "    size *=2\n"
   ]
  },
  {
   "cell_type": "code",
   "execution_count": null,
   "metadata": {},
   "outputs": [],
   "source": []
  },
  {
   "cell_type": "code",
   "execution_count": 13,
   "metadata": {},
   "outputs": [],
   "source": [
    "df = pd.DataFrame()\n",
    "df[\"Размер решетки\"] = [16, 32, 64, 128]\n",
    "df[\"Температура\"] = ind\n",
    "df[\"Точность\"] = acc"
   ]
  },
  {
   "cell_type": "code",
   "execution_count": 14,
   "metadata": {},
   "outputs": [
    {
     "data": {
      "text/html": [
       "<div>\n",
       "<style scoped>\n",
       "    .dataframe tbody tr th:only-of-type {\n",
       "        vertical-align: middle;\n",
       "    }\n",
       "\n",
       "    .dataframe tbody tr th {\n",
       "        vertical-align: top;\n",
       "    }\n",
       "\n",
       "    .dataframe thead th {\n",
       "        text-align: right;\n",
       "    }\n",
       "</style>\n",
       "<table border=\"1\" class=\"dataframe\">\n",
       "  <thead>\n",
       "    <tr style=\"text-align: right;\">\n",
       "      <th></th>\n",
       "      <th>Размер решетки</th>\n",
       "      <th>Температура</th>\n",
       "      <th>Точность</th>\n",
       "    </tr>\n",
       "  </thead>\n",
       "  <tbody>\n",
       "    <tr>\n",
       "      <td>0</td>\n",
       "      <td>16</td>\n",
       "      <td>3.09</td>\n",
       "      <td>0.784884</td>\n",
       "    </tr>\n",
       "    <tr>\n",
       "      <td>1</td>\n",
       "      <td>32</td>\n",
       "      <td>3.23</td>\n",
       "      <td>0.848804</td>\n",
       "    </tr>\n",
       "    <tr>\n",
       "      <td>2</td>\n",
       "      <td>64</td>\n",
       "      <td>3.40</td>\n",
       "      <td>0.900033</td>\n",
       "    </tr>\n",
       "    <tr>\n",
       "      <td>3</td>\n",
       "      <td>128</td>\n",
       "      <td>3.51</td>\n",
       "      <td>0.932027</td>\n",
       "    </tr>\n",
       "  </tbody>\n",
       "</table>\n",
       "</div>"
      ],
      "text/plain": [
       "   Размер решетки  Температура  Точность\n",
       "0              16         3.09  0.784884\n",
       "1              32         3.23  0.848804\n",
       "2              64         3.40  0.900033\n",
       "3             128         3.51  0.932027"
      ]
     },
     "execution_count": 14,
     "metadata": {},
     "output_type": "execute_result"
    }
   ],
   "source": [
    "df.head()"
   ]
  },
  {
   "cell_type": "code",
   "execution_count": 12,
   "metadata": {},
   "outputs": [],
   "source": [
    "ind = np.array(ind)\n",
    "left = np.array(left)\n",
    "right = np.array(right)\n",
    "t = 1/(np.abs(3.65 - ind)) \n",
    "l = 1/(np.abs(3.65 - left))\n",
    "r = 1/(np.abs(3.65 - right))\n",
    "er = np.concatenate((np.abs(t-l).reshape(left.shape[0], -1), np.abs(t-r).reshape(left.shape[0], -1)), axis=1)\n",
    "er_lin = np.concatenate(((np.abs((ind)-(left))).reshape(left.shape[0], -1), np.abs((ind)-(right)).reshape(left.shape[0], -1)), axis=1)\n",
    "er = er.reshape(2,-1)\n",
    "er_lin = er_lin.reshape(2,-1)"
   ]
  },
  {
   "cell_type": "code",
   "execution_count": null,
   "metadata": {},
   "outputs": [],
   "source": []
  }
 ],
 "metadata": {
  "kernelspec": {
   "display_name": "Python 3",
   "language": "python",
   "name": "python3"
  },
  "language_info": {
   "codemirror_mode": {
    "name": "ipython",
    "version": 3
   },
   "file_extension": ".py",
   "mimetype": "text/x-python",
   "name": "python",
   "nbconvert_exporter": "python",
   "pygments_lexer": "ipython3",
   "version": "3.7.4"
  }
 },
 "nbformat": 4,
 "nbformat_minor": 2
}
