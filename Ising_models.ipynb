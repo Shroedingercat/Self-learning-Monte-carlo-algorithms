{
 "cells": [
  {
   "cell_type": "code",
   "execution_count": 3,
   "metadata": {},
   "outputs": [],
   "source": [
    "import os\n",
    "import torch\n",
    "import numpy as np\n",
    "import matplotlib.pyplot as plt\n",
    "os.chdir(\"C:/Users/Nikita/Documents/GitHub/Self-learning-Monte-carlo-algorithms\")\n",
    "import Ising\n",
    "from tqdm import tqdm_notebook as tqdm\n",
    "from sklearn.model_selection import train_test_split\n",
    "%matplotlib inline\n",
    "plt.style.use('ggplot')"
   ]
  },
  {
   "cell_type": "markdown",
   "metadata": {},
   "source": [
    "## Square lattice"
   ]
  },
  {
   "cell_type": "code",
   "execution_count": 2,
   "metadata": {},
   "outputs": [],
   "source": [
    "test_ising = Ising.Ising(16, 16)\n",
    "test_ising.lattice = np.array([16*[1] for i in range(16)])"
   ]
  },
  {
   "cell_type": "code",
   "execution_count": 3,
   "metadata": {
    "scrolled": true
   },
   "outputs": [
    {
     "data": {
      "image/png": "[encoded data removed]",
      "text/plain": [
       "<Figure size 432x288 with 1 Axes>"
      ]
     },
     "metadata": {
      "needs_background": "light"
     },
     "output_type": "display_data"
    }
   ],
   "source": [
    "test_ising.show()"
   ]
  },
  {
   "cell_type": "code",
   "execution_count": 4,
   "metadata": {},
   "outputs": [
    {
     "data": {
      "image/png": "[encoded data removed]",
      "text/plain": [
       "<Figure size 432x288 with 1 Axes>"
      ]
     },
     "metadata": {
      "needs_background": "light"
     },
     "output_type": "display_data"
    }
   ],
   "source": [
    "test_ising.cluster_ising(1-np.exp(-0.3 * 2))\n",
    "test_ising.show()"
   ]
  },
  {
   "cell_type": "code",
   "execution_count": 5,
   "metadata": {},
   "outputs": [
    {
     "data": {
      "text/plain": [
       "0.8359375"
      ]
     },
     "execution_count": 5,
     "metadata": {},
     "output_type": "execute_result"
    }
   ],
   "source": [
    "test_ising.magnetism()"
   ]
  },
  {
   "cell_type": "code",
   "execution_count": 4,
   "metadata": {
    "scrolled": true
   },
   "outputs": [
    {
     "data": {
      "application/vnd.jupyter.widget-view+json": {
       "model_id": "ea199d04b6ec423fbea04a806c15b7cf",
       "version_major": 2,
       "version_minor": 0
      },
      "text/plain": [
       "HBox(children=(IntProgress(value=0, max=40), HTML(value='')))"
      ]
     },
     "metadata": {},
     "output_type": "display_data"
    },
    {
     "data": {
      "application/vnd.jupyter.widget-view+json": {
       "model_id": "6f96835b6b8946a092e28670d17aa120",
       "version_major": 2,
       "version_minor": 0
      },
      "text/plain": [
       "HBox(children=(IntProgress(value=0, max=1000), HTML(value='')))"
      ]
     },
     "metadata": {},
     "output_type": "display_data"
    },
    {
     "data": {
      "application/vnd.jupyter.widget-view+json": {
       "model_id": "727b9b97e23245d9ad95fb8aecf4334a",
       "version_major": 2,
       "version_minor": 0
      },
      "text/plain": [
       "HBox(children=(IntProgress(value=0, max=1000), HTML(value='')))"
      ]
     },
     "metadata": {},
     "output_type": "display_data"
    },
    {
     "data": {
      "application/vnd.jupyter.widget-view+json": {
       "model_id": "1bee3ca7038d48aa9e4e2012f38a2752",
       "version_major": 2,
       "version_minor": 0
      },
      "text/plain": [
       "HBox(children=(IntProgress(value=0, max=1000), HTML(value='')))"
      ]
     },
     "metadata": {},
     "output_type": "display_data"
    },
    {
     "data": {
      "application/vnd.jupyter.widget-view+json": {
       "model_id": "3b8918cb6bbe4f64bd13cd3f1a88d1f0",
       "version_major": 2,
       "version_minor": 0
      },
      "text/plain": [
       "HBox(children=(IntProgress(value=0, max=1000), HTML(value='')))"
      ]
     },
     "metadata": {},
     "output_type": "display_data"
    },
    {
     "data": {
      "application/vnd.jupyter.widget-view+json": {
       "model_id": "3b8e2b9442f54ecd8fd4324e5ac28b65",
       "version_major": 2,
       "version_minor": 0
      },
      "text/plain": [
       "HBox(children=(IntProgress(value=0, max=1000), HTML(value='')))"
      ]
     },
     "metadata": {},
     "output_type": "display_data"
    },
    {
     "data": {
      "application/vnd.jupyter.widget-view+json": {
       "model_id": "8221795c98d0463e9819e41f590f1d31",
       "version_major": 2,
       "version_minor": 0
      },
      "text/plain": [
       "HBox(children=(IntProgress(value=0, max=1000), HTML(value='')))"
      ]
     },
     "metadata": {},
     "output_type": "display_data"
    },
    {
     "data": {
      "application/vnd.jupyter.widget-view+json": {
       "model_id": "42cc33f9d8934c2ea2996a09e98300a4",
       "version_major": 2,
       "version_minor": 0
      },
      "text/plain": [
       "HBox(children=(IntProgress(value=0, max=1000), HTML(value='')))"
      ]
     },
     "metadata": {},
     "output_type": "display_data"
    },
    {
     "data": {
      "application/vnd.jupyter.widget-view+json": {
       "model_id": "b11d1ec6912943e8a8ec415c6afa0ecc",
       "version_major": 2,
       "version_minor": 0
      },
      "text/plain": [
       "HBox(children=(IntProgress(value=0, max=1000), HTML(value='')))"
      ]
     },
     "metadata": {},
     "output_type": "display_data"
    },
    {
     "data": {
      "application/vnd.jupyter.widget-view+json": {
       "model_id": "ee6aaadbba26469db0c85cc7825dcb8d",
       "version_major": 2,
       "version_minor": 0
      },
      "text/plain": [
       "HBox(children=(IntProgress(value=0, max=1000), HTML(value='')))"
      ]
     },
     "metadata": {},
     "output_type": "display_data"
    },
    {
     "data": {
      "application/vnd.jupyter.widget-view+json": {
       "model_id": "ad8c0b5a2b2c476ba76df4e52a108fec",
       "version_major": 2,
       "version_minor": 0
      },
      "text/plain": [
       "HBox(children=(IntProgress(value=0, max=1000), HTML(value='')))"
      ]
     },
     "metadata": {},
     "output_type": "display_data"
    },
    {
     "data": {
      "application/vnd.jupyter.widget-view+json": {
       "model_id": "5820551722b74999bc2c5a351fb40af8",
       "version_major": 2,
       "version_minor": 0
      },
      "text/plain": [
       "HBox(children=(IntProgress(value=0, max=1000), HTML(value='')))"
      ]
     },
     "metadata": {},
     "output_type": "display_data"
    },
    {
     "data": {
      "application/vnd.jupyter.widget-view+json": {
       "model_id": "33666e73ba1b4c6da89a2a3611440d95",
       "version_major": 2,
       "version_minor": 0
      },
      "text/plain": [
       "HBox(children=(IntProgress(value=0, max=1000), HTML(value='')))"
      ]
     },
     "metadata": {},
     "output_type": "display_data"
    },
    {
     "data": {
      "application/vnd.jupyter.widget-view+json": {
       "model_id": "8b13d1885ae84cbe9d0d9f5a23d44f5c",
       "version_major": 2,
       "version_minor": 0
      },
      "text/plain": [
       "HBox(children=(IntProgress(value=0, max=1000), HTML(value='')))"
      ]
     },
     "metadata": {},
     "output_type": "display_data"
    },
    {
     "data": {
      "application/vnd.jupyter.widget-view+json": {
       "model_id": "fc52602888df4d26bf8d967f9f86028c",
       "version_major": 2,
       "version_minor": 0
      },
      "text/plain": [
       "HBox(children=(IntProgress(value=0, max=1000), HTML(value='')))"
      ]
     },
     "metadata": {},
     "output_type": "display_data"
    },
    {
     "data": {
      "application/vnd.jupyter.widget-view+json": {
       "model_id": "a09019f0173d42999399e828e5fc9cee",
       "version_major": 2,
       "version_minor": 0
      },
      "text/plain": [
       "HBox(children=(IntProgress(value=0, max=1000), HTML(value='')))"
      ]
     },
     "metadata": {},
     "output_type": "display_data"
    },
    {
     "data": {
      "application/vnd.jupyter.widget-view+json": {
       "model_id": "c334e1320b5649999e7520eb36835806",
       "version_major": 2,
       "version_minor": 0
      },
      "text/plain": [
       "HBox(children=(IntProgress(value=0, max=1000), HTML(value='')))"
      ]
     },
     "metadata": {},
     "output_type": "display_data"
    },
    {
     "data": {
      "application/vnd.jupyter.widget-view+json": {
       "model_id": "fc1fd85131694de59c3c2135d3ff966d",
       "version_major": 2,
       "version_minor": 0
      },
      "text/plain": [
       "HBox(children=(IntProgress(value=0, max=1000), HTML(value='')))"
      ]
     },
     "metadata": {},
     "output_type": "display_data"
    },
    {
     "data": {
      "application/vnd.jupyter.widget-view+json": {
       "model_id": "4832d568bd9343468435cc6e84a630a6",
       "version_major": 2,
       "version_minor": 0
      },
      "text/plain": [
       "HBox(children=(IntProgress(value=0, max=1000), HTML(value='')))"
      ]
     },
     "metadata": {},
     "output_type": "display_data"
    },
    {
     "data": {
      "application/vnd.jupyter.widget-view+json": {
       "model_id": "88966717ae334df0b5eb80467fc38061",
       "version_major": 2,
       "version_minor": 0
      },
      "text/plain": [
       "HBox(children=(IntProgress(value=0, max=1000), HTML(value='')))"
      ]
     },
     "metadata": {},
     "output_type": "display_data"
    },
    {
     "data": {
      "application/vnd.jupyter.widget-view+json": {
       "model_id": "0ba8e007d27c4869982f93f4e235341c",
       "version_major": 2,
       "version_minor": 0
      },
      "text/plain": [
       "HBox(children=(IntProgress(value=0, max=1000), HTML(value='')))"
      ]
     },
     "metadata": {},
     "output_type": "display_data"
    },
    {
     "data": {
      "application/vnd.jupyter.widget-view+json": {
       "model_id": "2c3b5468474f4d3f827ccf23902af5f7",
       "version_major": 2,
       "version_minor": 0
      },
      "text/plain": [
       "HBox(children=(IntProgress(value=0, max=1000), HTML(value='')))"
      ]
     },
     "metadata": {},
     "output_type": "display_data"
    },
    {
     "data": {
      "application/vnd.jupyter.widget-view+json": {
       "model_id": "a4095bb099f54e16a88c522baa444cea",
       "version_major": 2,
       "version_minor": 0
      },
      "text/plain": [
       "HBox(children=(IntProgress(value=0, max=1000), HTML(value='')))"
      ]
     },
     "metadata": {},
     "output_type": "display_data"
    },
    {
     "data": {
      "application/vnd.jupyter.widget-view+json": {
       "model_id": "3337739472544625bd7fa1eb3ceb2354",
       "version_major": 2,
       "version_minor": 0
      },
      "text/plain": [
       "HBox(children=(IntProgress(value=0, max=1000), HTML(value='')))"
      ]
     },
     "metadata": {},
     "output_type": "display_data"
    },
    {
     "data": {
      "application/vnd.jupyter.widget-view+json": {
       "model_id": "77ff160d1dbd4008a6393d243ed6b2dd",
       "version_major": 2,
       "version_minor": 0
      },
      "text/plain": [
       "HBox(children=(IntProgress(value=0, max=1000), HTML(value='')))"
      ]
     },
     "metadata": {},
     "output_type": "display_data"
    },
    {
     "data": {
      "application/vnd.jupyter.widget-view+json": {
       "model_id": "28c78e7bdf214681ae5c99407fed57b2",
       "version_major": 2,
       "version_minor": 0
      },
      "text/plain": [
       "HBox(children=(IntProgress(value=0, max=1000), HTML(value='')))"
      ]
     },
     "metadata": {},
     "output_type": "display_data"
    },
    {
     "data": {
      "application/vnd.jupyter.widget-view+json": {
       "model_id": "7d29a9fa988048e794cbccdbc431fe50",
       "version_major": 2,
       "version_minor": 0
      },
      "text/plain": [
       "HBox(children=(IntProgress(value=0, max=1000), HTML(value='')))"
      ]
     },
     "metadata": {},
     "output_type": "display_data"
    },
    {
     "data": {
      "application/vnd.jupyter.widget-view+json": {
       "model_id": "8ec358cb56524a529c47ba9280c311d9",
       "version_major": 2,
       "version_minor": 0
      },
      "text/plain": [
       "HBox(children=(IntProgress(value=0, max=1000), HTML(value='')))"
      ]
     },
     "metadata": {},
     "output_type": "display_data"
    },
    {
     "data": {
      "application/vnd.jupyter.widget-view+json": {
       "model_id": "9b2b8f64ca4846dc885b94330f63b093",
       "version_major": 2,
       "version_minor": 0
      },
      "text/plain": [
       "HBox(children=(IntProgress(value=0, max=1000), HTML(value='')))"
      ]
     },
     "metadata": {},
     "output_type": "display_data"
    },
    {
     "data": {
      "application/vnd.jupyter.widget-view+json": {
       "model_id": "e46247f0a2674de5b47617976b25915a",
       "version_major": 2,
       "version_minor": 0
      },
      "text/plain": [
       "HBox(children=(IntProgress(value=0, max=1000), HTML(value='')))"
      ]
     },
     "metadata": {},
     "output_type": "display_data"
    },
    {
     "data": {
      "application/vnd.jupyter.widget-view+json": {
       "model_id": "efd7c8ea8b4a4f078c6d75437c1faafd",
       "version_major": 2,
       "version_minor": 0
      },
      "text/plain": [
       "HBox(children=(IntProgress(value=0, max=1000), HTML(value='')))"
      ]
     },
     "metadata": {},
     "output_type": "display_data"
    },
    {
     "data": {
      "application/vnd.jupyter.widget-view+json": {
       "model_id": "7239edda6976459dad7731d2343e55f1",
       "version_major": 2,
       "version_minor": 0
      },
      "text/plain": [
       "HBox(children=(IntProgress(value=0, max=1000), HTML(value='')))"
      ]
     },
     "metadata": {},
     "output_type": "display_data"
    },
    {
     "data": {
      "application/vnd.jupyter.widget-view+json": {
       "model_id": "5da2adb1d73442fbb99fbed0ac6edf7c",
       "version_major": 2,
       "version_minor": 0
      },
      "text/plain": [
       "HBox(children=(IntProgress(value=0, max=1000), HTML(value='')))"
      ]
     },
     "metadata": {},
     "output_type": "display_data"
    },
    {
     "data": {
      "application/vnd.jupyter.widget-view+json": {
       "model_id": "a9e099fb815e4e2e908b0afb3f537b8a",
       "version_major": 2,
       "version_minor": 0
      },
      "text/plain": [
       "HBox(children=(IntProgress(value=0, max=1000), HTML(value='')))"
      ]
     },
     "metadata": {},
     "output_type": "display_data"
    },
    {
     "data": {
      "application/vnd.jupyter.widget-view+json": {
       "model_id": "4b83097ac723460287a96d9c91c20b60",
       "version_major": 2,
       "version_minor": 0
      },
      "text/plain": [
       "HBox(children=(IntProgress(value=0, max=1000), HTML(value='')))"
      ]
     },
     "metadata": {},
     "output_type": "display_data"
    },
    {
     "data": {
      "application/vnd.jupyter.widget-view+json": {
       "model_id": "424b08deb7744a99a4ed7fb0df90b995",
       "version_major": 2,
       "version_minor": 0
      },
      "text/plain": [
       "HBox(children=(IntProgress(value=0, max=1000), HTML(value='')))"
      ]
     },
     "metadata": {},
     "output_type": "display_data"
    },
    {
     "data": {
      "application/vnd.jupyter.widget-view+json": {
       "model_id": "48cf0f8352604a77a16a978df63c5b44",
       "version_major": 2,
       "version_minor": 0
      },
      "text/plain": [
       "HBox(children=(IntProgress(value=0, max=1000), HTML(value='')))"
      ]
     },
     "metadata": {},
     "output_type": "display_data"
    },
    {
     "data": {
      "application/vnd.jupyter.widget-view+json": {
       "model_id": "a50caff955174c7cbe4b6e155b6abf22",
       "version_major": 2,
       "version_minor": 0
      },
      "text/plain": [
       "HBox(children=(IntProgress(value=0, max=1000), HTML(value='')))"
      ]
     },
     "metadata": {},
     "output_type": "display_data"
    },
    {
     "data": {
      "application/vnd.jupyter.widget-view+json": {
       "model_id": "2fb8356e556f4b1d8ade110c7881b07f",
       "version_major": 2,
       "version_minor": 0
      },
      "text/plain": [
       "HBox(children=(IntProgress(value=0, max=1000), HTML(value='')))"
      ]
     },
     "metadata": {},
     "output_type": "display_data"
    },
    {
     "data": {
      "application/vnd.jupyter.widget-view+json": {
       "model_id": "0a89b87d7c5b43bfac710eead5c0b658",
       "version_major": 2,
       "version_minor": 0
      },
      "text/plain": [
       "HBox(children=(IntProgress(value=0, max=1000), HTML(value='')))"
      ]
     },
     "metadata": {},
     "output_type": "display_data"
    },
    {
     "data": {
      "application/vnd.jupyter.widget-view+json": {
       "model_id": "eec6ad7fe1ea4c4a9cd646390dd42d4d",
       "version_major": 2,
       "version_minor": 0
      },
      "text/plain": [
       "HBox(children=(IntProgress(value=0, max=1000), HTML(value='')))"
      ]
     },
     "metadata": {},
     "output_type": "display_data"
    }
   ],
   "source": [
    "# Train data generation\n",
    "train = Ising.Ising(10, 10)\n",
    "x = np.arange(1, 3.5, 0.0625)\n",
    "label = []\n",
    "curr_label = 0\n",
    "X_train = []\n",
    "var = []\n",
    "y = []\n",
    "N = 10**4\n",
    "for T in tqdm(x):\n",
    "    mag = []\n",
    "    if T >= 2.266:\n",
    "        curr_label = 0\n",
    "    else :\n",
    "        curr_label = 1\n",
    "    for i in (range(N)):\n",
    "        train.cluster_ising(1-np.exp(-(1/T)*2))\n",
    "    for _ in tqdm(range(1000)):\n",
    "        for _ in range(100):\n",
    "            train.cluster_ising(1-np.exp(-(1/T)*2))\n",
    "        mag.append(train.magnetism())\n",
    "        X_train.append(np.array(train.lattice.reshape((1, train.y*train.x))[0]))\n",
    "        label.append(curr_label)\n",
    "    mn = np.mean(mag)\n",
    "    y.append(mn)\n",
    "    var.append(np.std(mag))"
   ]
  },
  {
   "cell_type": "code",
   "execution_count": 8,
   "metadata": {},
   "outputs": [],
   "source": [
    "# Save\n",
    "np.save(\"./Data/data_size10_min1_max3.5_steap0.0625_batch1000_re100_N10000\", X_train)\n",
    "np.save(\"./Data/labels_size10_min1_max3.5_steap0.0625_batch1000_re100_N10000\", label)"
   ]
  },
  {
   "cell_type": "code",
   "execution_count": 9,
   "metadata": {},
   "outputs": [
    {
     "data": {
      "text/plain": [
       "[<matplotlib.lines.Line2D at 0x25b3354e6a0>]"
      ]
     },
     "execution_count": 9,
     "metadata": {},
     "output_type": "execute_result"
    },
    {
     "data": {
      "image/png": "[encoded data removed]",
      "text/plain": [
       "<Figure size 432x288 with 1 Axes>"
      ]
     },
     "metadata": {
      "needs_background": "light"
     },
     "output_type": "display_data"
    }
   ],
   "source": [
    "#С рандомными\n",
    "plt.plot(x, y)\n",
    "plt.xlabel(\"T\")\n",
    "plt.ylabel(\"magnetism\")\n",
    "\n",
    "x_line = np.arange(0,1.1, 0.1)\n",
    "plt.plot([2.266]*x_line.shape[0], x_line, '-')"
   ]
  },
  {
   "cell_type": "markdown",
   "metadata": {},
   "source": [
    "## Training"
   ]
  },
  {
   "cell_type": "code",
   "execution_count": 48,
   "metadata": {},
   "outputs": [],
   "source": [
    "X = np.array(X) "
   ]
  },
  {
   "cell_type": "code",
   "execution_count": 60,
   "metadata": {},
   "outputs": [],
   "source": [
    "x_cat = np.array([[i]*1000 for i in x])"
   ]
  },
  {
   "cell_type": "code",
   "execution_count": 62,
   "metadata": {},
   "outputs": [],
   "source": [
    "X = np.concatenate((X, x_cat.reshape(-1,1)), axis=1)"
   ]
  },
  {
   "cell_type": "code",
   "execution_count": null,
   "metadata": {},
   "outputs": [],
   "source": []
  },
  {
   "cell_type": "code",
   "execution_count": 82,
   "metadata": {},
   "outputs": [],
   "source": [
    "X_train, X_test, y_train, y_test = train_test_split(X, label)"
   ]
  },
  {
   "cell_type": "code",
   "execution_count": 83,
   "metadata": {},
   "outputs": [],
   "source": [
    "X_train_time = X_train[:, -1]\n",
    "X_test_time = X_test[:, -1]"
   ]
  },
  {
   "cell_type": "code",
   "execution_count": 84,
   "metadata": {},
   "outputs": [],
   "source": [
    "X_train = X_train[:, :X_train.shape[1]-1]\n",
    "X_test = X_test[:, :X_test.shape[1]-1]"
   ]
  },
  {
   "cell_type": "code",
   "execution_count": 85,
   "metadata": {},
   "outputs": [],
   "source": [
    "X_train = np.array(X_train)\n",
    "X_train = torch.from_numpy(X_train)\n",
    "y_train = torch.from_numpy(np.array(y_train))"
   ]
  },
  {
   "cell_type": "code",
   "execution_count": 86,
   "metadata": {},
   "outputs": [],
   "source": [
    "X_test = np.array(X_test)\n",
    "X_test = torch.from_numpy(X_test)\n",
    "y_test = torch.from_numpy(np.array(y_test))"
   ]
  },
  {
   "cell_type": "code",
   "execution_count": 87,
   "metadata": {},
   "outputs": [],
   "source": [
    "class Net(torch.nn.Module):\n",
    "    def __init__(self, input_size=10*10, hidden_size=100):\n",
    "        super().__init__()\n",
    "        self.fc1 = torch.nn.Linear(input_size, hidden_size)\n",
    "        self.act = torch.nn.ReLU()\n",
    "        #self.drop = torch.nn.Dropout()\n",
    "        self.fc2 = torch.nn.Linear(hidden_size, 2)\n",
    "\n",
    "    def forward(self, x):\n",
    "        x = self.fc1(x)\n",
    "        x = self.act(x)\n",
    "        #x = self.drop(x)\n",
    "        x = self.fc2(x)\n",
    "        return x\n",
    "\n",
    "\n",
    "net = Net()"
   ]
  },
  {
   "cell_type": "code",
   "execution_count": 88,
   "metadata": {},
   "outputs": [],
   "source": [
    "device = torch.device(\"cuda:0\" if torch.cuda.is_available() else \"cpu\")\n",
    "X_train = X_train.to(device)\n",
    "X_test = X_test.to(device)\n",
    "y_train = y_train.to(device)\n",
    "y_test = y_test.to(device)"
   ]
  },
  {
   "cell_type": "code",
   "execution_count": 89,
   "metadata": {},
   "outputs": [],
   "source": [
    "net = net.to(device)"
   ]
  },
  {
   "cell_type": "code",
   "execution_count": 90,
   "metadata": {},
   "outputs": [
    {
     "data": {
      "text/plain": [
       "device(type='cpu')"
      ]
     },
     "execution_count": 90,
     "metadata": {},
     "output_type": "execute_result"
    }
   ],
   "source": [
    "device"
   ]
  },
  {
   "cell_type": "code",
   "execution_count": 91,
   "metadata": {},
   "outputs": [
    {
     "name": "stderr",
     "output_type": "stream",
     "text": [
      "C:\\Users\\miair\\Anaconda3\\lib\\site-packages\\ipykernel_launcher.py:17: UserWarning: Implicit dimension choice for softmax has been deprecated. Change the call to include dim=X as an argument.\n",
      "C:\\Users\\miair\\Anaconda3\\lib\\site-packages\\ipykernel_launcher.py:18: UserWarning: Implicit dimension choice for softmax has been deprecated. Change the call to include dim=X as an argument.\n"
     ]
    },
    {
     "name": "stdout",
     "output_type": "stream",
     "text": [
      "0 : val accuracy: 0.601 train accuracy: 0.4427\n",
      "10 : val accuracy: 0.7823 train accuracy: 0.7816\n",
      "20 : val accuracy: 0.848 train accuracy: 0.8456\n",
      "30 : val accuracy: 0.8686 train accuracy: 0.8700666666666667\n",
      "40 : val accuracy: 0.8722 train accuracy: 0.8746333333333334\n",
      "50 : val accuracy: 0.8784 train accuracy: 0.88\n",
      "60 : val accuracy: 0.8805 train accuracy: 0.8826\n",
      "70 : val accuracy: 0.8827 train accuracy: 0.8857333333333334\n",
      "80 : val accuracy: 0.8836 train accuracy: 0.8876333333333334\n",
      "90 : val accuracy: 0.8848 train accuracy: 0.8901666666666667\n",
      "100 : val accuracy: 0.8859 train accuracy: 0.892\n",
      "110 : val accuracy: 0.8872 train accuracy: 0.8939333333333334\n",
      "120 : val accuracy: 0.8882 train accuracy: 0.8953333333333333\n",
      "130 : val accuracy: 0.8886 train accuracy: 0.896\n",
      "140 : val accuracy: 0.8897 train accuracy: 0.8969666666666667\n",
      "150 : val accuracy: 0.8899 train accuracy: 0.8978\n",
      "160 : val accuracy: 0.8909 train accuracy: 0.8990666666666667\n",
      "170 : val accuracy: 0.892 train accuracy: 0.9013666666666666\n",
      "180 : val accuracy: 0.8934 train accuracy: 0.9048666666666667\n",
      "190 : val accuracy: 0.8956 train accuracy: 0.9076666666666666\n",
      "200 : val accuracy: 0.8973 train accuracy: 0.9101333333333333\n",
      "210 : val accuracy: 0.899 train accuracy: 0.9119\n",
      "220 : val accuracy: 0.8995 train accuracy: 0.9137333333333333\n",
      "230 : val accuracy: 0.9 train accuracy: 0.9155333333333333\n",
      "240 : val accuracy: 0.9 train accuracy: 0.9168\n",
      "250 : val accuracy: 0.8999 train accuracy: 0.9176\n",
      "260 : val accuracy: 0.9001 train accuracy: 0.9185\n",
      "270 : val accuracy: 0.8997 train accuracy: 0.9194666666666667\n",
      "280 : val accuracy: 0.9005 train accuracy: 0.9207\n",
      "290 : val accuracy: 0.9005 train accuracy: 0.9219\n",
      "300 : val accuracy: 0.8995 train accuracy: 0.9225\n",
      "310 : val accuracy: 0.8996 train accuracy: 0.9233666666666667\n",
      "320 : val accuracy: 0.8997 train accuracy: 0.9246\n",
      "330 : val accuracy: 0.9001 train accuracy: 0.9253666666666667\n",
      "340 : val accuracy: 0.9006 train accuracy: 0.9266\n",
      "350 : val accuracy: 0.9009 train accuracy: 0.9274\n",
      "360 : val accuracy: 0.9013 train accuracy: 0.9285666666666667\n",
      "370 : val accuracy: 0.9011 train accuracy: 0.9295666666666667\n",
      "380 : val accuracy: 0.9014 train accuracy: 0.9304\n",
      "390 : val accuracy: 0.9016 train accuracy: 0.9307\n"
     ]
    }
   ],
   "source": [
    "cr = torch.nn.Softmax()\n",
    "criterion = torch.nn.CrossEntropyLoss()\n",
    "lr=0.001\n",
    "optimizer = torch.optim.Adam(net.parameters(), lr=lr)\n",
    "for e in range(400):\n",
    "    net.train()\n",
    "    output = net.forward(X_train.float())\n",
    "    loss = criterion(output, y_train.long())\n",
    "    loss.backward()\n",
    "    optimizer.step()\n",
    "    net.zero_grad()\n",
    "    \n",
    "    if e % 10 == 0:\n",
    "        net.eval()\n",
    "        output_val = net.forward(X_test.float())\n",
    "        print(e, \":\", \"val accuracy:\", \n",
    "              ((np.around(cr(output_val)[:, 1].detach().numpy()) == y_test.detach().numpy()).sum())/y_test.detach().numpy().shape[0],\n",
    "             \"train accuracy:\", ((np.around(cr(output)[:, 1].detach().numpy()) == y_train.detach().numpy()).sum())/y_train.detach().numpy().shape[0]) "
   ]
  },
  {
   "cell_type": "code",
   "execution_count": 92,
   "metadata": {},
   "outputs": [
    {
     "name": "stderr",
     "output_type": "stream",
     "text": [
      "C:\\Users\\miair\\Anaconda3\\lib\\site-packages\\ipykernel_launcher.py:3: UserWarning: Implicit dimension choice for softmax has been deprecated. Change the call to include dim=X as an argument.\n",
      "  This is separate from the ipykernel package so we can avoid doing imports until\n",
      "C:\\Users\\miair\\Anaconda3\\lib\\site-packages\\ipykernel_launcher.py:4: UserWarning: Implicit dimension choice for softmax has been deprecated. Change the call to include dim=X as an argument.\n",
      "  after removing the cwd from sys.path.\n"
     ]
    }
   ],
   "source": [
    "output = net.forward(X_train.float())\n",
    "output_val = net.forward(X_test.float())\n",
    "output_soft = cr(output).detach().numpy()\n",
    "output_val_soft = cr(output_val).detach().numpy()"
   ]
  },
  {
   "cell_type": "code",
   "execution_count": 100,
   "metadata": {},
   "outputs": [
    {
     "data": {
      "text/plain": [
       "[<matplotlib.lines.Line2D at 0x25b3369ae10>]"
      ]
     },
     "execution_count": 100,
     "metadata": {},
     "output_type": "execute_result"
    },
    {
     "data": {
      "image/png": "[encoded data removed]",
      "text/plain": [
       "<Figure size 432x288 with 1 Axes>"
      ]
     },
     "metadata": {
      "needs_background": "light"
     },
     "output_type": "display_data"
    }
   ],
   "source": [
    "x_line = np.arange(0,1.2,0.2)\n",
    "output_0 = []\n",
    "for T in np.unique(X_train_time):\n",
    "    indexes = np.where(X_train_time == T)\n",
    "    output_0.append(output_soft[:, 0][indexes].mean())\n",
    "plt.plot(x, output_0, '-.^g', alpha=0.5)\n",
    "output_1 = []\n",
    "for T in np.unique(X_train_time):\n",
    "    indexes = np.where(X_train_time == T)\n",
    "    output_1.append(output_soft[:, 1][indexes].mean())\n",
    "plt.plot(x, output_1, '-.^b', alpha=0.5)\n",
    "plt.plot([2.266]*x_line.shape[0], x_line, '-')"
   ]
  },
  {
   "cell_type": "code",
   "execution_count": 101,
   "metadata": {},
   "outputs": [
    {
     "data": {
      "text/plain": [
       "[<matplotlib.lines.Line2D at 0x25b336ce438>]"
      ]
     },
     "execution_count": 101,
     "metadata": {},
     "output_type": "execute_result"
    },
    {
     "data": {
      "image/png": "[encoded data removed]",
      "text/plain": [
       "<Figure size 432x288 with 1 Axes>"
      ]
     },
     "metadata": {
      "needs_background": "light"
     },
     "output_type": "display_data"
    }
   ],
   "source": [
    "x_line = np.arange(0,1.2,0.2)\n",
    "output_0 = []\n",
    "for T in np.unique(X_test_time):\n",
    "    indexes = np.where(X_test_time == T)\n",
    "    output_0.append(output_val_soft[:, 0][indexes].mean())\n",
    "plt.plot(x, output_0, '-.^g', alpha=0.5)\n",
    "output_1 = []\n",
    "for T in np.unique(X_test_time):\n",
    "    indexes = np.where(X_test_time == T)\n",
    "    output_1.append(output_val_soft[:, 1][indexes].mean())\n",
    "plt.plot(x, output_1, '-.^b', alpha=0.5)\n",
    "plt.plot([2.266]*x_line.shape[0], x_line, '-')"
   ]
  },
  {
   "cell_type": "code",
   "execution_count": 107,
   "metadata": {},
   "outputs": [
    {
     "name": "stderr",
     "output_type": "stream",
     "text": [
      "C:\\Users\\miair\\Anaconda3\\lib\\site-packages\\ipykernel_launcher.py:2: UserWarning: Implicit dimension choice for softmax has been deprecated. Change the call to include dim=X as an argument.\n",
      "  \n"
     ]
    },
    {
     "name": "stdout",
     "output_type": "stream",
     "text": [
      "2.0625 -1.0\n",
      "2.5 1.0\n",
      "2.0 -1.0\n",
      "2.25 -1.0\n",
      "1.875 1.0\n",
      "1.8125 -1.0\n",
      "2.25 -1.0\n",
      "1.9375 1.0\n",
      "2.25 1.0\n",
      "2.1875 1.0\n",
      "2.4375 -1.0\n",
      "2.0625 -1.0\n",
      "2.0 -1.0\n",
      "2.375 -1.0\n",
      "2.1875 -1.0\n",
      "2.0 -1.0\n",
      "2.1875 -1.0\n",
      "1.9375 -1.0\n",
      "2.25 -1.0\n",
      "2.3125 1.0\n",
      "2.25 1.0\n",
      "2.125 1.0\n",
      "2.25 -1.0\n",
      "2.25 -1.0\n",
      "2.3125 -1.0\n",
      "2.0 -1.0\n",
      "1.9375 -1.0\n",
      "2.375 -1.0\n",
      "2.25 -1.0\n",
      "1.9375 -1.0\n",
      "3.0 -1.0\n",
      "2.25 -1.0\n",
      "2.25 -1.0\n",
      "2.0625 1.0\n",
      "2.5 -1.0\n",
      "1.875 -1.0\n",
      "2.0625 1.0\n",
      "2.25 0.98\n",
      "2.1875 1.0\n",
      "2.0 -1.0\n",
      "2.0 1.0\n",
      "1.75 -1.0\n",
      "2.25 -1.0\n",
      "2.75 1.0\n",
      "2.125 1.0\n",
      "2.1875 1.0\n",
      "2.375 1.0\n",
      "1.9375 1.0\n",
      "2.25 -1.0\n",
      "2.1875 -1.0\n",
      "2.125 -1.0\n",
      "2.5 -1.0\n",
      "2.1875 -1.0\n",
      "2.375 -1.0\n",
      "2.1875 1.0\n",
      "2.125 0.98\n",
      "2.125 -1.0\n",
      "2.75 -1.0\n",
      "2.0 -1.0\n",
      "2.5625 -1.0\n",
      "2.3125 -1.0\n",
      "2.8125 -1.0\n",
      "2.0 1.0\n",
      "2.125 1.0\n",
      "2.8125 0.98\n",
      "1.9375 1.0\n",
      "2.1875 1.0\n",
      "1.8125 1.0\n",
      "2.125 1.0\n",
      "2.1875 -1.0\n",
      "2.0625 -1.0\n",
      "2.0625 0.98\n",
      "2.1875 1.0\n",
      "1.875 -1.0\n",
      "1.75 1.0\n",
      "2.375 -1.0\n",
      "2.5 1.0\n",
      "2.125 1.0\n",
      "2.375 -1.0\n",
      "2.25 -1.0\n",
      "2.0 -1.0\n",
      "1.9375 -1.0\n",
      "2.0 1.0\n",
      "2.375 -1.0\n",
      "2.3125 -1.0\n",
      "2.0 -1.0\n",
      "2.25 1.0\n",
      "2.1875 -0.98\n",
      "2.125 -1.0\n",
      "2.0625 -1.0\n",
      "2.3125 -1.0\n",
      "2.4375 1.0\n",
      "2.25 -1.0\n",
      "2.8125 1.0\n",
      "2.125 1.0\n",
      "2.0 -1.0\n",
      "2.0625 1.0\n",
      "3.0 1.0\n",
      "2.4375 1.0\n",
      "2.3125 1.0\n",
      "2.5 -1.0\n",
      "2.0625 -1.0\n",
      "2.375 1.0\n",
      "3.0625 -1.0\n",
      "2.1875 -1.0\n",
      "2.4375 1.0\n",
      "2.0 -1.0\n",
      "2.75 -1.0\n",
      "2.125 -1.0\n",
      "2.25 -1.0\n",
      "2.125 -1.0\n",
      "2.25 -1.0\n",
      "2.5625 -1.0\n",
      "2.1875 -1.0\n",
      "2.8125 1.0\n",
      "2.5 1.0\n",
      "2.5 -1.0\n",
      "2.375 -1.0\n",
      "2.4375 1.0\n",
      "2.1875 -1.0\n",
      "2.5 -1.0\n",
      "2.1875 -1.0\n",
      "2.25 -1.0\n",
      "2.25 1.0\n",
      "1.875 1.0\n",
      "2.4375 -1.0\n",
      "2.5 -1.0\n",
      "2.125 -1.0\n",
      "2.0 -1.0\n",
      "2.75 1.0\n",
      "2.6875 1.0\n",
      "2.125 -1.0\n",
      "2.0 1.0\n",
      "2.3125 -1.0\n",
      "2.5625 -1.0\n",
      "2.1875 1.0\n",
      "2.1875 -1.0\n",
      "1.9375 -1.0\n",
      "3.0 1.0\n",
      "1.9375 -1.0\n",
      "2.8125 -1.0\n",
      "2.375 -1.0\n",
      "2.0625 -0.98\n",
      "2.25 -1.0\n",
      "2.0 1.0\n",
      "2.0625 1.0\n",
      "2.25 1.0\n",
      "2.3125 1.0\n",
      "2.375 1.0\n",
      "2.25 1.0\n",
      "2.1875 -1.0\n",
      "2.1875 1.0\n",
      "2.25 1.0\n",
      "2.1875 1.0\n",
      "2.0625 -1.0\n",
      "2.5 -1.0\n",
      "1.9375 -0.98\n",
      "2.1875 -1.0\n",
      "2.4375 0.98\n",
      "1.875 -1.0\n",
      "2.125 1.0\n",
      "2.25 1.0\n",
      "2.25 1.0\n",
      "2.3125 -1.0\n",
      "2.4375 -1.0\n",
      "2.1875 -1.0\n",
      "2.375 -1.0\n",
      "2.125 1.0\n",
      "2.4375 -1.0\n",
      "2.375 -1.0\n",
      "2.25 -1.0\n",
      "2.1875 -1.0\n",
      "2.125 -1.0\n",
      "2.125 -1.0\n",
      "2.4375 1.0\n",
      "2.1875 -1.0\n",
      "2.5 -1.0\n",
      "2.3125 -1.0\n",
      "2.25 -1.0\n",
      "2.5625 -1.0\n",
      "3.125 0.98\n",
      "2.4375 -1.0\n",
      "2.3125 -1.0\n",
      "2.0625 -1.0\n",
      "2.25 -1.0\n",
      "2.0625 -1.0\n",
      "2.1875 -1.0\n",
      "2.25 -1.0\n",
      "2.125 -1.0\n",
      "2.0 -0.98\n",
      "2.3125 -1.0\n",
      "2.125 -1.0\n",
      "2.375 -1.0\n",
      "2.25 -1.0\n",
      "2.1875 -1.0\n",
      "2.3125 -1.0\n",
      "1.875 1.0\n",
      "2.25 -1.0\n",
      "1.9375 -0.98\n",
      "2.5 -1.0\n",
      "2.3125 0.98\n",
      "2.25 1.0\n",
      "2.0625 -1.0\n",
      "2.3125 -1.0\n",
      "2.0625 -1.0\n",
      "2.0625 1.0\n",
      "2.625 0.98\n",
      "2.25 1.0\n",
      "2.5 1.0\n",
      "2.5625 -1.0\n",
      "2.625 1.0\n",
      "2.1875 -1.0\n",
      "2.6875 -1.0\n",
      "2.125 -0.98\n",
      "2.0 -1.0\n",
      "2.25 1.0\n",
      "2.0 -1.0\n",
      "2.0 -1.0\n",
      "2.0 1.0\n",
      "2.5 -1.0\n",
      "2.1875 1.0\n",
      "2.25 1.0\n",
      "2.25 1.0\n",
      "2.25 -1.0\n",
      "2.0625 1.0\n",
      "2.625 -1.0\n",
      "2.25 -1.0\n",
      "2.25 -1.0\n",
      "1.625 -1.0\n",
      "2.25 1.0\n",
      "2.25 0.98\n",
      "2.375 -1.0\n",
      "2.4375 -1.0\n",
      "2.5625 -1.0\n",
      "2.25 1.0\n",
      "2.6875 -1.0\n",
      "2.3125 1.0\n",
      "2.4375 1.0\n",
      "2.1875 -1.0\n",
      "2.4375 1.0\n",
      "1.875 1.0\n",
      "2.25 -1.0\n",
      "2.1875 1.0\n",
      "2.1875 0.98\n",
      "2.0 -1.0\n",
      "2.0 1.0\n",
      "2.625 -1.0\n",
      "2.0 1.0\n",
      "2.3125 -1.0\n",
      "2.5 -1.0\n",
      "2.125 1.0\n",
      "1.8125 1.0\n",
      "1.9375 1.0\n",
      "2.1875 1.0\n",
      "1.875 1.0\n",
      "2.25 -0.98\n",
      "2.25 1.0\n",
      "2.125 -0.98\n",
      "2.25 -1.0\n",
      "2.1875 -1.0\n",
      "1.9375 -1.0\n",
      "2.3125 -1.0\n",
      "2.625 -0.98\n",
      "2.3125 -1.0\n",
      "2.25 -1.0\n",
      "2.25 -1.0\n",
      "2.25 -1.0\n",
      "2.0625 -1.0\n",
      "2.8125 -1.0\n",
      "2.25 -1.0\n",
      "2.1875 1.0\n",
      "2.375 1.0\n",
      "1.9375 -1.0\n",
      "2.0 1.0\n",
      "2.375 1.0\n",
      "1.9375 -1.0\n",
      "2.375 1.0\n",
      "2.1875 -1.0\n",
      "2.0 -1.0\n",
      "1.875 1.0\n",
      "2.375 1.0\n",
      "2.125 1.0\n",
      "2.1875 1.0\n",
      "2.1875 0.98\n",
      "2.375 1.0\n",
      "2.25 -1.0\n",
      "2.5 1.0\n",
      "2.5 -1.0\n",
      "2.4375 -1.0\n",
      "2.1875 -1.0\n",
      "2.3125 1.0\n",
      "2.5 1.0\n",
      "2.6875 -1.0\n",
      "1.9375 -1.0\n",
      "2.1875 -1.0\n",
      "2.25 -1.0\n",
      "2.1875 0.98\n",
      "2.25 -1.0\n",
      "2.875 1.0\n",
      "2.0625 1.0\n",
      "2.375 1.0\n",
      "2.0625 1.0\n",
      "1.875 1.0\n",
      "2.3125 1.0\n",
      "2.25 1.0\n",
      "2.0625 1.0\n",
      "2.1875 1.0\n",
      "2.3125 1.0\n",
      "2.0 -1.0\n",
      "2.125 -1.0\n",
      "2.125 1.0\n",
      "2.1875 1.0\n",
      "2.25 1.0\n",
      "2.125 -1.0\n",
      "2.1875 1.0\n",
      "2.25 -1.0\n",
      "2.5625 1.0\n",
      "2.125 1.0\n",
      "2.0 0.98\n",
      "2.0 1.0\n",
      "2.6875 -1.0\n",
      "2.25 -0.98\n",
      "2.3125 1.0\n",
      "3.0 1.0\n",
      "2.1875 -1.0\n",
      "2.0625 1.0\n",
      "2.25 -1.0\n",
      "2.125 -1.0\n",
      "2.4375 1.0\n",
      "2.5 -1.0\n",
      "2.1875 1.0\n",
      "2.1875 -1.0\n",
      "2.25 -1.0\n",
      "2.125 1.0\n",
      "2.25 -0.98\n",
      "1.9375 -1.0\n",
      "2.1875 1.0\n",
      "2.125 1.0\n",
      "2.625 1.0\n",
      "2.625 -0.98\n",
      "2.3125 1.0\n",
      "2.4375 1.0\n",
      "2.0625 1.0\n",
      "2.3125 1.0\n",
      "2.25 1.0\n",
      "1.9375 -1.0\n",
      "2.375 1.0\n",
      "2.3125 1.0\n",
      "2.3125 1.0\n",
      "2.125 1.0\n",
      "2.6875 -1.0\n",
      "2.375 -1.0\n",
      "2.625 -0.98\n",
      "3.0 -1.0\n",
      "2.125 -1.0\n",
      "1.9375 -1.0\n",
      "1.875 1.0\n",
      "2.0 1.0\n",
      "2.5 1.0\n",
      "2.1875 1.0\n",
      "2.0 -1.0\n",
      "2.625 -1.0\n",
      "3.1875 -1.0\n",
      "2.0 -1.0\n",
      "1.875 -0.98\n",
      "1.625 -0.96\n",
      "2.375 -0.98\n",
      "1.9375 -1.0\n",
      "2.1875 1.0\n",
      "1.9375 -1.0\n",
      "2.1875 0.94\n",
      "2.125 1.0\n",
      "2.25 1.0\n",
      "2.3125 -1.0\n",
      "2.4375 -1.0\n",
      "2.0 1.0\n",
      "2.375 -1.0\n",
      "2.5 -1.0\n",
      "2.4375 1.0\n",
      "2.25 1.0\n",
      "2.0625 1.0\n",
      "2.1875 -1.0\n",
      "2.25 1.0\n",
      "2.3125 1.0\n",
      "2.25 1.0\n",
      "2.375 -1.0\n",
      "2.375 -1.0\n",
      "2.5 1.0\n",
      "2.3125 -1.0\n",
      "2.0 -1.0\n",
      "2.3125 -1.0\n",
      "2.4375 -1.0\n",
      "2.625 1.0\n",
      "2.0625 -1.0\n",
      "2.3125 -1.0\n",
      "2.3125 1.0\n",
      "2.625 -1.0\n",
      "1.75 0.98\n",
      "2.5 -1.0\n",
      "1.6875 -1.0\n",
      "2.3125 -0.96\n",
      "1.8125 0.98\n",
      "2.25 1.0\n",
      "2.0 -1.0\n",
      "2.3125 -1.0\n",
      "2.75 -1.0\n",
      "2.625 -1.0\n",
      "1.875 1.0\n",
      "2.1875 1.0\n",
      "2.25 -1.0\n",
      "2.25 1.0\n",
      "2.4375 1.0\n",
      "1.875 -1.0\n",
      "2.125 1.0\n",
      "1.875 -1.0\n",
      "1.625 -1.0\n",
      "2.625 -1.0\n",
      "2.25 0.98\n",
      "2.25 1.0\n",
      "2.0 1.0\n",
      "2.25 1.0\n",
      "2.0 -0.94\n",
      "2.875 -1.0\n",
      "2.125 -1.0\n",
      "2.0 -1.0\n",
      "2.375 -1.0\n",
      "2.1875 -0.98\n",
      "2.125 0.98\n",
      "1.9375 -1.0\n",
      "2.4375 -1.0\n",
      "1.5625 1.0\n",
      "3.0 -1.0\n",
      "2.1875 -1.0\n",
      "2.0625 1.0\n",
      "3.0625 1.0\n",
      "1.75 1.0\n",
      "2.25 1.0\n",
      "2.25 1.0\n",
      "1.9375 1.0\n",
      "2.125 1.0\n",
      "2.3125 1.0\n",
      "2.125 1.0\n",
      "2.5625 -1.0\n",
      "2.6875 -1.0\n",
      "2.375 -1.0\n",
      "2.3125 -1.0\n",
      "2.1875 0.98\n",
      "2.25 -1.0\n",
      "2.125 -1.0\n",
      "2.1875 -1.0\n",
      "2.125 -1.0\n",
      "2.125 1.0\n",
      "1.875 1.0\n",
      "2.125 -1.0\n",
      "2.6875 1.0\n",
      "2.1875 1.0\n",
      "2.9375 -1.0\n",
      "2.5 1.0\n",
      "2.25 1.0\n",
      "2.5625 -1.0\n",
      "2.4375 1.0\n",
      "2.375 1.0\n",
      "1.9375 1.0\n",
      "2.25 1.0\n",
      "2.75 -1.0\n",
      "2.0 -0.98\n",
      "2.5625 -0.98\n",
      "2.25 1.0\n",
      "2.3125 -1.0\n",
      "1.75 1.0\n",
      "2.25 -1.0\n",
      "2.375 1.0\n",
      "2.1875 -1.0\n",
      "2.25 -1.0\n",
      "2.625 -1.0\n",
      "2.3125 1.0\n",
      "2.3125 -0.96\n",
      "1.9375 -0.98\n",
      "2.25 -0.98\n",
      "1.8125 -1.0\n",
      "3.0 -1.0\n",
      "2.3125 -1.0\n",
      "2.25 -1.0\n",
      "2.125 -1.0\n",
      "2.375 -1.0\n",
      "2.125 -1.0\n",
      "2.125 -0.96\n",
      "2.1875 0.98\n",
      "2.125 1.0\n",
      "2.1875 1.0\n",
      "2.25 1.0\n",
      "2.25 -1.0\n",
      "2.5625 -1.0\n",
      "2.125 -0.98\n",
      "2.25 -0.98\n",
      "2.4375 1.0\n",
      "2.375 -1.0\n",
      "2.3125 1.0\n",
      "2.375 -1.0\n",
      "2.25 -1.0\n",
      "1.9375 1.0\n",
      "2.4375 1.0\n",
      "2.1875 1.0\n",
      "2.1875 -1.0\n",
      "2.4375 0.98\n",
      "2.1875 1.0\n",
      "1.9375 1.0\n",
      "2.3125 -1.0\n",
      "2.25 0.98\n",
      "2.125 -1.0\n",
      "2.0 -1.0\n",
      "3.3125 -1.0\n",
      "2.1875 1.0\n",
      "2.25 1.0\n",
      "1.875 1.0\n",
      "3.0 1.0\n",
      "2.5625 0.98\n",
      "1.8125 1.0\n",
      "2.5625 1.0\n",
      "2.0625 1.0\n",
      "2.375 1.0\n",
      "2.5 -1.0\n",
      "2.5625 1.0\n",
      "2.25 1.0\n",
      "2.25 0.98\n",
      "2.5 -1.0\n",
      "2.0 -0.98\n",
      "2.25 0.98\n",
      "2.375 -1.0\n",
      "2.1875 -1.0\n",
      "2.5625 -1.0\n",
      "2.375 -1.0\n",
      "2.3125 -0.98\n",
      "2.0625 0.98\n",
      "2.1875 1.0\n",
      "2.4375 1.0\n",
      "2.0625 -1.0\n",
      "3.3125 1.0\n",
      "2.3125 0.98\n",
      "2.3125 -0.98\n",
      "2.125 1.0\n",
      "2.1875 -0.98\n",
      "2.375 -1.0\n",
      "1.875 1.0\n",
      "2.25 1.0\n",
      "3.0625 -1.0\n",
      "2.3125 -0.98\n",
      "2.1875 1.0\n",
      "2.4375 -1.0\n",
      "1.9375 0.98\n",
      "2.3125 1.0\n",
      "2.125 1.0\n",
      "2.1875 -1.0\n",
      "2.0 -1.0\n",
      "1.6875 1.0\n",
      "2.125 1.0\n",
      "2.0625 -0.96\n",
      "2.3125 0.98\n",
      "1.9375 -0.98\n",
      "2.375 1.0\n",
      "2.125 -0.96\n",
      "1.875 -1.0\n",
      "2.0625 1.0\n",
      "2.1875 -1.0\n",
      "1.8125 1.0\n",
      "2.25 1.0\n",
      "2.0625 -0.98\n",
      "2.4375 -1.0\n",
      "2.4375 1.0\n",
      "2.25 1.0\n",
      "2.0 -1.0\n",
      "2.8125 1.0\n",
      "2.0625 -1.0\n",
      "2.375 -1.0\n",
      "2.0625 -1.0\n",
      "2.1875 1.0\n",
      "2.125 1.0\n",
      "2.3125 0.98\n",
      "2.5 0.98\n",
      "2.125 1.0\n",
      "2.1875 1.0\n",
      "2.1875 1.0\n",
      "2.375 1.0\n",
      "2.125 1.0\n",
      "2.0625 1.0\n",
      "2.1875 1.0\n",
      "2.8125 0.98\n",
      "2.875 -1.0\n",
      "2.875 -0.98\n",
      "2.25 -0.98\n",
      "2.5 -1.0\n",
      "2.0625 1.0\n",
      "2.375 -1.0\n",
      "1.9375 1.0\n",
      "3.125 1.0\n",
      "2.75 1.0\n",
      "2.1875 1.0\n",
      "2.5 1.0\n",
      "2.75 1.0\n",
      "2.5625 -1.0\n",
      "2.1875 1.0\n",
      "2.375 1.0\n",
      "1.8125 -1.0\n",
      "2.1875 1.0\n",
      "2.125 1.0\n",
      "2.3125 -1.0\n",
      "2.125 -1.0\n",
      "2.0625 1.0\n",
      "2.4375 1.0\n",
      "2.0625 1.0\n",
      "2.3125 1.0\n",
      "2.1875 -0.98\n",
      "2.25 -1.0\n",
      "2.3125 -0.98\n",
      "2.0625 -0.96\n",
      "2.125 1.0\n",
      "2.3125 1.0\n",
      "3.25 -1.0\n",
      "2.125 -1.0\n",
      "2.5 -1.0\n",
      "2.375 1.0\n",
      "2.375 -1.0\n",
      "2.0625 1.0\n",
      "2.5 1.0\n",
      "2.375 1.0\n",
      "2.25 0.98\n",
      "1.9375 -1.0\n",
      "2.9375 -1.0\n",
      "2.5 -1.0\n",
      "2.375 -1.0\n",
      "2.25 -1.0\n",
      "1.9375 0.96\n",
      "2.1875 -1.0\n",
      "2.0 -1.0\n",
      "2.3125 -1.0\n",
      "2.125 -0.98\n",
      "2.4375 1.0\n",
      "2.5625 -1.0\n",
      "1.9375 -1.0\n",
      "2.1875 0.98\n",
      "2.125 1.0\n",
      "2.0625 -1.0\n",
      "2.375 -1.0\n",
      "2.1875 0.96\n",
      "2.25 1.0\n",
      "1.875 1.0\n",
      "2.625 -1.0\n",
      "2.125 0.94\n",
      "2.3125 1.0\n",
      "2.3125 -1.0\n",
      "3.0625 -1.0\n",
      "2.0625 1.0\n",
      "1.9375 1.0\n",
      "2.125 1.0\n",
      "2.1875 1.0\n",
      "2.4375 -0.98\n",
      "2.5625 -1.0\n",
      "2.25 1.0\n",
      "2.3125 -0.98\n",
      "2.375 -1.0\n",
      "2.4375 1.0\n",
      "3.1875 1.0\n",
      "2.1875 -1.0\n",
      "2.375 1.0\n",
      "1.9375 1.0\n",
      "1.9375 -1.0\n",
      "2.125 0.98\n",
      "2.6875 1.0\n",
      "2.25 -1.0\n",
      "2.0625 -1.0\n",
      "2.375 0.98\n",
      "2.1875 1.0\n",
      "2.5625 -1.0\n",
      "2.0625 0.98\n",
      "2.875 1.0\n",
      "2.125 -0.98\n",
      "2.375 1.0\n",
      "3.1875 1.0\n",
      "2.25 1.0\n",
      "2.125 1.0\n",
      "2.8125 1.0\n",
      "2.0625 -0.86\n",
      "2.0 0.98\n",
      "2.25 1.0\n",
      "2.25 -0.96\n",
      "2.1875 -1.0\n",
      "2.1875 -0.98\n",
      "2.1875 0.98\n",
      "2.25 -0.94\n",
      "2.5625 1.0\n",
      "2.9375 1.0\n",
      "2.3125 -1.0\n",
      "2.0 -0.98\n",
      "2.4375 -1.0\n",
      "2.1875 -0.98\n",
      "2.25 1.0\n",
      "2.125 -1.0\n",
      "2.375 -1.0\n",
      "2.75 -1.0\n",
      "2.0625 -1.0\n",
      "2.1875 -0.98\n",
      "2.1875 1.0\n",
      "3.1875 -0.98\n",
      "2.3125 1.0\n",
      "2.8125 1.0\n",
      "2.625 0.98\n",
      "2.125 1.0\n",
      "2.125 1.0\n",
      "1.9375 -1.0\n",
      "2.5625 -1.0\n",
      "2.125 1.0\n",
      "2.375 -1.0\n",
      "2.5625 -1.0\n",
      "2.0625 1.0\n",
      "2.1875 -0.96\n",
      "2.1875 -1.0\n",
      "2.0 1.0\n",
      "2.875 -1.0\n",
      "2.1875 -1.0\n",
      "2.6875 -0.9\n",
      "2.0 1.0\n",
      "2.4375 -1.0\n",
      "2.25 1.0\n",
      "2.875 -0.98\n",
      "2.3125 -1.0\n",
      "2.125 -1.0\n",
      "2.0 -1.0\n",
      "2.3125 -1.0\n",
      "2.6875 0.98\n",
      "2.4375 1.0\n",
      "2.3125 -1.0\n",
      "2.1875 -1.0\n",
      "2.0 1.0\n",
      "1.875 -1.0\n",
      "2.8125 -0.96\n",
      "2.4375 -1.0\n",
      "2.125 -1.0\n",
      "2.625 1.0\n",
      "2.1875 -1.0\n",
      "2.6875 0.98\n",
      "2.25 -0.98\n",
      "2.0 -1.0\n",
      "2.25 -0.98\n",
      "2.1875 -1.0\n",
      "2.375 -1.0\n",
      "1.8125 1.0\n",
      "2.0625 0.98\n",
      "2.375 0.98\n",
      "1.4375 0.98\n",
      "2.3125 0.98\n",
      "2.25 -0.98\n",
      "2.1875 -1.0\n",
      "2.125 0.96\n",
      "1.9375 -0.96\n",
      "2.1875 -1.0\n",
      "2.3125 -1.0\n",
      "2.375 -1.0\n",
      "2.25 1.0\n",
      "2.75 0.98\n",
      "2.375 -1.0\n",
      "2.1875 -1.0\n",
      "2.25 -1.0\n",
      "2.25 -1.0\n",
      "2.5 1.0\n",
      "2.6875 -0.98\n",
      "2.3125 1.0\n",
      "2.375 1.0\n",
      "2.25 -0.98\n",
      "2.25 1.0\n",
      "2.4375 0.98\n",
      "2.375 1.0\n",
      "2.9375 0.98\n",
      "2.0 -1.0\n",
      "2.625 0.98\n",
      "2.25 0.98\n",
      "2.8125 1.0\n",
      "2.125 -0.98\n",
      "2.6875 -1.0\n",
      "2.4375 0.98\n",
      "1.875 -1.0\n",
      "2.0625 -1.0\n",
      "2.3125 0.98\n",
      "2.4375 1.0\n",
      "2.25 -1.0\n",
      "2.5 -1.0\n",
      "2.5625 1.0\n",
      "2.0625 -1.0\n",
      "2.25 0.98\n",
      "2.1875 1.0\n",
      "2.125 1.0\n",
      "2.5 1.0\n",
      "2.0625 -1.0\n",
      "2.625 -1.0\n",
      "1.9375 1.0\n",
      "2.1875 1.0\n",
      "2.375 1.0\n",
      "2.8125 1.0\n",
      "2.4375 -1.0\n",
      "2.375 -1.0\n",
      "2.3125 0.98\n",
      "2.25 -1.0\n",
      "2.625 1.0\n",
      "2.1875 0.98\n",
      "2.5625 1.0\n",
      "2.5 -1.0\n",
      "2.25 -1.0\n",
      "2.5625 -0.98\n",
      "2.0625 1.0\n",
      "2.4375 -1.0\n",
      "2.1875 -0.98\n",
      "2.1875 1.0\n",
      "2.5 1.0\n",
      "2.4375 0.98\n",
      "1.875 1.0\n",
      "1.9375 1.0\n",
      "2.0625 0.98\n",
      "2.1875 1.0\n",
      "2.25 0.96\n",
      "2.0625 -0.96\n",
      "2.0625 0.98\n",
      "2.5 -1.0\n",
      "2.0 -0.98\n",
      "1.875 1.0\n",
      "3.0 -1.0\n",
      "2.1875 -1.0\n",
      "2.0 -0.98\n",
      "2.375 -1.0\n",
      "2.3125 1.0\n",
      "2.25 1.0\n",
      "2.875 1.0\n",
      "2.125 -0.96\n",
      "2.25 -1.0\n",
      "2.125 -1.0\n",
      "2.375 0.98\n",
      "3.1875 -1.0\n",
      "2.375 -0.98\n",
      "2.375 -1.0\n",
      "2.25 -1.0\n",
      "2.1875 -1.0\n",
      "2.25 1.0\n",
      "2.1875 1.0\n",
      "2.75 1.0\n",
      "2.4375 0.98\n",
      "2.1875 1.0\n",
      "3.0 -1.0\n",
      "2.0625 1.0\n",
      "1.875 1.0\n",
      "2.6875 0.98\n",
      "2.5 -1.0\n",
      "2.4375 -1.0\n",
      "2.3125 1.0\n",
      "2.125 1.0\n",
      "2.125 -1.0\n",
      "2.25 -1.0\n",
      "2.3125 1.0\n",
      "2.3125 -1.0\n",
      "2.625 1.0\n",
      "2.1875 0.98\n",
      "1.9375 -1.0\n",
      "2.25 1.0\n",
      "2.25 1.0\n",
      "2.25 -1.0\n",
      "1.8125 -1.0\n",
      "2.0625 -1.0\n",
      "2.625 -1.0\n",
      "2.1875 -0.98\n",
      "2.3125 1.0\n",
      "2.125 1.0\n",
      "3.0625 1.0\n",
      "2.1875 -1.0\n",
      "2.125 0.98\n",
      "1.9375 -1.0\n",
      "2.8125 -1.0\n",
      "2.0625 1.0\n",
      "2.4375 0.98\n",
      "2.125 -1.0\n",
      "2.125 1.0\n",
      "2.3125 0.96\n",
      "2.375 1.0\n",
      "2.125 -0.98\n",
      "2.5625 1.0\n",
      "2.1875 -1.0\n",
      "1.9375 -0.98\n",
      "2.25 1.0\n",
      "2.1875 -1.0\n",
      "2.125 -0.96\n",
      "2.5 0.98\n",
      "2.5 -1.0\n",
      "2.6875 1.0\n",
      "2.4375 1.0\n",
      "2.125 0.98\n",
      "2.25 -1.0\n",
      "2.4375 -1.0\n",
      "2.1875 -0.98\n",
      "2.125 0.96\n",
      "2.125 1.0\n",
      "3.4375 -1.0\n",
      "3.1875 -1.0\n",
      "2.0 -1.0\n",
      "2.375 1.0\n",
      "2.625 -1.0\n",
      "2.6875 0.98\n",
      "2.25 -0.96\n",
      "1.9375 0.98\n",
      "2.1875 -1.0\n",
      "2.1875 1.0\n",
      "2.3125 -0.98\n",
      "2.25 1.0\n",
      "1.9375 -0.98\n",
      "2.125 -1.0\n",
      "2.0625 1.0\n",
      "2.5625 -1.0\n",
      "2.1875 0.98\n",
      "2.5 -1.0\n",
      "2.1875 1.0\n",
      "2.3125 -0.98\n",
      "1.875 -1.0\n",
      "2.3125 -0.98\n",
      "2.0 1.0\n",
      "2.0 1.0\n",
      "2.3125 0.98\n",
      "2.25 -1.0\n",
      "1.75 0.98\n",
      "2.125 1.0\n",
      "2.25 1.0\n",
      "2.5625 0.98\n",
      "2.3125 1.0\n",
      "2.375 1.0\n",
      "2.1875 -1.0\n",
      "2.0625 -1.0\n",
      "2.75 1.0\n",
      "2.25 1.0\n",
      "2.5 -1.0\n",
      "2.1875 -0.98\n",
      "2.1875 -1.0\n",
      "2.1875 1.0\n",
      "2.4375 1.0\n",
      "2.125 1.0\n",
      "2.5 -0.98\n",
      "2.0625 -0.98\n",
      "2.4375 1.0\n",
      "2.0625 -0.98\n",
      "2.75 1.0\n",
      "2.1875 1.0\n",
      "2.3125 -1.0\n",
      "2.5625 0.98\n",
      "2.0625 -1.0\n",
      "2.125 -0.98\n",
      "1.9375 0.98\n",
      "2.1875 -0.98\n",
      "2.25 1.0\n",
      "2.0625 -1.0\n",
      "2.4375 -1.0\n",
      "2.1875 0.98\n",
      "2.0 -0.96\n",
      "2.25 -1.0\n",
      "2.4375 1.0\n",
      "2.875 -0.94\n",
      "2.5625 1.0\n",
      "2.625 1.0\n",
      "2.25 1.0\n",
      "2.3125 -1.0\n",
      "2.0625 -0.98\n",
      "2.375 1.0\n",
      "2.3125 0.98\n",
      "2.375 1.0\n",
      "2.0 1.0\n",
      "2.5625 0.98\n",
      "2.5 -1.0\n",
      "2.1875 -0.96\n",
      "2.25 -1.0\n",
      "2.3125 1.0\n",
      "2.25 0.98\n",
      "2.125 1.0\n",
      "2.4375 1.0\n",
      "2.3125 1.0\n",
      "2.5 -0.98\n",
      "2.25 1.0\n",
      "2.0 -1.0\n",
      "2.25 -1.0\n",
      "2.4375 1.0\n",
      "2.0 -1.0\n",
      "1.9375 -1.0\n",
      "2.3125 1.0\n",
      "2.375 1.0\n"
     ]
    }
   ],
   "source": [
    "yy = y_test.detach().numpy()\n",
    "xx = np.around(cr(output_val)[:, 1].detach().numpy())\n",
    "count = 0\n",
    "for i in range(len(xx)):\n",
    "    if xx[i] != yy[i]:\n",
    "        print(X_test_time[i], X_test[i].mean(), xx[i], yy[i])\n",
    "        count +=1\n",
    "  "
   ]
  },
  {
   "cell_type": "code",
   "execution_count": 109,
   "metadata": {},
   "outputs": [
    {
     "name": "stderr",
     "output_type": "stream",
     "text": [
      "C:\\Users\\miair\\Anaconda3\\lib\\site-packages\\ipykernel_launcher.py:2: UserWarning: Implicit dimension choice for softmax has been deprecated. Change the call to include dim=X as an argument.\n",
      "  \n"
     ]
    },
    {
     "data": {
      "text/plain": [
       "tensor([4.9170e-04, 9.9951e-01], grad_fn=<SoftmaxBackward>)"
      ]
     },
     "execution_count": 109,
     "metadata": {},
     "output_type": "execute_result"
    }
   ],
   "source": [
    "xx = torch.from_numpy(np.array([-1]*100))\n",
    "cr(net.forward(xx.float()))"
   ]
  },
  {
   "cell_type": "markdown",
   "metadata": {},
   "source": [
    "## Triangular lattice"
   ]
  },
  {
   "cell_type": "code",
   "execution_count": 4,
   "metadata": {},
   "outputs": [
    {
     "data": {
      "application/vnd.jupyter.widget-view+json": {
       "model_id": "f0b255a1f5c24456989e99f9dc62e656",
       "version_major": 2,
       "version_minor": 0
      },
      "text/plain": [
       "HBox(children=(IntProgress(value=0, max=56), HTML(value='')))"
      ]
     },
     "metadata": {},
     "output_type": "display_data"
    },
    {
     "data": {
      "application/vnd.jupyter.widget-view+json": {
       "model_id": "c4dd4132c00e4a1d9af492a5db8448a6",
       "version_major": 2,
       "version_minor": 0
      },
      "text/plain": [
       "HBox(children=(IntProgress(value=0, max=1000), HTML(value='')))"
      ]
     },
     "metadata": {},
     "output_type": "display_data"
    },
    {
     "name": "stdout",
     "output_type": "stream",
     "text": [
      "\n"
     ]
    },
    {
     "data": {
      "application/vnd.jupyter.widget-view+json": {
       "model_id": "12d65a2ce79d49faa893ef00648d83f9",
       "version_major": 2,
       "version_minor": 0
      },
      "text/plain": [
       "HBox(children=(IntProgress(value=0, max=1000), HTML(value='')))"
      ]
     },
     "metadata": {},
     "output_type": "display_data"
    },
    {
     "name": "stdout",
     "output_type": "stream",
     "text": [
      "\n"
     ]
    },
    {
     "data": {
      "application/vnd.jupyter.widget-view+json": {
       "model_id": "d51eb8da3d8a4b108984f32612bcc6a3",
       "version_major": 2,
       "version_minor": 0
      },
      "text/plain": [
       "HBox(children=(IntProgress(value=0, max=1000), HTML(value='')))"
      ]
     },
     "metadata": {},
     "output_type": "display_data"
    },
    {
     "name": "stdout",
     "output_type": "stream",
     "text": [
      "\n"
     ]
    },
    {
     "data": {
      "application/vnd.jupyter.widget-view+json": {
       "model_id": "a6ef6b80ddfe4ce080425b5aef07f39a",
       "version_major": 2,
       "version_minor": 0
      },
      "text/plain": [
       "HBox(children=(IntProgress(value=0, max=1000), HTML(value='')))"
      ]
     },
     "metadata": {},
     "output_type": "display_data"
    },
    {
     "name": "stdout",
     "output_type": "stream",
     "text": [
      "\n"
     ]
    },
    {
     "data": {
      "application/vnd.jupyter.widget-view+json": {
       "model_id": "cddafb49353244f8a2da7144a3e70cb3",
       "version_major": 2,
       "version_minor": 0
      },
      "text/plain": [
       "HBox(children=(IntProgress(value=0, max=1000), HTML(value='')))"
      ]
     },
     "metadata": {},
     "output_type": "display_data"
    },
    {
     "name": "stdout",
     "output_type": "stream",
     "text": [
      "\n"
     ]
    },
    {
     "data": {
      "application/vnd.jupyter.widget-view+json": {
       "model_id": "e8e82ed1eaee4987af1a94e9306bc628",
       "version_major": 2,
       "version_minor": 0
      },
      "text/plain": [
       "HBox(children=(IntProgress(value=0, max=1000), HTML(value='')))"
      ]
     },
     "metadata": {},
     "output_type": "display_data"
    },
    {
     "name": "stdout",
     "output_type": "stream",
     "text": [
      "\n"
     ]
    },
    {
     "data": {
      "application/vnd.jupyter.widget-view+json": {
       "model_id": "5a6086b4c30944a9a7d7603fade79e2c",
       "version_major": 2,
       "version_minor": 0
      },
      "text/plain": [
       "HBox(children=(IntProgress(value=0, max=1000), HTML(value='')))"
      ]
     },
     "metadata": {},
     "output_type": "display_data"
    },
    {
     "name": "stdout",
     "output_type": "stream",
     "text": [
      "\n"
     ]
    },
    {
     "data": {
      "application/vnd.jupyter.widget-view+json": {
       "model_id": "6933e3c830b647e6846cf25b770a1e53",
       "version_major": 2,
       "version_minor": 0
      },
      "text/plain": [
       "HBox(children=(IntProgress(value=0, max=1000), HTML(value='')))"
      ]
     },
     "metadata": {},
     "output_type": "display_data"
    },
    {
     "name": "stdout",
     "output_type": "stream",
     "text": [
      "\n"
     ]
    },
    {
     "data": {
      "application/vnd.jupyter.widget-view+json": {
       "model_id": "bccc8405f1194254952255c5b7e46dfa",
       "version_major": 2,
       "version_minor": 0
      },
      "text/plain": [
       "HBox(children=(IntProgress(value=0, max=1000), HTML(value='')))"
      ]
     },
     "metadata": {},
     "output_type": "display_data"
    },
    {
     "name": "stdout",
     "output_type": "stream",
     "text": [
      "\n"
     ]
    },
    {
     "data": {
      "application/vnd.jupyter.widget-view+json": {
       "model_id": "925c61c9c8f84d19830c7eb41c6f3cb9",
       "version_major": 2,
       "version_minor": 0
      },
      "text/plain": [
       "HBox(children=(IntProgress(value=0, max=1000), HTML(value='')))"
      ]
     },
     "metadata": {},
     "output_type": "display_data"
    },
    {
     "name": "stdout",
     "output_type": "stream",
     "text": [
      "\n"
     ]
    },
    {
     "data": {
      "application/vnd.jupyter.widget-view+json": {
       "model_id": "870f7f46e71b4f6dbe9a3454627f8135",
       "version_major": 2,
       "version_minor": 0
      },
      "text/plain": [
       "HBox(children=(IntProgress(value=0, max=1000), HTML(value='')))"
      ]
     },
     "metadata": {},
     "output_type": "display_data"
    },
    {
     "name": "stdout",
     "output_type": "stream",
     "text": [
      "\n"
     ]
    },
    {
     "data": {
      "application/vnd.jupyter.widget-view+json": {
       "model_id": "1c61a6e99d8d4d7e8c206d9afd9ecf8b",
       "version_major": 2,
       "version_minor": 0
      },
      "text/plain": [
       "HBox(children=(IntProgress(value=0, max=1000), HTML(value='')))"
      ]
     },
     "metadata": {},
     "output_type": "display_data"
    },
    {
     "name": "stdout",
     "output_type": "stream",
     "text": [
      "\n"
     ]
    },
    {
     "data": {
      "application/vnd.jupyter.widget-view+json": {
       "model_id": "a7a0da2283c240b9bc9857a9acf69a30",
       "version_major": 2,
       "version_minor": 0
      },
      "text/plain": [
       "HBox(children=(IntProgress(value=0, max=1000), HTML(value='')))"
      ]
     },
     "metadata": {},
     "output_type": "display_data"
    },
    {
     "name": "stdout",
     "output_type": "stream",
     "text": [
      "\n"
     ]
    },
    {
     "data": {
      "application/vnd.jupyter.widget-view+json": {
       "model_id": "50119851eecf47faa1f8c6a691f54d90",
       "version_major": 2,
       "version_minor": 0
      },
      "text/plain": [
       "HBox(children=(IntProgress(value=0, max=1000), HTML(value='')))"
      ]
     },
     "metadata": {},
     "output_type": "display_data"
    },
    {
     "name": "stdout",
     "output_type": "stream",
     "text": [
      "\n"
     ]
    },
    {
     "data": {
      "application/vnd.jupyter.widget-view+json": {
       "model_id": "00270338550a48308f4b7297faadd0e0",
       "version_major": 2,
       "version_minor": 0
      },
      "text/plain": [
       "HBox(children=(IntProgress(value=0, max=1000), HTML(value='')))"
      ]
     },
     "metadata": {},
     "output_type": "display_data"
    },
    {
     "name": "stdout",
     "output_type": "stream",
     "text": [
      "\n"
     ]
    },
    {
     "data": {
      "application/vnd.jupyter.widget-view+json": {
       "model_id": "bdb0b1e7f487425fac004d1551f4de41",
       "version_major": 2,
       "version_minor": 0
      },
      "text/plain": [
       "HBox(children=(IntProgress(value=0, max=1000), HTML(value='')))"
      ]
     },
     "metadata": {},
     "output_type": "display_data"
    },
    {
     "name": "stdout",
     "output_type": "stream",
     "text": [
      "\n"
     ]
    },
    {
     "data": {
      "application/vnd.jupyter.widget-view+json": {
       "model_id": "40340301086844ffb552ad209897f122",
       "version_major": 2,
       "version_minor": 0
      },
      "text/plain": [
       "HBox(children=(IntProgress(value=0, max=1000), HTML(value='')))"
      ]
     },
     "metadata": {},
     "output_type": "display_data"
    },
    {
     "name": "stdout",
     "output_type": "stream",
     "text": [
      "\n"
     ]
    },
    {
     "data": {
      "application/vnd.jupyter.widget-view+json": {
       "model_id": "965d7bc1f1a947cd94ffd62df7d4fe2e",
       "version_major": 2,
       "version_minor": 0
      },
      "text/plain": [
       "HBox(children=(IntProgress(value=0, max=1000), HTML(value='')))"
      ]
     },
     "metadata": {},
     "output_type": "display_data"
    },
    {
     "name": "stdout",
     "output_type": "stream",
     "text": [
      "\n"
     ]
    },
    {
     "data": {
      "application/vnd.jupyter.widget-view+json": {
       "model_id": "996f3c87b0284cebba76ba2884ef7c80",
       "version_major": 2,
       "version_minor": 0
      },
      "text/plain": [
       "HBox(children=(IntProgress(value=0, max=1000), HTML(value='')))"
      ]
     },
     "metadata": {},
     "output_type": "display_data"
    },
    {
     "name": "stdout",
     "output_type": "stream",
     "text": [
      "\n"
     ]
    },
    {
     "data": {
      "application/vnd.jupyter.widget-view+json": {
       "model_id": "4123067f20464c109151d074d7f88aec",
       "version_major": 2,
       "version_minor": 0
      },
      "text/plain": [
       "HBox(children=(IntProgress(value=0, max=1000), HTML(value='')))"
      ]
     },
     "metadata": {},
     "output_type": "display_data"
    },
    {
     "name": "stdout",
     "output_type": "stream",
     "text": [
      "\n"
     ]
    },
    {
     "data": {
      "application/vnd.jupyter.widget-view+json": {
       "model_id": "600bf4784eb34880b5148b5d55f679ac",
       "version_major": 2,
       "version_minor": 0
      },
      "text/plain": [
       "HBox(children=(IntProgress(value=0, max=1000), HTML(value='')))"
      ]
     },
     "metadata": {},
     "output_type": "display_data"
    },
    {
     "name": "stdout",
     "output_type": "stream",
     "text": [
      "\n"
     ]
    },
    {
     "data": {
      "application/vnd.jupyter.widget-view+json": {
       "model_id": "35e7e896900a4fefb9e9e356c460ccd5",
       "version_major": 2,
       "version_minor": 0
      },
      "text/plain": [
       "HBox(children=(IntProgress(value=0, max=1000), HTML(value='')))"
      ]
     },
     "metadata": {},
     "output_type": "display_data"
    },
    {
     "name": "stdout",
     "output_type": "stream",
     "text": [
      "\n"
     ]
    },
    {
     "data": {
      "application/vnd.jupyter.widget-view+json": {
       "model_id": "fffeedfaa3544da4aae8d1cab84b866d",
       "version_major": 2,
       "version_minor": 0
      },
      "text/plain": [
       "HBox(children=(IntProgress(value=0, max=1000), HTML(value='')))"
      ]
     },
     "metadata": {},
     "output_type": "display_data"
    },
    {
     "name": "stdout",
     "output_type": "stream",
     "text": [
      "\n"
     ]
    },
    {
     "data": {
      "application/vnd.jupyter.widget-view+json": {
       "model_id": "70eb8b40c71d464e85d9fcfc8e7330c2",
       "version_major": 2,
       "version_minor": 0
      },
      "text/plain": [
       "HBox(children=(IntProgress(value=0, max=1000), HTML(value='')))"
      ]
     },
     "metadata": {},
     "output_type": "display_data"
    },
    {
     "name": "stdout",
     "output_type": "stream",
     "text": [
      "\n"
     ]
    },
    {
     "data": {
      "application/vnd.jupyter.widget-view+json": {
       "model_id": "c03ab0ce4fa24f7b858f5b800c94aa4f",
       "version_major": 2,
       "version_minor": 0
      },
      "text/plain": [
       "HBox(children=(IntProgress(value=0, max=1000), HTML(value='')))"
      ]
     },
     "metadata": {},
     "output_type": "display_data"
    },
    {
     "name": "stdout",
     "output_type": "stream",
     "text": [
      "\n"
     ]
    },
    {
     "data": {
      "application/vnd.jupyter.widget-view+json": {
       "model_id": "12ea9e5232a4478fa1cefabd183edf69",
       "version_major": 2,
       "version_minor": 0
      },
      "text/plain": [
       "HBox(children=(IntProgress(value=0, max=1000), HTML(value='')))"
      ]
     },
     "metadata": {},
     "output_type": "display_data"
    },
    {
     "name": "stdout",
     "output_type": "stream",
     "text": [
      "\n"
     ]
    },
    {
     "data": {
      "application/vnd.jupyter.widget-view+json": {
       "model_id": "bcef482baee9407ea6a27843ac9002a3",
       "version_major": 2,
       "version_minor": 0
      },
      "text/plain": [
       "HBox(children=(IntProgress(value=0, max=1000), HTML(value='')))"
      ]
     },
     "metadata": {},
     "output_type": "display_data"
    },
    {
     "name": "stdout",
     "output_type": "stream",
     "text": [
      "\n"
     ]
    },
    {
     "data": {
      "application/vnd.jupyter.widget-view+json": {
       "model_id": "f827af0ef0394fb7ae56d850f3be5347",
       "version_major": 2,
       "version_minor": 0
      },
      "text/plain": [
       "HBox(children=(IntProgress(value=0, max=1000), HTML(value='')))"
      ]
     },
     "metadata": {},
     "output_type": "display_data"
    },
    {
     "name": "stdout",
     "output_type": "stream",
     "text": [
      "\n"
     ]
    },
    {
     "data": {
      "application/vnd.jupyter.widget-view+json": {
       "model_id": "0191a1ed56c34001834942942b6c47de",
       "version_major": 2,
       "version_minor": 0
      },
      "text/plain": [
       "HBox(children=(IntProgress(value=0, max=1000), HTML(value='')))"
      ]
     },
     "metadata": {},
     "output_type": "display_data"
    },
    {
     "name": "stdout",
     "output_type": "stream",
     "text": [
      "\n"
     ]
    },
    {
     "data": {
      "application/vnd.jupyter.widget-view+json": {
       "model_id": "97b8b0c8688a419db0cad4a17ab57ef5",
       "version_major": 2,
       "version_minor": 0
      },
      "text/plain": [
       "HBox(children=(IntProgress(value=0, max=1000), HTML(value='')))"
      ]
     },
     "metadata": {},
     "output_type": "display_data"
    },
    {
     "name": "stdout",
     "output_type": "stream",
     "text": [
      "\n"
     ]
    },
    {
     "data": {
      "application/vnd.jupyter.widget-view+json": {
       "model_id": "5207b51e328946cc95199a6f0150620b",
       "version_major": 2,
       "version_minor": 0
      },
      "text/plain": [
       "HBox(children=(IntProgress(value=0, max=1000), HTML(value='')))"
      ]
     },
     "metadata": {},
     "output_type": "display_data"
    },
    {
     "name": "stdout",
     "output_type": "stream",
     "text": [
      "\n"
     ]
    },
    {
     "data": {
      "application/vnd.jupyter.widget-view+json": {
       "model_id": "093e1bbd3cac41738670210e241c1be0",
       "version_major": 2,
       "version_minor": 0
      },
      "text/plain": [
       "HBox(children=(IntProgress(value=0, max=1000), HTML(value='')))"
      ]
     },
     "metadata": {},
     "output_type": "display_data"
    },
    {
     "name": "stdout",
     "output_type": "stream",
     "text": [
      "\n"
     ]
    },
    {
     "data": {
      "application/vnd.jupyter.widget-view+json": {
       "model_id": "99165f25469b48e5b90ccef41955201b",
       "version_major": 2,
       "version_minor": 0
      },
      "text/plain": [
       "HBox(children=(IntProgress(value=0, max=1000), HTML(value='')))"
      ]
     },
     "metadata": {},
     "output_type": "display_data"
    },
    {
     "name": "stdout",
     "output_type": "stream",
     "text": [
      "\n"
     ]
    },
    {
     "data": {
      "application/vnd.jupyter.widget-view+json": {
       "model_id": "c58459d9bd5f4bcc96d038f4db4a8d04",
       "version_major": 2,
       "version_minor": 0
      },
      "text/plain": [
       "HBox(children=(IntProgress(value=0, max=1000), HTML(value='')))"
      ]
     },
     "metadata": {},
     "output_type": "display_data"
    },
    {
     "name": "stdout",
     "output_type": "stream",
     "text": [
      "\n"
     ]
    },
    {
     "data": {
      "application/vnd.jupyter.widget-view+json": {
       "model_id": "5405957894014d839ef5607953263b56",
       "version_major": 2,
       "version_minor": 0
      },
      "text/plain": [
       "HBox(children=(IntProgress(value=0, max=1000), HTML(value='')))"
      ]
     },
     "metadata": {},
     "output_type": "display_data"
    },
    {
     "name": "stdout",
     "output_type": "stream",
     "text": [
      "\n"
     ]
    },
    {
     "data": {
      "application/vnd.jupyter.widget-view+json": {
       "model_id": "8b623ac5e44c4b2695a9f32325e27495",
       "version_major": 2,
       "version_minor": 0
      },
      "text/plain": [
       "HBox(children=(IntProgress(value=0, max=1000), HTML(value='')))"
      ]
     },
     "metadata": {},
     "output_type": "display_data"
    },
    {
     "name": "stdout",
     "output_type": "stream",
     "text": [
      "\n"
     ]
    },
    {
     "data": {
      "application/vnd.jupyter.widget-view+json": {
       "model_id": "d58f496a22c349aa803d4dd198bdebe1",
       "version_major": 2,
       "version_minor": 0
      },
      "text/plain": [
       "HBox(children=(IntProgress(value=0, max=1000), HTML(value='')))"
      ]
     },
     "metadata": {},
     "output_type": "display_data"
    },
    {
     "name": "stdout",
     "output_type": "stream",
     "text": [
      "\n"
     ]
    },
    {
     "data": {
      "application/vnd.jupyter.widget-view+json": {
       "model_id": "9986a3f80cc2412588306d3810e867d0",
       "version_major": 2,
       "version_minor": 0
      },
      "text/plain": [
       "HBox(children=(IntProgress(value=0, max=1000), HTML(value='')))"
      ]
     },
     "metadata": {},
     "output_type": "display_data"
    },
    {
     "name": "stdout",
     "output_type": "stream",
     "text": [
      "\n"
     ]
    },
    {
     "data": {
      "application/vnd.jupyter.widget-view+json": {
       "model_id": "220b0002cc364b4ab6302629464bee10",
       "version_major": 2,
       "version_minor": 0
      },
      "text/plain": [
       "HBox(children=(IntProgress(value=0, max=1000), HTML(value='')))"
      ]
     },
     "metadata": {},
     "output_type": "display_data"
    },
    {
     "name": "stdout",
     "output_type": "stream",
     "text": [
      "\n"
     ]
    },
    {
     "data": {
      "application/vnd.jupyter.widget-view+json": {
       "model_id": "73177c37a9684291bda97b587f15e2c4",
       "version_major": 2,
       "version_minor": 0
      },
      "text/plain": [
       "HBox(children=(IntProgress(value=0, max=1000), HTML(value='')))"
      ]
     },
     "metadata": {},
     "output_type": "display_data"
    },
    {
     "name": "stdout",
     "output_type": "stream",
     "text": [
      "\n"
     ]
    },
    {
     "data": {
      "application/vnd.jupyter.widget-view+json": {
       "model_id": "06edd39020214a50ba06875f579b104d",
       "version_major": 2,
       "version_minor": 0
      },
      "text/plain": [
       "HBox(children=(IntProgress(value=0, max=1000), HTML(value='')))"
      ]
     },
     "metadata": {},
     "output_type": "display_data"
    },
    {
     "name": "stdout",
     "output_type": "stream",
     "text": [
      "\n"
     ]
    },
    {
     "data": {
      "application/vnd.jupyter.widget-view+json": {
       "model_id": "168b00513f0f4d80add7b91e8d44b051",
       "version_major": 2,
       "version_minor": 0
      },
      "text/plain": [
       "HBox(children=(IntProgress(value=0, max=1000), HTML(value='')))"
      ]
     },
     "metadata": {},
     "output_type": "display_data"
    },
    {
     "name": "stdout",
     "output_type": "stream",
     "text": [
      "\n"
     ]
    },
    {
     "data": {
      "application/vnd.jupyter.widget-view+json": {
       "model_id": "0642e1000b9c497295f1ad015727b8a2",
       "version_major": 2,
       "version_minor": 0
      },
      "text/plain": [
       "HBox(children=(IntProgress(value=0, max=1000), HTML(value='')))"
      ]
     },
     "metadata": {},
     "output_type": "display_data"
    },
    {
     "name": "stdout",
     "output_type": "stream",
     "text": [
      "\n"
     ]
    },
    {
     "data": {
      "application/vnd.jupyter.widget-view+json": {
       "model_id": "f2c829571fbe48ac891f77570c8a4fd5",
       "version_major": 2,
       "version_minor": 0
      },
      "text/plain": [
       "HBox(children=(IntProgress(value=0, max=1000), HTML(value='')))"
      ]
     },
     "metadata": {},
     "output_type": "display_data"
    },
    {
     "name": "stdout",
     "output_type": "stream",
     "text": [
      "\n"
     ]
    },
    {
     "data": {
      "application/vnd.jupyter.widget-view+json": {
       "model_id": "d03a54659d614b97a384bc78e13ec551",
       "version_major": 2,
       "version_minor": 0
      },
      "text/plain": [
       "HBox(children=(IntProgress(value=0, max=1000), HTML(value='')))"
      ]
     },
     "metadata": {},
     "output_type": "display_data"
    },
    {
     "name": "stdout",
     "output_type": "stream",
     "text": [
      "\n"
     ]
    },
    {
     "data": {
      "application/vnd.jupyter.widget-view+json": {
       "model_id": "05bd74e6353d4183b9c4b199abe71db7",
       "version_major": 2,
       "version_minor": 0
      },
      "text/plain": [
       "HBox(children=(IntProgress(value=0, max=1000), HTML(value='')))"
      ]
     },
     "metadata": {},
     "output_type": "display_data"
    },
    {
     "name": "stdout",
     "output_type": "stream",
     "text": [
      "\n"
     ]
    },
    {
     "data": {
      "application/vnd.jupyter.widget-view+json": {
       "model_id": "184d9059b9e74be5afdefbf53b1f59ae",
       "version_major": 2,
       "version_minor": 0
      },
      "text/plain": [
       "HBox(children=(IntProgress(value=0, max=1000), HTML(value='')))"
      ]
     },
     "metadata": {},
     "output_type": "display_data"
    },
    {
     "name": "stdout",
     "output_type": "stream",
     "text": [
      "\n"
     ]
    },
    {
     "data": {
      "application/vnd.jupyter.widget-view+json": {
       "model_id": "07583ba0ee1e4ccdb39f66009d176182",
       "version_major": 2,
       "version_minor": 0
      },
      "text/plain": [
       "HBox(children=(IntProgress(value=0, max=1000), HTML(value='')))"
      ]
     },
     "metadata": {},
     "output_type": "display_data"
    },
    {
     "name": "stdout",
     "output_type": "stream",
     "text": [
      "\n"
     ]
    },
    {
     "data": {
      "application/vnd.jupyter.widget-view+json": {
       "model_id": "03bb90892f304ede8e629f443ad1954e",
       "version_major": 2,
       "version_minor": 0
      },
      "text/plain": [
       "HBox(children=(IntProgress(value=0, max=1000), HTML(value='')))"
      ]
     },
     "metadata": {},
     "output_type": "display_data"
    },
    {
     "name": "stdout",
     "output_type": "stream",
     "text": [
      "\n"
     ]
    },
    {
     "data": {
      "application/vnd.jupyter.widget-view+json": {
       "model_id": "3e212b42059f480588f32e1898e29b0b",
       "version_major": 2,
       "version_minor": 0
      },
      "text/plain": [
       "HBox(children=(IntProgress(value=0, max=1000), HTML(value='')))"
      ]
     },
     "metadata": {},
     "output_type": "display_data"
    },
    {
     "name": "stdout",
     "output_type": "stream",
     "text": [
      "\n"
     ]
    },
    {
     "data": {
      "application/vnd.jupyter.widget-view+json": {
       "model_id": "ed30b791a3934eb4b64ca94c3ac18a13",
       "version_major": 2,
       "version_minor": 0
      },
      "text/plain": [
       "HBox(children=(IntProgress(value=0, max=1000), HTML(value='')))"
      ]
     },
     "metadata": {},
     "output_type": "display_data"
    },
    {
     "name": "stdout",
     "output_type": "stream",
     "text": [
      "\n"
     ]
    },
    {
     "data": {
      "application/vnd.jupyter.widget-view+json": {
       "model_id": "b3342a45aee14e7788d7f437ad2261a9",
       "version_major": 2,
       "version_minor": 0
      },
      "text/plain": [
       "HBox(children=(IntProgress(value=0, max=1000), HTML(value='')))"
      ]
     },
     "metadata": {},
     "output_type": "display_data"
    },
    {
     "name": "stdout",
     "output_type": "stream",
     "text": [
      "\n"
     ]
    },
    {
     "data": {
      "application/vnd.jupyter.widget-view+json": {
       "model_id": "fecbd65e33b440668b1e013442d368b9",
       "version_major": 2,
       "version_minor": 0
      },
      "text/plain": [
       "HBox(children=(IntProgress(value=0, max=1000), HTML(value='')))"
      ]
     },
     "metadata": {},
     "output_type": "display_data"
    },
    {
     "name": "stdout",
     "output_type": "stream",
     "text": [
      "\n"
     ]
    },
    {
     "data": {
      "application/vnd.jupyter.widget-view+json": {
       "model_id": "e58cb4b7068d457bbf564d4b89d8cd38",
       "version_major": 2,
       "version_minor": 0
      },
      "text/plain": [
       "HBox(children=(IntProgress(value=0, max=1000), HTML(value='')))"
      ]
     },
     "metadata": {},
     "output_type": "display_data"
    },
    {
     "name": "stdout",
     "output_type": "stream",
     "text": [
      "\n"
     ]
    },
    {
     "data": {
      "application/vnd.jupyter.widget-view+json": {
       "model_id": "87a59011e6334c64ad8adba714a3a10d",
       "version_major": 2,
       "version_minor": 0
      },
      "text/plain": [
       "HBox(children=(IntProgress(value=0, max=1000), HTML(value='')))"
      ]
     },
     "metadata": {},
     "output_type": "display_data"
    },
    {
     "name": "stdout",
     "output_type": "stream",
     "text": [
      "\n"
     ]
    },
    {
     "data": {
      "application/vnd.jupyter.widget-view+json": {
       "model_id": "66dc1afb94d74a26be841e0f6615b93f",
       "version_major": 2,
       "version_minor": 0
      },
      "text/plain": [
       "HBox(children=(IntProgress(value=0, max=1000), HTML(value='')))"
      ]
     },
     "metadata": {},
     "output_type": "display_data"
    },
    {
     "name": "stdout",
     "output_type": "stream",
     "text": [
      "\n",
      "\n"
     ]
    }
   ],
   "source": [
    "# triangular Test data generation\n",
    "test = Ising.Ising(10, 10)\n",
    "x = np.arange(2, 5.5, 0.0625)\n",
    "label = []\n",
    "curr_label = 1\n",
    "X_test = []\n",
    "var = []\n",
    "y = []\n",
    "N = 10**4\n",
    "for T in tqdm(x):\n",
    "    mag = []\n",
    "    if T >= 3.65:\n",
    "        curr_label = 0\n",
    "    else :\n",
    "        curr_label = 1\n",
    "    for i in (range(N)):\n",
    "        test.cluster_ising(1-np.exp(-(1/T)*2), \"triangular\")\n",
    "    for _ in tqdm(range(1000)):\n",
    "        for _ in range(100):\n",
    "            test.cluster_ising(1-np.exp(-(1/T)*2), \"triangular\")\n",
    "        mag.append(test.magnetism())\n",
    "        X_test.append(np.array(test.lattice.reshape((1, test.y*test.x))[0]))\n",
    "        label.append(curr_label)\n",
    "    mn = np.mean(mag)\n",
    "    y.append(mn)\n",
    "    var.append(np.std(mag))"
   ]
  },
  {
   "cell_type": "code",
   "execution_count": 5,
   "metadata": {},
   "outputs": [],
   "source": [
    "# Save\n",
    "np.save(\"./Data/data_size10_min1_max3.5_steap0.0625_batch1000_re100_N10000_triangular\", X_test)\n",
    "np.save(\"./Data/labels_size10_min1_max3.5_steap0.0625_batch1000_re100_N10000_triangular\", label)"
   ]
  },
  {
   "cell_type": "code",
   "execution_count": 18,
   "metadata": {},
   "outputs": [
    {
     "name": "stderr",
     "output_type": "stream",
     "text": [
      "C:\\Users\\Nikita\\Anaconda3\\lib\\site-packages\\ipykernel_launcher.py:2: UserWarning: Implicit dimension choice for softmax has been deprecated. Change the call to include dim=X as an argument.\n",
      "  \n"
     ]
    },
    {
     "name": "stdout",
     "output_type": "stream",
     "text": [
      "val accuracy: 0.5365\n"
     ]
    }
   ],
   "source": [
    "print(\"val accuracy:\", \n",
    "              ((np.around(cr(output)[:, 1].detach().numpy()) == labels_test.detach().numpy()).sum())/labels_test.detach().numpy().shape[0])"
   ]
  },
  {
   "cell_type": "code",
   "execution_count": null,
   "metadata": {},
   "outputs": [],
   "source": []
  }
 ],
 "metadata": {
  "kernelspec": {
   "display_name": "Python 3",
   "language": "python",
   "name": "python3"
  },
  "language_info": {
   "codemirror_mode": {
    "name": "ipython",
    "version": 3
   },
   "file_extension": ".py",
   "mimetype": "text/x-python",
   "name": "python",
   "nbconvert_exporter": "python",
   "pygments_lexer": "ipython3",
   "version": "3.7.4"
  },
  "varInspector": {
   "cols": {
    "lenName": 16,
    "lenType": 16,
    "lenVar": 40
   },
   "kernels_config": {
    "python": {
     "delete_cmd_postfix": "",
     "delete_cmd_prefix": "del ",
     "library": "var_list.py",
     "varRefreshCmd": "print(var_dic_list())"
    },
    "r": {
     "delete_cmd_postfix": ") ",
     "delete_cmd_prefix": "rm(",
     "library": "var_list.r",
     "varRefreshCmd": "cat(var_dic_list()) "
    }
   },
   "types_to_exclude": [
    "module",
    "function",
    "builtin_function_or_method",
    "instance",
    "_Feature"
   ],
   "window_display": false
  }
 },
 "nbformat": 4,
 "nbformat_minor": 2
}
