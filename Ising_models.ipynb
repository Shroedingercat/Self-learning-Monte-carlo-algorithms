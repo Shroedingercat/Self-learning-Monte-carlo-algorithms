{
 "cells": [
  {
   "cell_type": "code",
   "execution_count": 2,
   "metadata": {},
   "outputs": [],
   "source": [
    "import os\n",
    "import torch\n",
    "import numpy as np\n",
    "import matplotlib.pyplot as plt\n",
    "#os.chdir(\"C:/Users/Nikita/Documents/GitHub/Self-learning-Monte-carlo-algorithms\")\n",
    "os.chdir(\"C:/aut/Self-learning-Monte-carlo-algorithms\")\n",
    "import Ising\n",
    "from tqdm import tqdm_notebook as tqdm\n",
    "from sklearn.model_selection import train_test_split\n",
    "%matplotlib inline\n",
    "plt.style.use('ggplot')"
   ]
  },
  {
   "cell_type": "markdown",
   "metadata": {},
   "source": [
    "## Square lattice"
   ]
  },
  {
   "cell_type": "code",
   "execution_count": 2,
   "metadata": {},
   "outputs": [],
   "source": [
    "test_ising = Ising.Ising(16, 16)\n",
    "test_ising.lattice = np.array([16*[1] for i in range(16)])"
   ]
  },
  {
   "cell_type": "code",
   "execution_count": 3,
   "metadata": {
    "scrolled": true
   },
   "outputs": [
    {
     "data": {
      "image/png": "[encoded data removed]",
      "text/plain": [
       "<Figure size 432x288 with 1 Axes>"
      ]
     },
     "metadata": {
      "needs_background": "light"
     },
     "output_type": "display_data"
    }
   ],
   "source": [
    "test_ising.show()"
   ]
  },
  {
   "cell_type": "code",
   "execution_count": 4,
   "metadata": {},
   "outputs": [
    {
     "data": {
      "image/png": "[encoded data removed]",
      "text/plain": [
       "<Figure size 432x288 with 1 Axes>"
      ]
     },
     "metadata": {
      "needs_background": "light"
     },
     "output_type": "display_data"
    }
   ],
   "source": [
    "test_ising.cluster_ising(1-np.exp(-0.3 * 2))\n",
    "test_ising.show()"
   ]
  },
  {
   "cell_type": "code",
   "execution_count": 5,
   "metadata": {},
   "outputs": [
    {
     "data": {
      "text/plain": [
       "0.8359375"
      ]
     },
     "execution_count": 5,
     "metadata": {},
     "output_type": "execute_result"
    }
   ],
   "source": [
    "test_ising.magnetism()"
   ]
  },
  {
   "cell_type": "code",
   "execution_count": 4,
   "metadata": {
    "scrolled": true
   },
   "outputs": [
    {
     "data": {
      "application/vnd.jupyter.widget-view+json": {
       "model_id": "ea199d04b6ec423fbea04a806c15b7cf",
       "version_major": 2,
       "version_minor": 0
      },
      "text/plain": [
       "HBox(children=(IntProgress(value=0, max=40), HTML(value='')))"
      ]
     },
     "metadata": {},
     "output_type": "display_data"
    },
    {
     "data": {
      "application/vnd.jupyter.widget-view+json": {
       "model_id": "6f96835b6b8946a092e28670d17aa120",
       "version_major": 2,
       "version_minor": 0
      },
      "text/plain": [
       "HBox(children=(IntProgress(value=0, max=1000), HTML(value='')))"
      ]
     },
     "metadata": {},
     "output_type": "display_data"
    },
    {
     "data": {
      "application/vnd.jupyter.widget-view+json": {
       "model_id": "727b9b97e23245d9ad95fb8aecf4334a",
       "version_major": 2,
       "version_minor": 0
      },
      "text/plain": [
       "HBox(children=(IntProgress(value=0, max=1000), HTML(value='')))"
      ]
     },
     "metadata": {},
     "output_type": "display_data"
    },
    {
     "data": {
      "application/vnd.jupyter.widget-view+json": {
       "model_id": "1bee3ca7038d48aa9e4e2012f38a2752",
       "version_major": 2,
       "version_minor": 0
      },
      "text/plain": [
       "HBox(children=(IntProgress(value=0, max=1000), HTML(value='')))"
      ]
     },
     "metadata": {},
     "output_type": "display_data"
    },
    {
     "data": {
      "application/vnd.jupyter.widget-view+json": {
       "model_id": "3b8918cb6bbe4f64bd13cd3f1a88d1f0",
       "version_major": 2,
       "version_minor": 0
      },
      "text/plain": [
       "HBox(children=(IntProgress(value=0, max=1000), HTML(value='')))"
      ]
     },
     "metadata": {},
     "output_type": "display_data"
    },
    {
     "data": {
      "application/vnd.jupyter.widget-view+json": {
       "model_id": "3b8e2b9442f54ecd8fd4324e5ac28b65",
       "version_major": 2,
       "version_minor": 0
      },
      "text/plain": [
       "HBox(children=(IntProgress(value=0, max=1000), HTML(value='')))"
      ]
     },
     "metadata": {},
     "output_type": "display_data"
    },
    {
     "data": {
      "application/vnd.jupyter.widget-view+json": {
       "model_id": "8221795c98d0463e9819e41f590f1d31",
       "version_major": 2,
       "version_minor": 0
      },
      "text/plain": [
       "HBox(children=(IntProgress(value=0, max=1000), HTML(value='')))"
      ]
     },
     "metadata": {},
     "output_type": "display_data"
    },
    {
     "data": {
      "application/vnd.jupyter.widget-view+json": {
       "model_id": "42cc33f9d8934c2ea2996a09e98300a4",
       "version_major": 2,
       "version_minor": 0
      },
      "text/plain": [
       "HBox(children=(IntProgress(value=0, max=1000), HTML(value='')))"
      ]
     },
     "metadata": {},
     "output_type": "display_data"
    },
    {
     "data": {
      "application/vnd.jupyter.widget-view+json": {
       "model_id": "b11d1ec6912943e8a8ec415c6afa0ecc",
       "version_major": 2,
       "version_minor": 0
      },
      "text/plain": [
       "HBox(children=(IntProgress(value=0, max=1000), HTML(value='')))"
      ]
     },
     "metadata": {},
     "output_type": "display_data"
    },
    {
     "data": {
      "application/vnd.jupyter.widget-view+json": {
       "model_id": "ee6aaadbba26469db0c85cc7825dcb8d",
       "version_major": 2,
       "version_minor": 0
      },
      "text/plain": [
       "HBox(children=(IntProgress(value=0, max=1000), HTML(value='')))"
      ]
     },
     "metadata": {},
     "output_type": "display_data"
    },
    {
     "data": {
      "application/vnd.jupyter.widget-view+json": {
       "model_id": "ad8c0b5a2b2c476ba76df4e52a108fec",
       "version_major": 2,
       "version_minor": 0
      },
      "text/plain": [
       "HBox(children=(IntProgress(value=0, max=1000), HTML(value='')))"
      ]
     },
     "metadata": {},
     "output_type": "display_data"
    },
    {
     "data": {
      "application/vnd.jupyter.widget-view+json": {
       "model_id": "5820551722b74999bc2c5a351fb40af8",
       "version_major": 2,
       "version_minor": 0
      },
      "text/plain": [
       "HBox(children=(IntProgress(value=0, max=1000), HTML(value='')))"
      ]
     },
     "metadata": {},
     "output_type": "display_data"
    },
    {
     "data": {
      "application/vnd.jupyter.widget-view+json": {
       "model_id": "33666e73ba1b4c6da89a2a3611440d95",
       "version_major": 2,
       "version_minor": 0
      },
      "text/plain": [
       "HBox(children=(IntProgress(value=0, max=1000), HTML(value='')))"
      ]
     },
     "metadata": {},
     "output_type": "display_data"
    },
    {
     "data": {
      "application/vnd.jupyter.widget-view+json": {
       "model_id": "8b13d1885ae84cbe9d0d9f5a23d44f5c",
       "version_major": 2,
       "version_minor": 0
      },
      "text/plain": [
       "HBox(children=(IntProgress(value=0, max=1000), HTML(value='')))"
      ]
     },
     "metadata": {},
     "output_type": "display_data"
    },
    {
     "data": {
      "application/vnd.jupyter.widget-view+json": {
       "model_id": "fc52602888df4d26bf8d967f9f86028c",
       "version_major": 2,
       "version_minor": 0
      },
      "text/plain": [
       "HBox(children=(IntProgress(value=0, max=1000), HTML(value='')))"
      ]
     },
     "metadata": {},
     "output_type": "display_data"
    },
    {
     "data": {
      "application/vnd.jupyter.widget-view+json": {
       "model_id": "a09019f0173d42999399e828e5fc9cee",
       "version_major": 2,
       "version_minor": 0
      },
      "text/plain": [
       "HBox(children=(IntProgress(value=0, max=1000), HTML(value='')))"
      ]
     },
     "metadata": {},
     "output_type": "display_data"
    },
    {
     "data": {
      "application/vnd.jupyter.widget-view+json": {
       "model_id": "c334e1320b5649999e7520eb36835806",
       "version_major": 2,
       "version_minor": 0
      },
      "text/plain": [
       "HBox(children=(IntProgress(value=0, max=1000), HTML(value='')))"
      ]
     },
     "metadata": {},
     "output_type": "display_data"
    },
    {
     "data": {
      "application/vnd.jupyter.widget-view+json": {
       "model_id": "fc1fd85131694de59c3c2135d3ff966d",
       "version_major": 2,
       "version_minor": 0
      },
      "text/plain": [
       "HBox(children=(IntProgress(value=0, max=1000), HTML(value='')))"
      ]
     },
     "metadata": {},
     "output_type": "display_data"
    },
    {
     "data": {
      "application/vnd.jupyter.widget-view+json": {
       "model_id": "4832d568bd9343468435cc6e84a630a6",
       "version_major": 2,
       "version_minor": 0
      },
      "text/plain": [
       "HBox(children=(IntProgress(value=0, max=1000), HTML(value='')))"
      ]
     },
     "metadata": {},
     "output_type": "display_data"
    },
    {
     "data": {
      "application/vnd.jupyter.widget-view+json": {
       "model_id": "88966717ae334df0b5eb80467fc38061",
       "version_major": 2,
       "version_minor": 0
      },
      "text/plain": [
       "HBox(children=(IntProgress(value=0, max=1000), HTML(value='')))"
      ]
     },
     "metadata": {},
     "output_type": "display_data"
    },
    {
     "data": {
      "application/vnd.jupyter.widget-view+json": {
       "model_id": "0ba8e007d27c4869982f93f4e235341c",
       "version_major": 2,
       "version_minor": 0
      },
      "text/plain": [
       "HBox(children=(IntProgress(value=0, max=1000), HTML(value='')))"
      ]
     },
     "metadata": {},
     "output_type": "display_data"
    },
    {
     "data": {
      "application/vnd.jupyter.widget-view+json": {
       "model_id": "2c3b5468474f4d3f827ccf23902af5f7",
       "version_major": 2,
       "version_minor": 0
      },
      "text/plain": [
       "HBox(children=(IntProgress(value=0, max=1000), HTML(value='')))"
      ]
     },
     "metadata": {},
     "output_type": "display_data"
    },
    {
     "data": {
      "application/vnd.jupyter.widget-view+json": {
       "model_id": "a4095bb099f54e16a88c522baa444cea",
       "version_major": 2,
       "version_minor": 0
      },
      "text/plain": [
       "HBox(children=(IntProgress(value=0, max=1000), HTML(value='')))"
      ]
     },
     "metadata": {},
     "output_type": "display_data"
    },
    {
     "data": {
      "application/vnd.jupyter.widget-view+json": {
       "model_id": "3337739472544625bd7fa1eb3ceb2354",
       "version_major": 2,
       "version_minor": 0
      },
      "text/plain": [
       "HBox(children=(IntProgress(value=0, max=1000), HTML(value='')))"
      ]
     },
     "metadata": {},
     "output_type": "display_data"
    },
    {
     "data": {
      "application/vnd.jupyter.widget-view+json": {
       "model_id": "77ff160d1dbd4008a6393d243ed6b2dd",
       "version_major": 2,
       "version_minor": 0
      },
      "text/plain": [
       "HBox(children=(IntProgress(value=0, max=1000), HTML(value='')))"
      ]
     },
     "metadata": {},
     "output_type": "display_data"
    },
    {
     "data": {
      "application/vnd.jupyter.widget-view+json": {
       "model_id": "28c78e7bdf214681ae5c99407fed57b2",
       "version_major": 2,
       "version_minor": 0
      },
      "text/plain": [
       "HBox(children=(IntProgress(value=0, max=1000), HTML(value='')))"
      ]
     },
     "metadata": {},
     "output_type": "display_data"
    },
    {
     "data": {
      "application/vnd.jupyter.widget-view+json": {
       "model_id": "7d29a9fa988048e794cbccdbc431fe50",
       "version_major": 2,
       "version_minor": 0
      },
      "text/plain": [
       "HBox(children=(IntProgress(value=0, max=1000), HTML(value='')))"
      ]
     },
     "metadata": {},
     "output_type": "display_data"
    },
    {
     "data": {
      "application/vnd.jupyter.widget-view+json": {
       "model_id": "8ec358cb56524a529c47ba9280c311d9",
       "version_major": 2,
       "version_minor": 0
      },
      "text/plain": [
       "HBox(children=(IntProgress(value=0, max=1000), HTML(value='')))"
      ]
     },
     "metadata": {},
     "output_type": "display_data"
    },
    {
     "data": {
      "application/vnd.jupyter.widget-view+json": {
       "model_id": "9b2b8f64ca4846dc885b94330f63b093",
       "version_major": 2,
       "version_minor": 0
      },
      "text/plain": [
       "HBox(children=(IntProgress(value=0, max=1000), HTML(value='')))"
      ]
     },
     "metadata": {},
     "output_type": "display_data"
    },
    {
     "data": {
      "application/vnd.jupyter.widget-view+json": {
       "model_id": "e46247f0a2674de5b47617976b25915a",
       "version_major": 2,
       "version_minor": 0
      },
      "text/plain": [
       "HBox(children=(IntProgress(value=0, max=1000), HTML(value='')))"
      ]
     },
     "metadata": {},
     "output_type": "display_data"
    },
    {
     "data": {
      "application/vnd.jupyter.widget-view+json": {
       "model_id": "efd7c8ea8b4a4f078c6d75437c1faafd",
       "version_major": 2,
       "version_minor": 0
      },
      "text/plain": [
       "HBox(children=(IntProgress(value=0, max=1000), HTML(value='')))"
      ]
     },
     "metadata": {},
     "output_type": "display_data"
    },
    {
     "data": {
      "application/vnd.jupyter.widget-view+json": {
       "model_id": "7239edda6976459dad7731d2343e55f1",
       "version_major": 2,
       "version_minor": 0
      },
      "text/plain": [
       "HBox(children=(IntProgress(value=0, max=1000), HTML(value='')))"
      ]
     },
     "metadata": {},
     "output_type": "display_data"
    },
    {
     "data": {
      "application/vnd.jupyter.widget-view+json": {
       "model_id": "5da2adb1d73442fbb99fbed0ac6edf7c",
       "version_major": 2,
       "version_minor": 0
      },
      "text/plain": [
       "HBox(children=(IntProgress(value=0, max=1000), HTML(value='')))"
      ]
     },
     "metadata": {},
     "output_type": "display_data"
    },
    {
     "data": {
      "application/vnd.jupyter.widget-view+json": {
       "model_id": "a9e099fb815e4e2e908b0afb3f537b8a",
       "version_major": 2,
       "version_minor": 0
      },
      "text/plain": [
       "HBox(children=(IntProgress(value=0, max=1000), HTML(value='')))"
      ]
     },
     "metadata": {},
     "output_type": "display_data"
    },
    {
     "data": {
      "application/vnd.jupyter.widget-view+json": {
       "model_id": "4b83097ac723460287a96d9c91c20b60",
       "version_major": 2,
       "version_minor": 0
      },
      "text/plain": [
       "HBox(children=(IntProgress(value=0, max=1000), HTML(value='')))"
      ]
     },
     "metadata": {},
     "output_type": "display_data"
    },
    {
     "data": {
      "application/vnd.jupyter.widget-view+json": {
       "model_id": "424b08deb7744a99a4ed7fb0df90b995",
       "version_major": 2,
       "version_minor": 0
      },
      "text/plain": [
       "HBox(children=(IntProgress(value=0, max=1000), HTML(value='')))"
      ]
     },
     "metadata": {},
     "output_type": "display_data"
    },
    {
     "data": {
      "application/vnd.jupyter.widget-view+json": {
       "model_id": "48cf0f8352604a77a16a978df63c5b44",
       "version_major": 2,
       "version_minor": 0
      },
      "text/plain": [
       "HBox(children=(IntProgress(value=0, max=1000), HTML(value='')))"
      ]
     },
     "metadata": {},
     "output_type": "display_data"
    },
    {
     "data": {
      "application/vnd.jupyter.widget-view+json": {
       "model_id": "a50caff955174c7cbe4b6e155b6abf22",
       "version_major": 2,
       "version_minor": 0
      },
      "text/plain": [
       "HBox(children=(IntProgress(value=0, max=1000), HTML(value='')))"
      ]
     },
     "metadata": {},
     "output_type": "display_data"
    },
    {
     "data": {
      "application/vnd.jupyter.widget-view+json": {
       "model_id": "2fb8356e556f4b1d8ade110c7881b07f",
       "version_major": 2,
       "version_minor": 0
      },
      "text/plain": [
       "HBox(children=(IntProgress(value=0, max=1000), HTML(value='')))"
      ]
     },
     "metadata": {},
     "output_type": "display_data"
    },
    {
     "data": {
      "application/vnd.jupyter.widget-view+json": {
       "model_id": "0a89b87d7c5b43bfac710eead5c0b658",
       "version_major": 2,
       "version_minor": 0
      },
      "text/plain": [
       "HBox(children=(IntProgress(value=0, max=1000), HTML(value='')))"
      ]
     },
     "metadata": {},
     "output_type": "display_data"
    },
    {
     "data": {
      "application/vnd.jupyter.widget-view+json": {
       "model_id": "eec6ad7fe1ea4c4a9cd646390dd42d4d",
       "version_major": 2,
       "version_minor": 0
      },
      "text/plain": [
       "HBox(children=(IntProgress(value=0, max=1000), HTML(value='')))"
      ]
     },
     "metadata": {},
     "output_type": "display_data"
    }
   ],
   "source": [
    "# Train data generation\n",
    "train = Ising.Ising(10, 10)\n",
    "x = np.arange(1, 3.5, 0.0625)\n",
    "label = []\n",
    "curr_label = 0\n",
    "X_train = []\n",
    "var = []\n",
    "y = []\n",
    "N = 10**4\n",
    "for T in tqdm(x):\n",
    "    mag = []\n",
    "    if T >= 2.266:\n",
    "        curr_label = 0\n",
    "    else :\n",
    "        curr_label = 1\n",
    "    for i in (range(N)):\n",
    "        train.cluster_ising(1-np.exp(-(1/T)*2))\n",
    "    for _ in tqdm(range(1000)):\n",
    "        for _ in range(100):\n",
    "            train.cluster_ising(1-np.exp(-(1/T)*2))\n",
    "        mag.append(train.magnetism())\n",
    "        X_train.append(np.array(train.lattice.reshape((1, train.y*train.x))[0]))\n",
    "        label.append(curr_label)\n",
    "    mn = np.mean(mag)\n",
    "    y.append(mn)\n",
    "    var.append(np.std(mag))"
   ]
  },
  {
   "cell_type": "code",
   "execution_count": 8,
   "metadata": {},
   "outputs": [],
   "source": [
    "# Save\n",
    "np.save(\"./Data/data_size10_min1_max3.5_steap0.0625_batch1000_re100_N10000\", X_train)\n",
    "np.save(\"./Data/labels_size10_min1_max3.5_steap0.0625_batch1000_re100_N10000\", label)"
   ]
  },
  {
   "cell_type": "code",
   "execution_count": 9,
   "metadata": {},
   "outputs": [
    {
     "data": {
      "text/plain": [
       "[<matplotlib.lines.Line2D at 0x25b3354e6a0>]"
      ]
     },
     "execution_count": 9,
     "metadata": {},
     "output_type": "execute_result"
    },
    {
     "data": {
      "image/png": "[encoded data removed]",
      "text/plain": [
       "<Figure size 432x288 with 1 Axes>"
      ]
     },
     "metadata": {
      "needs_background": "light"
     },
     "output_type": "display_data"
    }
   ],
   "source": [
    "#С рандомными\n",
    "plt.plot(x, y)\n",
    "plt.xlabel(\"T\")\n",
    "plt.ylabel(\"magnetism\")\n",
    "\n",
    "x_line = np.arange(0,1.1, 0.1)\n",
    "plt.plot([2.266]*x_line.shape[0], x_line, '-')"
   ]
  },
  {
   "cell_type": "markdown",
   "metadata": {},
   "source": [
    "## Training"
   ]
  },
  {
   "cell_type": "code",
   "execution_count": 5,
   "metadata": {},
   "outputs": [],
   "source": [
    "# load\n",
    "X = np.load(\"./Data/data_size10_min1_max3.5_steap0.0625_batch1000_re100_N10000.npy\")\n",
    "label = np.load(\"./Data/labels_size10_min1_max3.5_steap0.0625_batch1000_re100_N10000.npy\")\n",
    "x = np.arange(1, 3.5, 0.0625)"
   ]
  },
  {
   "cell_type": "code",
   "execution_count": 10,
   "metadata": {},
   "outputs": [
    {
     "data": {
      "text/plain": [
       "0.16"
      ]
     },
     "execution_count": 10,
     "metadata": {},
     "output_type": "execute_result"
    }
   ],
   "source": [
    "X[20002].mean()"
   ]
  },
  {
   "cell_type": "code",
   "execution_count": 11,
   "metadata": {},
   "outputs": [],
   "source": [
    "X = np.array(X) "
   ]
  },
  {
   "cell_type": "code",
   "execution_count": 12,
   "metadata": {},
   "outputs": [],
   "source": [
    "x_cat = np.array([[i]*1000 for i in x])"
   ]
  },
  {
   "cell_type": "code",
   "execution_count": 13,
   "metadata": {},
   "outputs": [],
   "source": [
    "X = np.concatenate((X, x_cat.reshape(-1,1)), axis=1)"
   ]
  },
  {
   "cell_type": "code",
   "execution_count": 14,
   "metadata": {},
   "outputs": [],
   "source": [
    "X_train, X_test, y_train, y_test = train_test_split(X, label)"
   ]
  },
  {
   "cell_type": "code",
   "execution_count": 15,
   "metadata": {},
   "outputs": [],
   "source": [
    "X_train_time = X_train[:, -1]\n",
    "X_test_time = X_test[:, -1]"
   ]
  },
  {
   "cell_type": "code",
   "execution_count": 16,
   "metadata": {},
   "outputs": [],
   "source": [
    "X_train = X_train[:, :X_train.shape[1]-1]\n",
    "X_test = X_test[:, :X_test.shape[1]-1]"
   ]
  },
  {
   "cell_type": "code",
   "execution_count": 17,
   "metadata": {},
   "outputs": [],
   "source": [
    "X_train = np.array(X_train)\n",
    "X_train = torch.from_numpy(X_train)\n",
    "y_train = torch.from_numpy(np.array(y_train))"
   ]
  },
  {
   "cell_type": "code",
   "execution_count": 18,
   "metadata": {},
   "outputs": [],
   "source": [
    "X_test = np.array(X_test)\n",
    "X_test = torch.from_numpy(X_test)\n",
    "y_test = torch.from_numpy(np.array(y_test))"
   ]
  },
  {
   "cell_type": "code",
   "execution_count": 37,
   "metadata": {},
   "outputs": [],
   "source": [
    "class Net(torch.nn.Module):\n",
    "    def __init__(self, input_size=10*10, hidden_size=100):\n",
    "        super().__init__()\n",
    "        self.fc1 = torch.nn.Linear(input_size, hidden_size)\n",
    "        self.act = torch.nn.ReLU()\n",
    "        #self.drop = torch.nn.Dropout()\n",
    "        self.fc2 = torch.nn.Linear(hidden_size, 2)\n",
    "\n",
    "    def forward(self, x):\n",
    "        x = self.fc1(x)\n",
    "        x = self.act(x)\n",
    "        #x = self.drop(x)\n",
    "        x = self.fc2(x)\n",
    "        return x\n",
    "\n",
    "\n",
    "net = Net()"
   ]
  },
  {
   "cell_type": "code",
   "execution_count": 20,
   "metadata": {},
   "outputs": [],
   "source": [
    "device = torch.device(\"cuda:0\" if torch.cuda.is_available() else \"cpu\")\n",
    "X_train = X_train.to(device)\n",
    "X_test = X_test.to(device)\n",
    "y_train = y_train.to(device)\n",
    "y_test = y_test.to(device)"
   ]
  },
  {
   "cell_type": "code",
   "execution_count": 21,
   "metadata": {},
   "outputs": [],
   "source": [
    "net = net.to(device)"
   ]
  },
  {
   "cell_type": "code",
   "execution_count": 22,
   "metadata": {},
   "outputs": [
    {
     "data": {
      "text/plain": [
       "device(type='cpu')"
      ]
     },
     "execution_count": 22,
     "metadata": {},
     "output_type": "execute_result"
    }
   ],
   "source": [
    "device"
   ]
  },
  {
   "cell_type": "code",
   "execution_count": 38,
   "metadata": {},
   "outputs": [
    {
     "name": "stderr",
     "output_type": "stream",
     "text": [
      "C:\\Users\\miair\\Anaconda3\\lib\\site-packages\\ipykernel_launcher.py:17: UserWarning: Implicit dimension choice for softmax has been deprecated. Change the call to include dim=X as an argument.\n",
      "C:\\Users\\miair\\Anaconda3\\lib\\site-packages\\ipykernel_launcher.py:18: UserWarning: Implicit dimension choice for softmax has been deprecated. Change the call to include dim=X as an argument.\n"
     ]
    },
    {
     "name": "stdout",
     "output_type": "stream",
     "text": [
      "0 : val accuracy: 0.6385 train accuracy: 0.5018333333333334\n"
     ]
    },
    {
     "name": "stderr",
     "output_type": "stream",
     "text": [
      "C:\\Users\\miair\\Anaconda3\\lib\\site-packages\\ipykernel_launcher.py:20: UserWarning: Implicit dimension choice for softmax has been deprecated. Change the call to include dim=X as an argument.\n",
      "C:\\Users\\miair\\Anaconda3\\lib\\site-packages\\ipykernel_launcher.py:21: UserWarning: Implicit dimension choice for softmax has been deprecated. Change the call to include dim=X as an argument.\n"
     ]
    },
    {
     "data": {
      "image/png": "[encoded data removed]",
      "text/plain": [
       "<Figure size 432x288 with 1 Axes>"
      ]
     },
     "metadata": {},
     "output_type": "display_data"
    },
    {
     "name": "stdout",
     "output_type": "stream",
     "text": [
      "100 : val accuracy: 0.8866 train accuracy: 0.8928\n"
     ]
    },
    {
     "data": {
      "image/png": "[encoded data removed]",
      "text/plain": [
       "<Figure size 432x288 with 1 Axes>"
      ]
     },
     "metadata": {},
     "output_type": "display_data"
    },
    {
     "name": "stdout",
     "output_type": "stream",
     "text": [
      "200 : val accuracy: 0.9003 train accuracy: 0.9097666666666666\n"
     ]
    },
    {
     "data": {
      "image/png": "[encoded data removed]",
      "text/plain": [
       "<Figure size 432x288 with 1 Axes>"
      ]
     },
     "metadata": {},
     "output_type": "display_data"
    },
    {
     "name": "stdout",
     "output_type": "stream",
     "text": [
      "300 : val accuracy: 0.9025 train accuracy: 0.9234333333333333\n"
     ]
    },
    {
     "data": {
      "image/png": "[encoded data removed]",
      "text/plain": [
       "<Figure size 432x288 with 1 Axes>"
      ]
     },
     "metadata": {},
     "output_type": "display_data"
    }
   ],
   "source": [
    "cr = torch.nn.Softmax()\n",
    "criterion = torch.nn.CrossEntropyLoss()\n",
    "lr=0.001\n",
    "optimizer = torch.optim.Adam(net.parameters(), lr=lr)\n",
    "for e in range(400):\n",
    "    net.train()\n",
    "    output = net.forward(X_train.float())\n",
    "    loss = criterion(output, y_train.long())\n",
    "    loss.backward()\n",
    "    optimizer.step()\n",
    "    net.zero_grad()\n",
    "    \n",
    "    if e % 100 == 0:\n",
    "        net.eval()\n",
    "        output_val = net.forward(X_test.float())\n",
    "        print(e, \":\", \"val accuracy:\", \n",
    "              ((np.around(cr(output_val)[:, 1].detach().numpy()) == y_test.detach().numpy()).sum())/y_test.detach().numpy().shape[0],\n",
    "             \"train accuracy:\", ((np.around(cr(output)[:, 1].detach().numpy()) == y_train.detach().numpy()).sum())/y_train.detach().numpy().shape[0])\n",
    "        \n",
    "        output_soft = cr(output).detach().numpy()\n",
    "        output_val_soft = cr(output_val).detach().numpy()\n",
    "        x_line = np.arange(0,1.2,0.2)\n",
    "        output_0 = []\n",
    "        for T in np.unique(X_test_time):\n",
    "            indexes = np.where(X_test_time == T)\n",
    "            output_0.append(output_val_soft[:, 0][indexes].mean())\n",
    "        plt.plot(x, output_0, '-.^g', alpha=0.5)\n",
    "        output_1 = []\n",
    "        for T in np.unique(X_test_time):\n",
    "            indexes = np.where(X_test_time == T)\n",
    "            output_1.append(output_val_soft[:, 1][indexes].mean())\n",
    "        plt.plot(x, output_1, '-.^b', alpha=0.5)\n",
    "        plt.plot([2.266]*x_line.shape[0], x_line, '-')\n",
    "        plt.show()"
   ]
  },
  {
   "cell_type": "code",
   "execution_count": 24,
   "metadata": {},
   "outputs": [
    {
     "data": {
      "text/plain": [
       "Net(\n",
       "  (fc1): Linear(in_features=100, out_features=100, bias=True)\n",
       "  (act): ReLU()\n",
       "  (fc2): Linear(in_features=100, out_features=2, bias=True)\n",
       ")"
      ]
     },
     "execution_count": 24,
     "metadata": {},
     "output_type": "execute_result"
    }
   ],
   "source": [
    "net.eval()"
   ]
  },
  {
   "cell_type": "code",
   "execution_count": null,
   "metadata": {},
   "outputs": [],
   "source": [
    "net.fc1"
   ]
  },
  {
   "cell_type": "code",
   "execution_count": 92,
   "metadata": {},
   "outputs": [
    {
     "name": "stderr",
     "output_type": "stream",
     "text": [
      "C:\\Users\\miair\\Anaconda3\\lib\\site-packages\\ipykernel_launcher.py:3: UserWarning: Implicit dimension choice for softmax has been deprecated. Change the call to include dim=X as an argument.\n",
      "  This is separate from the ipykernel package so we can avoid doing imports until\n",
      "C:\\Users\\miair\\Anaconda3\\lib\\site-packages\\ipykernel_launcher.py:4: UserWarning: Implicit dimension choice for softmax has been deprecated. Change the call to include dim=X as an argument.\n",
      "  after removing the cwd from sys.path.\n"
     ]
    }
   ],
   "source": [
    "output = net.forward(X_train.float())\n",
    "output_val = net.forward(X_test.float())\n",
    "output_soft = cr(output).detach().numpy()\n",
    "output_val_soft = cr(output_val).detach().numpy()"
   ]
  },
  {
   "cell_type": "code",
   "execution_count": 100,
   "metadata": {},
   "outputs": [
    {
     "data": {
      "text/plain": [
       "[<matplotlib.lines.Line2D at 0x25b3369ae10>]"
      ]
     },
     "execution_count": 100,
     "metadata": {},
     "output_type": "execute_result"
    },
    {
     "data": {
      "image/png": "[encoded data removed]",
      "text/plain": [
       "<Figure size 432x288 with 1 Axes>"
      ]
     },
     "metadata": {
      "needs_background": "light"
     },
     "output_type": "display_data"
    }
   ],
   "source": [
    "x_line = np.arange(0,1.2,0.2)\n",
    "output_0 = []\n",
    "for T in np.unique(X_train_time):\n",
    "    indexes = np.where(X_train_time == T)\n",
    "    output_0.append(output_soft[:, 0][indexes].mean())\n",
    "plt.plot(x, output_0, '-.^g', alpha=0.5)\n",
    "output_1 = []\n",
    "for T in np.unique(X_train_time):\n",
    "    indexes = np.where(X_train_time == T)\n",
    "    output_1.append(output_soft[:, 1][indexes].mean())\n",
    "plt.plot(x, output_1, '-.^b', alpha=0.5)\n",
    "plt.plot([2.266]*x_line.shape[0], x_line, '-')"
   ]
  },
  {
   "cell_type": "code",
   "execution_count": 101,
   "metadata": {},
   "outputs": [
    {
     "data": {
      "text/plain": [
       "[<matplotlib.lines.Line2D at 0x25b336ce438>]"
      ]
     },
     "execution_count": 101,
     "metadata": {},
     "output_type": "execute_result"
    },
    {
     "data": {
      "image/png": "[encoded data removed]",
      "text/plain": [
       "<Figure size 432x288 with 1 Axes>"
      ]
     },
     "metadata": {
      "needs_background": "light"
     },
     "output_type": "display_data"
    }
   ],
   "source": [
    "x_line = np.arange(0,1.2,0.2)\n",
    "output_0 = []\n",
    "for T in np.unique(X_test_time):\n",
    "    indexes = np.where(X_test_time == T)\n",
    "    output_0.append(output_val_soft[:, 0][indexes].mean())\n",
    "plt.plot(x, output_0, '-.^g', alpha=0.5)\n",
    "output_1 = []\n",
    "for T in np.unique(X_test_time):\n",
    "    indexes = np.where(X_test_time == T)\n",
    "    output_1.append(output_val_soft[:, 1][indexes].mean())\n",
    "plt.plot(x, output_1, '-.^b', alpha=0.5)\n",
    "plt.plot([2.266]*x_line.shape[0], x_line, '-')"
   ]
  },
  {
   "cell_type": "code",
   "execution_count": 107,
   "metadata": {},
   "outputs": [
    {
     "name": "stderr",
     "output_type": "stream",
     "text": [
      "C:\\Users\\miair\\Anaconda3\\lib\\site-packages\\ipykernel_launcher.py:2: UserWarning: Implicit dimension choice for softmax has been deprecated. Change the call to include dim=X as an argument.\n",
      "  \n"
     ]
    },
    {
     "name": "stdout",
     "output_type": "stream",
     "text": [
      "2.0625 -1.0\n",
      "2.5 1.0\n",
      "2.0 -1.0\n",
      "2.25 -1.0\n",
      "1.875 1.0\n",
      "1.8125 -1.0\n",
      "2.25 -1.0\n",
      "1.9375 1.0\n",
      "2.25 1.0\n",
      "2.1875 1.0\n",
      "2.4375 -1.0\n",
      "2.0625 -1.0\n",
      "2.0 -1.0\n",
      "2.375 -1.0\n",
      "2.1875 -1.0\n",
      "2.0 -1.0\n",
      "2.1875 -1.0\n",
      "1.9375 -1.0\n",
      "2.25 -1.0\n",
      "2.3125 1.0\n",
      "2.25 1.0\n",
      "2.125 1.0\n",
      "2.25 -1.0\n",
      "2.25 -1.0\n",
      "2.3125 -1.0\n",
      "2.0 -1.0\n",
      "1.9375 -1.0\n",
      "2.375 -1.0\n",
      "2.25 -1.0\n",
      "1.9375 -1.0\n",
      "3.0 -1.0\n",
      "2.25 -1.0\n",
      "2.25 -1.0\n",
      "2.0625 1.0\n",
      "2.5 -1.0\n",
      "1.875 -1.0\n",
      "2.0625 1.0\n",
      "2.25 0.98\n",
      "2.1875 1.0\n",
      "2.0 -1.0\n",
      "2.0 1.0\n",
      "1.75 -1.0\n",
      "2.25 -1.0\n",
      "2.75 1.0\n",
      "2.125 1.0\n",
      "2.1875 1.0\n",
      "2.375 1.0\n",
      "1.9375 1.0\n",
      "2.25 -1.0\n",
      "2.1875 -1.0\n",
      "2.125 -1.0\n",
      "2.5 -1.0\n",
      "2.1875 -1.0\n",
      "2.375 -1.0\n",
      "2.1875 1.0\n",
      "2.125 0.98\n",
      "2.125 -1.0\n",
      "2.75 -1.0\n",
      "2.0 -1.0\n",
      "2.5625 -1.0\n",
      "2.3125 -1.0\n",
      "2.8125 -1.0\n",
      "2.0 1.0\n",
      "2.125 1.0\n",
      "2.8125 0.98\n",
      "1.9375 1.0\n",
      "2.1875 1.0\n",
      "1.8125 1.0\n",
      "2.125 1.0\n",
      "2.1875 -1.0\n",
      "2.0625 -1.0\n",
      "2.0625 0.98\n",
      "2.1875 1.0\n",
      "1.875 -1.0\n",
      "1.75 1.0\n",
      "2.375 -1.0\n",
      "2.5 1.0\n",
      "2.125 1.0\n",
      "2.375 -1.0\n",
      "2.25 -1.0\n",
      "2.0 -1.0\n",
      "1.9375 -1.0\n",
      "2.0 1.0\n",
      "2.375 -1.0\n",
      "2.3125 -1.0\n",
      "2.0 -1.0\n",
      "2.25 1.0\n",
      "2.1875 -0.98\n",
      "2.125 -1.0\n",
      "2.0625 -1.0\n",
      "2.3125 -1.0\n",
      "2.4375 1.0\n",
      "2.25 -1.0\n",
      "2.8125 1.0\n",
      "2.125 1.0\n",
      "2.0 -1.0\n",
      "2.0625 1.0\n",
      "3.0 1.0\n",
      "2.4375 1.0\n",
      "2.3125 1.0\n",
      "2.5 -1.0\n",
      "2.0625 -1.0\n",
      "2.375 1.0\n",
      "3.0625 -1.0\n",
      "2.1875 -1.0\n",
      "2.4375 1.0\n",
      "2.0 -1.0\n",
      "2.75 -1.0\n",
      "2.125 -1.0\n",
      "2.25 -1.0\n",
      "2.125 -1.0\n",
      "2.25 -1.0\n",
      "2.5625 -1.0\n",
      "2.1875 -1.0\n",
      "2.8125 1.0\n",
      "2.5 1.0\n",
      "2.5 -1.0\n",
      "2.375 -1.0\n",
      "2.4375 1.0\n",
      "2.1875 -1.0\n",
      "2.5 -1.0\n",
      "2.1875 -1.0\n",
      "2.25 -1.0\n",
      "2.25 1.0\n",
      "1.875 1.0\n",
      "2.4375 -1.0\n",
      "2.5 -1.0\n",
      "2.125 -1.0\n",
      "2.0 -1.0\n",
      "2.75 1.0\n",
      "2.6875 1.0\n",
      "2.125 -1.0\n",
      "2.0 1.0\n",
      "2.3125 -1.0\n",
      "2.5625 -1.0\n",
      "2.1875 1.0\n",
      "2.1875 -1.0\n",
      "1.9375 -1.0\n",
      "3.0 1.0\n",
      "1.9375 -1.0\n",
      "2.8125 -1.0\n",
      "2.375 -1.0\n",
      "2.0625 -0.98\n",
      "2.25 -1.0\n",
      "2.0 1.0\n",
      "2.0625 1.0\n",
      "2.25 1.0\n",
      "2.3125 1.0\n",
      "2.375 1.0\n",
      "2.25 1.0\n",
      "2.1875 -1.0\n",
      "2.1875 1.0\n",
      "2.25 1.0\n",
      "2.1875 1.0\n",
      "2.0625 -1.0\n",
      "2.5 -1.0\n",
      "1.9375 -0.98\n",
      "2.1875 -1.0\n",
      "2.4375 0.98\n",
      "1.875 -1.0\n",
      "2.125 1.0\n",
      "2.25 1.0\n",
      "2.25 1.0\n",
      "2.3125 -1.0\n",
      "2.4375 -1.0\n",
      "2.1875 -1.0\n",
      "2.375 -1.0\n",
      "2.125 1.0\n",
      "2.4375 -1.0\n",
      "2.375 -1.0\n",
      "2.25 -1.0\n",
      "2.1875 -1.0\n",
      "2.125 -1.0\n",
      "2.125 -1.0\n",
      "2.4375 1.0\n",
      "2.1875 -1.0\n",
      "2.5 -1.0\n",
      "2.3125 -1.0\n",
      "2.25 -1.0\n",
      "2.5625 -1.0\n",
      "3.125 0.98\n",
      "2.4375 -1.0\n",
      "2.3125 -1.0\n",
      "2.0625 -1.0\n",
      "2.25 -1.0\n",
      "2.0625 -1.0\n",
      "2.1875 -1.0\n",
      "2.25 -1.0\n",
      "2.125 -1.0\n",
      "2.0 -0.98\n",
      "2.3125 -1.0\n",
      "2.125 -1.0\n",
      "2.375 -1.0\n",
      "2.25 -1.0\n",
      "2.1875 -1.0\n",
      "2.3125 -1.0\n",
      "1.875 1.0\n",
      "2.25 -1.0\n",
      "1.9375 -0.98\n",
      "2.5 -1.0\n",
      "2.3125 0.98\n",
      "2.25 1.0\n",
      "2.0625 -1.0\n",
      "2.3125 -1.0\n",
      "2.0625 -1.0\n",
      "2.0625 1.0\n",
      "2.625 0.98\n",
      "2.25 1.0\n",
      "2.5 1.0\n",
      "2.5625 -1.0\n",
      "2.625 1.0\n",
      "2.1875 -1.0\n",
      "2.6875 -1.0\n",
      "2.125 -0.98\n",
      "2.0 -1.0\n",
      "2.25 1.0\n",
      "2.0 -1.0\n",
      "2.0 -1.0\n",
      "2.0 1.0\n",
      "2.5 -1.0\n",
      "2.1875 1.0\n",
      "2.25 1.0\n",
      "2.25 1.0\n",
      "2.25 -1.0\n",
      "2.0625 1.0\n",
      "2.625 -1.0\n",
      "2.25 -1.0\n",
      "2.25 -1.0\n",
      "1.625 -1.0\n",
      "2.25 1.0\n",
      "2.25 0.98\n",
      "2.375 -1.0\n",
      "2.4375 -1.0\n",
      "2.5625 -1.0\n",
      "2.25 1.0\n",
      "2.6875 -1.0\n",
      "2.3125 1.0\n",
      "2.4375 1.0\n",
      "2.1875 -1.0\n",
      "2.4375 1.0\n",
      "1.875 1.0\n",
      "2.25 -1.0\n",
      "2.1875 1.0\n",
      "2.1875 0.98\n",
      "2.0 -1.0\n",
      "2.0 1.0\n",
      "2.625 -1.0\n",
      "2.0 1.0\n",
      "2.3125 -1.0\n",
      "2.5 -1.0\n",
      "2.125 1.0\n",
      "1.8125 1.0\n",
      "1.9375 1.0\n",
      "2.1875 1.0\n",
      "1.875 1.0\n",
      "2.25 -0.98\n",
      "2.25 1.0\n",
      "2.125 -0.98\n",
      "2.25 -1.0\n",
      "2.1875 -1.0\n",
      "1.9375 -1.0\n",
      "2.3125 -1.0\n",
      "2.625 -0.98\n",
      "2.3125 -1.0\n",
      "2.25 -1.0\n",
      "2.25 -1.0\n",
      "2.25 -1.0\n",
      "2.0625 -1.0\n",
      "2.8125 -1.0\n",
      "2.25 -1.0\n",
      "2.1875 1.0\n",
      "2.375 1.0\n",
      "1.9375 -1.0\n",
      "2.0 1.0\n",
      "2.375 1.0\n",
      "1.9375 -1.0\n",
      "2.375 1.0\n",
      "2.1875 -1.0\n",
      "2.0 -1.0\n",
      "1.875 1.0\n",
      "2.375 1.0\n",
      "2.125 1.0\n",
      "2.1875 1.0\n",
      "2.1875 0.98\n",
      "2.375 1.0\n",
      "2.25 -1.0\n",
      "2.5 1.0\n",
      "2.5 -1.0\n",
      "2.4375 -1.0\n",
      "2.1875 -1.0\n",
      "2.3125 1.0\n",
      "2.5 1.0\n",
      "2.6875 -1.0\n",
      "1.9375 -1.0\n",
      "2.1875 -1.0\n",
      "2.25 -1.0\n",
      "2.1875 0.98\n",
      "2.25 -1.0\n",
      "2.875 1.0\n",
      "2.0625 1.0\n",
      "2.375 1.0\n",
      "2.0625 1.0\n",
      "1.875 1.0\n",
      "2.3125 1.0\n",
      "2.25 1.0\n",
      "2.0625 1.0\n",
      "2.1875 1.0\n",
      "2.3125 1.0\n",
      "2.0 -1.0\n",
      "2.125 -1.0\n",
      "2.125 1.0\n",
      "2.1875 1.0\n",
      "2.25 1.0\n",
      "2.125 -1.0\n",
      "2.1875 1.0\n",
      "2.25 -1.0\n",
      "2.5625 1.0\n",
      "2.125 1.0\n",
      "2.0 0.98\n",
      "2.0 1.0\n",
      "2.6875 -1.0\n",
      "2.25 -0.98\n",
      "2.3125 1.0\n",
      "3.0 1.0\n",
      "2.1875 -1.0\n",
      "2.0625 1.0\n",
      "2.25 -1.0\n",
      "2.125 -1.0\n",
      "2.4375 1.0\n",
      "2.5 -1.0\n",
      "2.1875 1.0\n",
      "2.1875 -1.0\n",
      "2.25 -1.0\n",
      "2.125 1.0\n",
      "2.25 -0.98\n",
      "1.9375 -1.0\n",
      "2.1875 1.0\n",
      "2.125 1.0\n",
      "2.625 1.0\n",
      "2.625 -0.98\n",
      "2.3125 1.0\n",
      "2.4375 1.0\n",
      "2.0625 1.0\n",
      "2.3125 1.0\n",
      "2.25 1.0\n",
      "1.9375 -1.0\n",
      "2.375 1.0\n",
      "2.3125 1.0\n",
      "2.3125 1.0\n",
      "2.125 1.0\n",
      "2.6875 -1.0\n",
      "2.375 -1.0\n",
      "2.625 -0.98\n",
      "3.0 -1.0\n",
      "2.125 -1.0\n",
      "1.9375 -1.0\n",
      "1.875 1.0\n",
      "2.0 1.0\n",
      "2.5 1.0\n",
      "2.1875 1.0\n",
      "2.0 -1.0\n",
      "2.625 -1.0\n",
      "3.1875 -1.0\n",
      "2.0 -1.0\n",
      "1.875 -0.98\n",
      "1.625 -0.96\n",
      "2.375 -0.98\n",
      "1.9375 -1.0\n",
      "2.1875 1.0\n",
      "1.9375 -1.0\n",
      "2.1875 0.94\n",
      "2.125 1.0\n",
      "2.25 1.0\n",
      "2.3125 -1.0\n",
      "2.4375 -1.0\n",
      "2.0 1.0\n",
      "2.375 -1.0\n",
      "2.5 -1.0\n",
      "2.4375 1.0\n",
      "2.25 1.0\n",
      "2.0625 1.0\n",
      "2.1875 -1.0\n",
      "2.25 1.0\n",
      "2.3125 1.0\n",
      "2.25 1.0\n",
      "2.375 -1.0\n",
      "2.375 -1.0\n",
      "2.5 1.0\n",
      "2.3125 -1.0\n",
      "2.0 -1.0\n",
      "2.3125 -1.0\n",
      "2.4375 -1.0\n",
      "2.625 1.0\n",
      "2.0625 -1.0\n",
      "2.3125 -1.0\n",
      "2.3125 1.0\n",
      "2.625 -1.0\n",
      "1.75 0.98\n",
      "2.5 -1.0\n",
      "1.6875 -1.0\n",
      "2.3125 -0.96\n",
      "1.8125 0.98\n",
      "2.25 1.0\n",
      "2.0 -1.0\n",
      "2.3125 -1.0\n",
      "2.75 -1.0\n",
      "2.625 -1.0\n",
      "1.875 1.0\n",
      "2.1875 1.0\n",
      "2.25 -1.0\n",
      "2.25 1.0\n",
      "2.4375 1.0\n",
      "1.875 -1.0\n",
      "2.125 1.0\n",
      "1.875 -1.0\n",
      "1.625 -1.0\n",
      "2.625 -1.0\n",
      "2.25 0.98\n",
      "2.25 1.0\n",
      "2.0 1.0\n",
      "2.25 1.0\n",
      "2.0 -0.94\n",
      "2.875 -1.0\n",
      "2.125 -1.0\n",
      "2.0 -1.0\n",
      "2.375 -1.0\n",
      "2.1875 -0.98\n",
      "2.125 0.98\n",
      "1.9375 -1.0\n",
      "2.4375 -1.0\n",
      "1.5625 1.0\n",
      "3.0 -1.0\n",
      "2.1875 -1.0\n",
      "2.0625 1.0\n",
      "3.0625 1.0\n",
      "1.75 1.0\n",
      "2.25 1.0\n",
      "2.25 1.0\n",
      "1.9375 1.0\n",
      "2.125 1.0\n",
      "2.3125 1.0\n",
      "2.125 1.0\n",
      "2.5625 -1.0\n",
      "2.6875 -1.0\n",
      "2.375 -1.0\n",
      "2.3125 -1.0\n",
      "2.1875 0.98\n",
      "2.25 -1.0\n",
      "2.125 -1.0\n",
      "2.1875 -1.0\n",
      "2.125 -1.0\n",
      "2.125 1.0\n",
      "1.875 1.0\n",
      "2.125 -1.0\n",
      "2.6875 1.0\n",
      "2.1875 1.0\n",
      "2.9375 -1.0\n",
      "2.5 1.0\n",
      "2.25 1.0\n",
      "2.5625 -1.0\n",
      "2.4375 1.0\n",
      "2.375 1.0\n",
      "1.9375 1.0\n",
      "2.25 1.0\n",
      "2.75 -1.0\n",
      "2.0 -0.98\n",
      "2.5625 -0.98\n",
      "2.25 1.0\n",
      "2.3125 -1.0\n",
      "1.75 1.0\n",
      "2.25 -1.0\n",
      "2.375 1.0\n",
      "2.1875 -1.0\n",
      "2.25 -1.0\n",
      "2.625 -1.0\n",
      "2.3125 1.0\n",
      "2.3125 -0.96\n",
      "1.9375 -0.98\n",
      "2.25 -0.98\n",
      "1.8125 -1.0\n",
      "3.0 -1.0\n",
      "2.3125 -1.0\n",
      "2.25 -1.0\n",
      "2.125 -1.0\n",
      "2.375 -1.0\n",
      "2.125 -1.0\n",
      "2.125 -0.96\n",
      "2.1875 0.98\n",
      "2.125 1.0\n",
      "2.1875 1.0\n",
      "2.25 1.0\n",
      "2.25 -1.0\n",
      "2.5625 -1.0\n",
      "2.125 -0.98\n",
      "2.25 -0.98\n",
      "2.4375 1.0\n",
      "2.375 -1.0\n",
      "2.3125 1.0\n",
      "2.375 -1.0\n",
      "2.25 -1.0\n",
      "1.9375 1.0\n",
      "2.4375 1.0\n",
      "2.1875 1.0\n",
      "2.1875 -1.0\n",
      "2.4375 0.98\n",
      "2.1875 1.0\n",
      "1.9375 1.0\n",
      "2.3125 -1.0\n",
      "2.25 0.98\n",
      "2.125 -1.0\n",
      "2.0 -1.0\n",
      "3.3125 -1.0\n",
      "2.1875 1.0\n",
      "2.25 1.0\n",
      "1.875 1.0\n",
      "3.0 1.0\n",
      "2.5625 0.98\n",
      "1.8125 1.0\n",
      "2.5625 1.0\n",
      "2.0625 1.0\n",
      "2.375 1.0\n",
      "2.5 -1.0\n",
      "2.5625 1.0\n",
      "2.25 1.0\n",
      "2.25 0.98\n",
      "2.5 -1.0\n",
      "2.0 -0.98\n",
      "2.25 0.98\n",
      "2.375 -1.0\n",
      "2.1875 -1.0\n",
      "2.5625 -1.0\n",
      "2.375 -1.0\n",
      "2.3125 -0.98\n",
      "2.0625 0.98\n",
      "2.1875 1.0\n",
      "2.4375 1.0\n",
      "2.0625 -1.0\n",
      "3.3125 1.0\n",
      "2.3125 0.98\n",
      "2.3125 -0.98\n",
      "2.125 1.0\n",
      "2.1875 -0.98\n",
      "2.375 -1.0\n",
      "1.875 1.0\n",
      "2.25 1.0\n",
      "3.0625 -1.0\n",
      "2.3125 -0.98\n",
      "2.1875 1.0\n",
      "2.4375 -1.0\n",
      "1.9375 0.98\n",
      "2.3125 1.0\n",
      "2.125 1.0\n",
      "2.1875 -1.0\n",
      "2.0 -1.0\n",
      "1.6875 1.0\n",
      "2.125 1.0\n",
      "2.0625 -0.96\n",
      "2.3125 0.98\n",
      "1.9375 -0.98\n",
      "2.375 1.0\n",
      "2.125 -0.96\n",
      "1.875 -1.0\n",
      "2.0625 1.0\n",
      "2.1875 -1.0\n",
      "1.8125 1.0\n",
      "2.25 1.0\n",
      "2.0625 -0.98\n",
      "2.4375 -1.0\n",
      "2.4375 1.0\n",
      "2.25 1.0\n",
      "2.0 -1.0\n",
      "2.8125 1.0\n",
      "2.0625 -1.0\n",
      "2.375 -1.0\n",
      "2.0625 -1.0\n",
      "2.1875 1.0\n",
      "2.125 1.0\n",
      "2.3125 0.98\n",
      "2.5 0.98\n",
      "2.125 1.0\n",
      "2.1875 1.0\n",
      "2.1875 1.0\n",
      "2.375 1.0\n",
      "2.125 1.0\n",
      "2.0625 1.0\n",
      "2.1875 1.0\n",
      "2.8125 0.98\n",
      "2.875 -1.0\n",
      "2.875 -0.98\n",
      "2.25 -0.98\n",
      "2.5 -1.0\n",
      "2.0625 1.0\n",
      "2.375 -1.0\n",
      "1.9375 1.0\n",
      "3.125 1.0\n",
      "2.75 1.0\n",
      "2.1875 1.0\n",
      "2.5 1.0\n",
      "2.75 1.0\n",
      "2.5625 -1.0\n",
      "2.1875 1.0\n",
      "2.375 1.0\n",
      "1.8125 -1.0\n",
      "2.1875 1.0\n",
      "2.125 1.0\n",
      "2.3125 -1.0\n",
      "2.125 -1.0\n",
      "2.0625 1.0\n",
      "2.4375 1.0\n",
      "2.0625 1.0\n",
      "2.3125 1.0\n",
      "2.1875 -0.98\n",
      "2.25 -1.0\n",
      "2.3125 -0.98\n",
      "2.0625 -0.96\n",
      "2.125 1.0\n",
      "2.3125 1.0\n",
      "3.25 -1.0\n",
      "2.125 -1.0\n",
      "2.5 -1.0\n",
      "2.375 1.0\n",
      "2.375 -1.0\n",
      "2.0625 1.0\n",
      "2.5 1.0\n",
      "2.375 1.0\n",
      "2.25 0.98\n",
      "1.9375 -1.0\n",
      "2.9375 -1.0\n",
      "2.5 -1.0\n",
      "2.375 -1.0\n",
      "2.25 -1.0\n",
      "1.9375 0.96\n",
      "2.1875 -1.0\n",
      "2.0 -1.0\n",
      "2.3125 -1.0\n",
      "2.125 -0.98\n",
      "2.4375 1.0\n",
      "2.5625 -1.0\n",
      "1.9375 -1.0\n",
      "2.1875 0.98\n",
      "2.125 1.0\n",
      "2.0625 -1.0\n",
      "2.375 -1.0\n",
      "2.1875 0.96\n",
      "2.25 1.0\n",
      "1.875 1.0\n",
      "2.625 -1.0\n",
      "2.125 0.94\n",
      "2.3125 1.0\n",
      "2.3125 -1.0\n",
      "3.0625 -1.0\n",
      "2.0625 1.0\n",
      "1.9375 1.0\n",
      "2.125 1.0\n",
      "2.1875 1.0\n",
      "2.4375 -0.98\n",
      "2.5625 -1.0\n",
      "2.25 1.0\n",
      "2.3125 -0.98\n",
      "2.375 -1.0\n",
      "2.4375 1.0\n",
      "3.1875 1.0\n",
      "2.1875 -1.0\n",
      "2.375 1.0\n",
      "1.9375 1.0\n",
      "1.9375 -1.0\n",
      "2.125 0.98\n",
      "2.6875 1.0\n",
      "2.25 -1.0\n",
      "2.0625 -1.0\n",
      "2.375 0.98\n",
      "2.1875 1.0\n",
      "2.5625 -1.0\n",
      "2.0625 0.98\n",
      "2.875 1.0\n",
      "2.125 -0.98\n",
      "2.375 1.0\n",
      "3.1875 1.0\n",
      "2.25 1.0\n",
      "2.125 1.0\n",
      "2.8125 1.0\n",
      "2.0625 -0.86\n",
      "2.0 0.98\n",
      "2.25 1.0\n",
      "2.25 -0.96\n",
      "2.1875 -1.0\n",
      "2.1875 -0.98\n",
      "2.1875 0.98\n",
      "2.25 -0.94\n",
      "2.5625 1.0\n",
      "2.9375 1.0\n",
      "2.3125 -1.0\n",
      "2.0 -0.98\n",
      "2.4375 -1.0\n",
      "2.1875 -0.98\n",
      "2.25 1.0\n",
      "2.125 -1.0\n",
      "2.375 -1.0\n",
      "2.75 -1.0\n",
      "2.0625 -1.0\n",
      "2.1875 -0.98\n",
      "2.1875 1.0\n",
      "3.1875 -0.98\n",
      "2.3125 1.0\n",
      "2.8125 1.0\n",
      "2.625 0.98\n",
      "2.125 1.0\n",
      "2.125 1.0\n",
      "1.9375 -1.0\n",
      "2.5625 -1.0\n",
      "2.125 1.0\n",
      "2.375 -1.0\n",
      "2.5625 -1.0\n",
      "2.0625 1.0\n",
      "2.1875 -0.96\n",
      "2.1875 -1.0\n",
      "2.0 1.0\n",
      "2.875 -1.0\n",
      "2.1875 -1.0\n",
      "2.6875 -0.9\n",
      "2.0 1.0\n",
      "2.4375 -1.0\n",
      "2.25 1.0\n",
      "2.875 -0.98\n",
      "2.3125 -1.0\n",
      "2.125 -1.0\n",
      "2.0 -1.0\n",
      "2.3125 -1.0\n",
      "2.6875 0.98\n",
      "2.4375 1.0\n",
      "2.3125 -1.0\n",
      "2.1875 -1.0\n",
      "2.0 1.0\n",
      "1.875 -1.0\n",
      "2.8125 -0.96\n",
      "2.4375 -1.0\n",
      "2.125 -1.0\n",
      "2.625 1.0\n",
      "2.1875 -1.0\n",
      "2.6875 0.98\n",
      "2.25 -0.98\n",
      "2.0 -1.0\n",
      "2.25 -0.98\n",
      "2.1875 -1.0\n",
      "2.375 -1.0\n",
      "1.8125 1.0\n",
      "2.0625 0.98\n",
      "2.375 0.98\n",
      "1.4375 0.98\n",
      "2.3125 0.98\n",
      "2.25 -0.98\n",
      "2.1875 -1.0\n",
      "2.125 0.96\n",
      "1.9375 -0.96\n",
      "2.1875 -1.0\n",
      "2.3125 -1.0\n",
      "2.375 -1.0\n",
      "2.25 1.0\n",
      "2.75 0.98\n",
      "2.375 -1.0\n",
      "2.1875 -1.0\n",
      "2.25 -1.0\n",
      "2.25 -1.0\n",
      "2.5 1.0\n",
      "2.6875 -0.98\n",
      "2.3125 1.0\n",
      "2.375 1.0\n",
      "2.25 -0.98\n",
      "2.25 1.0\n",
      "2.4375 0.98\n",
      "2.375 1.0\n",
      "2.9375 0.98\n",
      "2.0 -1.0\n",
      "2.625 0.98\n",
      "2.25 0.98\n",
      "2.8125 1.0\n",
      "2.125 -0.98\n",
      "2.6875 -1.0\n",
      "2.4375 0.98\n",
      "1.875 -1.0\n",
      "2.0625 -1.0\n",
      "2.3125 0.98\n",
      "2.4375 1.0\n",
      "2.25 -1.0\n",
      "2.5 -1.0\n",
      "2.5625 1.0\n",
      "2.0625 -1.0\n",
      "2.25 0.98\n",
      "2.1875 1.0\n",
      "2.125 1.0\n",
      "2.5 1.0\n",
      "2.0625 -1.0\n",
      "2.625 -1.0\n",
      "1.9375 1.0\n",
      "2.1875 1.0\n",
      "2.375 1.0\n",
      "2.8125 1.0\n",
      "2.4375 -1.0\n",
      "2.375 -1.0\n",
      "2.3125 0.98\n",
      "2.25 -1.0\n",
      "2.625 1.0\n",
      "2.1875 0.98\n",
      "2.5625 1.0\n",
      "2.5 -1.0\n",
      "2.25 -1.0\n",
      "2.5625 -0.98\n",
      "2.0625 1.0\n",
      "2.4375 -1.0\n",
      "2.1875 -0.98\n",
      "2.1875 1.0\n",
      "2.5 1.0\n",
      "2.4375 0.98\n",
      "1.875 1.0\n",
      "1.9375 1.0\n",
      "2.0625 0.98\n",
      "2.1875 1.0\n",
      "2.25 0.96\n",
      "2.0625 -0.96\n",
      "2.0625 0.98\n",
      "2.5 -1.0\n",
      "2.0 -0.98\n",
      "1.875 1.0\n",
      "3.0 -1.0\n",
      "2.1875 -1.0\n",
      "2.0 -0.98\n",
      "2.375 -1.0\n",
      "2.3125 1.0\n",
      "2.25 1.0\n",
      "2.875 1.0\n",
      "2.125 -0.96\n",
      "2.25 -1.0\n",
      "2.125 -1.0\n",
      "2.375 0.98\n",
      "3.1875 -1.0\n",
      "2.375 -0.98\n",
      "2.375 -1.0\n",
      "2.25 -1.0\n",
      "2.1875 -1.0\n",
      "2.25 1.0\n",
      "2.1875 1.0\n",
      "2.75 1.0\n",
      "2.4375 0.98\n",
      "2.1875 1.0\n",
      "3.0 -1.0\n",
      "2.0625 1.0\n",
      "1.875 1.0\n",
      "2.6875 0.98\n",
      "2.5 -1.0\n",
      "2.4375 -1.0\n",
      "2.3125 1.0\n",
      "2.125 1.0\n",
      "2.125 -1.0\n",
      "2.25 -1.0\n",
      "2.3125 1.0\n",
      "2.3125 -1.0\n",
      "2.625 1.0\n",
      "2.1875 0.98\n",
      "1.9375 -1.0\n",
      "2.25 1.0\n",
      "2.25 1.0\n",
      "2.25 -1.0\n",
      "1.8125 -1.0\n",
      "2.0625 -1.0\n",
      "2.625 -1.0\n",
      "2.1875 -0.98\n",
      "2.3125 1.0\n",
      "2.125 1.0\n",
      "3.0625 1.0\n",
      "2.1875 -1.0\n",
      "2.125 0.98\n",
      "1.9375 -1.0\n",
      "2.8125 -1.0\n",
      "2.0625 1.0\n",
      "2.4375 0.98\n",
      "2.125 -1.0\n",
      "2.125 1.0\n",
      "2.3125 0.96\n",
      "2.375 1.0\n",
      "2.125 -0.98\n",
      "2.5625 1.0\n",
      "2.1875 -1.0\n",
      "1.9375 -0.98\n",
      "2.25 1.0\n",
      "2.1875 -1.0\n",
      "2.125 -0.96\n",
      "2.5 0.98\n",
      "2.5 -1.0\n",
      "2.6875 1.0\n",
      "2.4375 1.0\n",
      "2.125 0.98\n",
      "2.25 -1.0\n",
      "2.4375 -1.0\n",
      "2.1875 -0.98\n",
      "2.125 0.96\n",
      "2.125 1.0\n",
      "3.4375 -1.0\n",
      "3.1875 -1.0\n",
      "2.0 -1.0\n",
      "2.375 1.0\n",
      "2.625 -1.0\n",
      "2.6875 0.98\n",
      "2.25 -0.96\n",
      "1.9375 0.98\n",
      "2.1875 -1.0\n",
      "2.1875 1.0\n",
      "2.3125 -0.98\n",
      "2.25 1.0\n",
      "1.9375 -0.98\n",
      "2.125 -1.0\n",
      "2.0625 1.0\n",
      "2.5625 -1.0\n",
      "2.1875 0.98\n",
      "2.5 -1.0\n",
      "2.1875 1.0\n",
      "2.3125 -0.98\n",
      "1.875 -1.0\n",
      "2.3125 -0.98\n",
      "2.0 1.0\n",
      "2.0 1.0\n",
      "2.3125 0.98\n",
      "2.25 -1.0\n",
      "1.75 0.98\n",
      "2.125 1.0\n",
      "2.25 1.0\n",
      "2.5625 0.98\n",
      "2.3125 1.0\n",
      "2.375 1.0\n",
      "2.1875 -1.0\n",
      "2.0625 -1.0\n",
      "2.75 1.0\n",
      "2.25 1.0\n",
      "2.5 -1.0\n",
      "2.1875 -0.98\n",
      "2.1875 -1.0\n",
      "2.1875 1.0\n",
      "2.4375 1.0\n",
      "2.125 1.0\n",
      "2.5 -0.98\n",
      "2.0625 -0.98\n",
      "2.4375 1.0\n",
      "2.0625 -0.98\n",
      "2.75 1.0\n",
      "2.1875 1.0\n",
      "2.3125 -1.0\n",
      "2.5625 0.98\n",
      "2.0625 -1.0\n",
      "2.125 -0.98\n",
      "1.9375 0.98\n",
      "2.1875 -0.98\n",
      "2.25 1.0\n",
      "2.0625 -1.0\n",
      "2.4375 -1.0\n",
      "2.1875 0.98\n",
      "2.0 -0.96\n",
      "2.25 -1.0\n",
      "2.4375 1.0\n",
      "2.875 -0.94\n",
      "2.5625 1.0\n",
      "2.625 1.0\n",
      "2.25 1.0\n",
      "2.3125 -1.0\n",
      "2.0625 -0.98\n",
      "2.375 1.0\n",
      "2.3125 0.98\n",
      "2.375 1.0\n",
      "2.0 1.0\n",
      "2.5625 0.98\n",
      "2.5 -1.0\n",
      "2.1875 -0.96\n",
      "2.25 -1.0\n",
      "2.3125 1.0\n",
      "2.25 0.98\n",
      "2.125 1.0\n",
      "2.4375 1.0\n",
      "2.3125 1.0\n",
      "2.5 -0.98\n",
      "2.25 1.0\n",
      "2.0 -1.0\n",
      "2.25 -1.0\n",
      "2.4375 1.0\n",
      "2.0 -1.0\n",
      "1.9375 -1.0\n",
      "2.3125 1.0\n",
      "2.375 1.0\n"
     ]
    }
   ],
   "source": [
    "yy = y_test.detach().numpy()\n",
    "xx = np.around(cr(output_val)[:, 1].detach().numpy())\n",
    "count = 0\n",
    "for i in range(len(xx)):\n",
    "    if xx[i] != yy[i]:\n",
    "        print(X_test_time[i], X_test[i].mean(), xx[i], yy[i])\n",
    "        count +=1\n",
    "  "
   ]
  },
  {
   "cell_type": "code",
   "execution_count": 109,
   "metadata": {},
   "outputs": [
    {
     "name": "stderr",
     "output_type": "stream",
     "text": [
      "C:\\Users\\miair\\Anaconda3\\lib\\site-packages\\ipykernel_launcher.py:2: UserWarning: Implicit dimension choice for softmax has been deprecated. Change the call to include dim=X as an argument.\n",
      "  \n"
     ]
    },
    {
     "data": {
      "text/plain": [
       "tensor([4.9170e-04, 9.9951e-01], grad_fn=<SoftmaxBackward>)"
      ]
     },
     "execution_count": 109,
     "metadata": {},
     "output_type": "execute_result"
    }
   ],
   "source": [
    "xx = torch.from_numpy(np.array([-1]*100))\n",
    "cr(net.forward(xx.float()))"
   ]
  },
  {
   "cell_type": "markdown",
   "metadata": {},
   "source": [
    "## Triangular lattice"
   ]
  },
  {
   "cell_type": "code",
   "execution_count": 52,
   "metadata": {},
   "outputs": [
    {
     "data": {
      "application/vnd.jupyter.widget-view+json": {
       "model_id": "2dde5a59e6874efdb26f211b6eedb741",
       "version_major": 2,
       "version_minor": 0
      },
      "text/plain": [
       "HBox(children=(IntProgress(value=0, max=56), HTML(value='')))"
      ]
     },
     "metadata": {},
     "output_type": "display_data"
    },
    {
     "data": {
      "application/vnd.jupyter.widget-view+json": {
       "model_id": "7673d257718e48eab9e9e79a47b5bf42",
       "version_major": 2,
       "version_minor": 0
      },
      "text/plain": [
       "HBox(children=(IntProgress(value=0), HTML(value='')))"
      ]
     },
     "metadata": {},
     "output_type": "display_data"
    },
    {
     "data": {
      "application/vnd.jupyter.widget-view+json": {
       "model_id": "680e49f43240461a8f7157af8d3969a9",
       "version_major": 2,
       "version_minor": 0
      },
      "text/plain": [
       "HBox(children=(IntProgress(value=0), HTML(value='')))"
      ]
     },
     "metadata": {},
     "output_type": "display_data"
    },
    {
     "data": {
      "application/vnd.jupyter.widget-view+json": {
       "model_id": "2817bf6c8eee488f81066a19600023dd",
       "version_major": 2,
       "version_minor": 0
      },
      "text/plain": [
       "HBox(children=(IntProgress(value=0), HTML(value='')))"
      ]
     },
     "metadata": {},
     "output_type": "display_data"
    },
    {
     "data": {
      "application/vnd.jupyter.widget-view+json": {
       "model_id": "fe8ed01f7bb948bbb3bce82da02e3089",
       "version_major": 2,
       "version_minor": 0
      },
      "text/plain": [
       "HBox(children=(IntProgress(value=0), HTML(value='')))"
      ]
     },
     "metadata": {},
     "output_type": "display_data"
    },
    {
     "data": {
      "application/vnd.jupyter.widget-view+json": {
       "model_id": "1b881ece23d34b4d874499b50d42d6a8",
       "version_major": 2,
       "version_minor": 0
      },
      "text/plain": [
       "HBox(children=(IntProgress(value=0), HTML(value='')))"
      ]
     },
     "metadata": {},
     "output_type": "display_data"
    },
    {
     "data": {
      "application/vnd.jupyter.widget-view+json": {
       "model_id": "a35d712b4cfc4557a81565795730b4ef",
       "version_major": 2,
       "version_minor": 0
      },
      "text/plain": [
       "HBox(children=(IntProgress(value=0), HTML(value='')))"
      ]
     },
     "metadata": {},
     "output_type": "display_data"
    },
    {
     "data": {
      "application/vnd.jupyter.widget-view+json": {
       "model_id": "eadc50c77997443db8e536b2c06cd58e",
       "version_major": 2,
       "version_minor": 0
      },
      "text/plain": [
       "HBox(children=(IntProgress(value=0), HTML(value='')))"
      ]
     },
     "metadata": {},
     "output_type": "display_data"
    },
    {
     "data": {
      "application/vnd.jupyter.widget-view+json": {
       "model_id": "ff22db6b185145af95ad53e33ca3e8c5",
       "version_major": 2,
       "version_minor": 0
      },
      "text/plain": [
       "HBox(children=(IntProgress(value=0), HTML(value='')))"
      ]
     },
     "metadata": {},
     "output_type": "display_data"
    },
    {
     "data": {
      "application/vnd.jupyter.widget-view+json": {
       "model_id": "4ba9f5d7c55f48268c67e79f12b05a0e",
       "version_major": 2,
       "version_minor": 0
      },
      "text/plain": [
       "HBox(children=(IntProgress(value=0), HTML(value='')))"
      ]
     },
     "metadata": {},
     "output_type": "display_data"
    },
    {
     "data": {
      "application/vnd.jupyter.widget-view+json": {
       "model_id": "1fc6767e14384c29a9a98c5a35bbb4f5",
       "version_major": 2,
       "version_minor": 0
      },
      "text/plain": [
       "HBox(children=(IntProgress(value=0), HTML(value='')))"
      ]
     },
     "metadata": {},
     "output_type": "display_data"
    },
    {
     "data": {
      "application/vnd.jupyter.widget-view+json": {
       "model_id": "2d7fb6e71045418084e7e6ab0dcc1927",
       "version_major": 2,
       "version_minor": 0
      },
      "text/plain": [
       "HBox(children=(IntProgress(value=0), HTML(value='')))"
      ]
     },
     "metadata": {},
     "output_type": "display_data"
    },
    {
     "data": {
      "application/vnd.jupyter.widget-view+json": {
       "model_id": "b725091aa8b2418bb7348714b986435a",
       "version_major": 2,
       "version_minor": 0
      },
      "text/plain": [
       "HBox(children=(IntProgress(value=0), HTML(value='')))"
      ]
     },
     "metadata": {},
     "output_type": "display_data"
    },
    {
     "data": {
      "application/vnd.jupyter.widget-view+json": {
       "model_id": "b67ff6bf84524685910f6819063515e3",
       "version_major": 2,
       "version_minor": 0
      },
      "text/plain": [
       "HBox(children=(IntProgress(value=0), HTML(value='')))"
      ]
     },
     "metadata": {},
     "output_type": "display_data"
    },
    {
     "data": {
      "application/vnd.jupyter.widget-view+json": {
       "model_id": "9d1468872b074ab0a33e30355cc9c0bc",
       "version_major": 2,
       "version_minor": 0
      },
      "text/plain": [
       "HBox(children=(IntProgress(value=0), HTML(value='')))"
      ]
     },
     "metadata": {},
     "output_type": "display_data"
    },
    {
     "data": {
      "application/vnd.jupyter.widget-view+json": {
       "model_id": "9c261e7e87194beb9b9c66433b51c43f",
       "version_major": 2,
       "version_minor": 0
      },
      "text/plain": [
       "HBox(children=(IntProgress(value=0), HTML(value='')))"
      ]
     },
     "metadata": {},
     "output_type": "display_data"
    },
    {
     "data": {
      "application/vnd.jupyter.widget-view+json": {
       "model_id": "47e416d719854c48aab0792037c1793f",
       "version_major": 2,
       "version_minor": 0
      },
      "text/plain": [
       "HBox(children=(IntProgress(value=0), HTML(value='')))"
      ]
     },
     "metadata": {},
     "output_type": "display_data"
    },
    {
     "data": {
      "application/vnd.jupyter.widget-view+json": {
       "model_id": "1a492a7d00244fd78a1c412a5cbbba89",
       "version_major": 2,
       "version_minor": 0
      },
      "text/plain": [
       "HBox(children=(IntProgress(value=0), HTML(value='')))"
      ]
     },
     "metadata": {},
     "output_type": "display_data"
    },
    {
     "data": {
      "application/vnd.jupyter.widget-view+json": {
       "model_id": "74f35abb53694ceca25b7cb1ef44c0de",
       "version_major": 2,
       "version_minor": 0
      },
      "text/plain": [
       "HBox(children=(IntProgress(value=0), HTML(value='')))"
      ]
     },
     "metadata": {},
     "output_type": "display_data"
    },
    {
     "data": {
      "application/vnd.jupyter.widget-view+json": {
       "model_id": "1bf3e466bee3498c9615a4bfb2280584",
       "version_major": 2,
       "version_minor": 0
      },
      "text/plain": [
       "HBox(children=(IntProgress(value=0), HTML(value='')))"
      ]
     },
     "metadata": {},
     "output_type": "display_data"
    },
    {
     "data": {
      "application/vnd.jupyter.widget-view+json": {
       "model_id": "b55b0a077d8c4353957bfd510c3d75df",
       "version_major": 2,
       "version_minor": 0
      },
      "text/plain": [
       "HBox(children=(IntProgress(value=0), HTML(value='')))"
      ]
     },
     "metadata": {},
     "output_type": "display_data"
    },
    {
     "data": {
      "application/vnd.jupyter.widget-view+json": {
       "model_id": "41d554ec43f8407bb52421613aac472e",
       "version_major": 2,
       "version_minor": 0
      },
      "text/plain": [
       "HBox(children=(IntProgress(value=0), HTML(value='')))"
      ]
     },
     "metadata": {},
     "output_type": "display_data"
    },
    {
     "data": {
      "application/vnd.jupyter.widget-view+json": {
       "model_id": "4cf6f3d78de8478d8bc78141ccff7f0a",
       "version_major": 2,
       "version_minor": 0
      },
      "text/plain": [
       "HBox(children=(IntProgress(value=0), HTML(value='')))"
      ]
     },
     "metadata": {},
     "output_type": "display_data"
    },
    {
     "data": {
      "application/vnd.jupyter.widget-view+json": {
       "model_id": "157eaa6182da4575ac21aaedde834ca2",
       "version_major": 2,
       "version_minor": 0
      },
      "text/plain": [
       "HBox(children=(IntProgress(value=0), HTML(value='')))"
      ]
     },
     "metadata": {},
     "output_type": "display_data"
    },
    {
     "data": {
      "application/vnd.jupyter.widget-view+json": {
       "model_id": "8bb9e196e6fa45ef81e2a0ec10b7e5b3",
       "version_major": 2,
       "version_minor": 0
      },
      "text/plain": [
       "HBox(children=(IntProgress(value=0), HTML(value='')))"
      ]
     },
     "metadata": {},
     "output_type": "display_data"
    },
    {
     "data": {
      "application/vnd.jupyter.widget-view+json": {
       "model_id": "3e8f68a2ab7e44768b7ba25a3722ad38",
       "version_major": 2,
       "version_minor": 0
      },
      "text/plain": [
       "HBox(children=(IntProgress(value=0), HTML(value='')))"
      ]
     },
     "metadata": {},
     "output_type": "display_data"
    },
    {
     "data": {
      "application/vnd.jupyter.widget-view+json": {
       "model_id": "fd29f8908f0645ea835bbde7f6e7a701",
       "version_major": 2,
       "version_minor": 0
      },
      "text/plain": [
       "HBox(children=(IntProgress(value=0), HTML(value='')))"
      ]
     },
     "metadata": {},
     "output_type": "display_data"
    },
    {
     "data": {
      "application/vnd.jupyter.widget-view+json": {
       "model_id": "d3fff16381fe4dec852d514d54491adf",
       "version_major": 2,
       "version_minor": 0
      },
      "text/plain": [
       "HBox(children=(IntProgress(value=0), HTML(value='')))"
      ]
     },
     "metadata": {},
     "output_type": "display_data"
    },
    {
     "data": {
      "application/vnd.jupyter.widget-view+json": {
       "model_id": "28215306b48247049acb429622a1f2d0",
       "version_major": 2,
       "version_minor": 0
      },
      "text/plain": [
       "HBox(children=(IntProgress(value=0), HTML(value='')))"
      ]
     },
     "metadata": {},
     "output_type": "display_data"
    },
    {
     "data": {
      "application/vnd.jupyter.widget-view+json": {
       "model_id": "f50fe0a35f1e49869e4edb9383e1cfec",
       "version_major": 2,
       "version_minor": 0
      },
      "text/plain": [
       "HBox(children=(IntProgress(value=0), HTML(value='')))"
      ]
     },
     "metadata": {},
     "output_type": "display_data"
    },
    {
     "data": {
      "application/vnd.jupyter.widget-view+json": {
       "model_id": "3bd0ea4e2723419e8b933a82b1e4fc31",
       "version_major": 2,
       "version_minor": 0
      },
      "text/plain": [
       "HBox(children=(IntProgress(value=0), HTML(value='')))"
      ]
     },
     "metadata": {},
     "output_type": "display_data"
    },
    {
     "data": {
      "application/vnd.jupyter.widget-view+json": {
       "model_id": "2c391c629aca42029ffd559daaabb253",
       "version_major": 2,
       "version_minor": 0
      },
      "text/plain": [
       "HBox(children=(IntProgress(value=0), HTML(value='')))"
      ]
     },
     "metadata": {},
     "output_type": "display_data"
    },
    {
     "data": {
      "application/vnd.jupyter.widget-view+json": {
       "model_id": "166a9ab8dee1408381bcb35422accefa",
       "version_major": 2,
       "version_minor": 0
      },
      "text/plain": [
       "HBox(children=(IntProgress(value=0), HTML(value='')))"
      ]
     },
     "metadata": {},
     "output_type": "display_data"
    },
    {
     "data": {
      "application/vnd.jupyter.widget-view+json": {
       "model_id": "862a74a980bf48bd86bd3f95ecb86c3e",
       "version_major": 2,
       "version_minor": 0
      },
      "text/plain": [
       "HBox(children=(IntProgress(value=0), HTML(value='')))"
      ]
     },
     "metadata": {},
     "output_type": "display_data"
    },
    {
     "data": {
      "application/vnd.jupyter.widget-view+json": {
       "model_id": "7c45de84772e43d9bfdc78852f7fd512",
       "version_major": 2,
       "version_minor": 0
      },
      "text/plain": [
       "HBox(children=(IntProgress(value=0), HTML(value='')))"
      ]
     },
     "metadata": {},
     "output_type": "display_data"
    },
    {
     "data": {
      "application/vnd.jupyter.widget-view+json": {
       "model_id": "a6f8bb47502b4e30bca7da07abb457f4",
       "version_major": 2,
       "version_minor": 0
      },
      "text/plain": [
       "HBox(children=(IntProgress(value=0), HTML(value='')))"
      ]
     },
     "metadata": {},
     "output_type": "display_data"
    },
    {
     "data": {
      "application/vnd.jupyter.widget-view+json": {
       "model_id": "34b8bdbf370b48f0988008c6e7d86916",
       "version_major": 2,
       "version_minor": 0
      },
      "text/plain": [
       "HBox(children=(IntProgress(value=0), HTML(value='')))"
      ]
     },
     "metadata": {},
     "output_type": "display_data"
    },
    {
     "data": {
      "application/vnd.jupyter.widget-view+json": {
       "model_id": "b1a42bbb047b4fcdba4e9334aed0fc25",
       "version_major": 2,
       "version_minor": 0
      },
      "text/plain": [
       "HBox(children=(IntProgress(value=0), HTML(value='')))"
      ]
     },
     "metadata": {},
     "output_type": "display_data"
    },
    {
     "data": {
      "application/vnd.jupyter.widget-view+json": {
       "model_id": "7084c9ca24cb445e91a2c1ab84b98c44",
       "version_major": 2,
       "version_minor": 0
      },
      "text/plain": [
       "HBox(children=(IntProgress(value=0), HTML(value='')))"
      ]
     },
     "metadata": {},
     "output_type": "display_data"
    },
    {
     "data": {
      "application/vnd.jupyter.widget-view+json": {
       "model_id": "80616b045c624b359897558a1f36fbae",
       "version_major": 2,
       "version_minor": 0
      },
      "text/plain": [
       "HBox(children=(IntProgress(value=0), HTML(value='')))"
      ]
     },
     "metadata": {},
     "output_type": "display_data"
    },
    {
     "data": {
      "application/vnd.jupyter.widget-view+json": {
       "model_id": "a96b2c710c864db68ead772cb547d4c6",
       "version_major": 2,
       "version_minor": 0
      },
      "text/plain": [
       "HBox(children=(IntProgress(value=0), HTML(value='')))"
      ]
     },
     "metadata": {},
     "output_type": "display_data"
    },
    {
     "data": {
      "application/vnd.jupyter.widget-view+json": {
       "model_id": "e3f43b14c390437f9c6a307791b642c9",
       "version_major": 2,
       "version_minor": 0
      },
      "text/plain": [
       "HBox(children=(IntProgress(value=0), HTML(value='')))"
      ]
     },
     "metadata": {},
     "output_type": "display_data"
    },
    {
     "data": {
      "application/vnd.jupyter.widget-view+json": {
       "model_id": "94f106142dd2471db970da430ddf11db",
       "version_major": 2,
       "version_minor": 0
      },
      "text/plain": [
       "HBox(children=(IntProgress(value=0), HTML(value='')))"
      ]
     },
     "metadata": {},
     "output_type": "display_data"
    },
    {
     "data": {
      "application/vnd.jupyter.widget-view+json": {
       "model_id": "1c5fdf3b41c64bec93307b7ebfc1d61c",
       "version_major": 2,
       "version_minor": 0
      },
      "text/plain": [
       "HBox(children=(IntProgress(value=0), HTML(value='')))"
      ]
     },
     "metadata": {},
     "output_type": "display_data"
    },
    {
     "data": {
      "application/vnd.jupyter.widget-view+json": {
       "model_id": "a10c26863938426abfa6f6133f2cd471",
       "version_major": 2,
       "version_minor": 0
      },
      "text/plain": [
       "HBox(children=(IntProgress(value=0), HTML(value='')))"
      ]
     },
     "metadata": {},
     "output_type": "display_data"
    },
    {
     "data": {
      "application/vnd.jupyter.widget-view+json": {
       "model_id": "78f42c3f7a094198af7d5a77e380f397",
       "version_major": 2,
       "version_minor": 0
      },
      "text/plain": [
       "HBox(children=(IntProgress(value=0), HTML(value='')))"
      ]
     },
     "metadata": {},
     "output_type": "display_data"
    },
    {
     "data": {
      "application/vnd.jupyter.widget-view+json": {
       "model_id": "58b668b9fc6d43a7b9aa3d471a9c0ee8",
       "version_major": 2,
       "version_minor": 0
      },
      "text/plain": [
       "HBox(children=(IntProgress(value=0), HTML(value='')))"
      ]
     },
     "metadata": {},
     "output_type": "display_data"
    },
    {
     "data": {
      "application/vnd.jupyter.widget-view+json": {
       "model_id": "89dec10db7bb40d287bd77868bc6cbd1",
       "version_major": 2,
       "version_minor": 0
      },
      "text/plain": [
       "HBox(children=(IntProgress(value=0), HTML(value='')))"
      ]
     },
     "metadata": {},
     "output_type": "display_data"
    },
    {
     "data": {
      "application/vnd.jupyter.widget-view+json": {
       "model_id": "5840898d38764c5893efd81ba2b31c87",
       "version_major": 2,
       "version_minor": 0
      },
      "text/plain": [
       "HBox(children=(IntProgress(value=0), HTML(value='')))"
      ]
     },
     "metadata": {},
     "output_type": "display_data"
    },
    {
     "data": {
      "application/vnd.jupyter.widget-view+json": {
       "model_id": "bc76c741bc864b6e9ec68d8a50d833a2",
       "version_major": 2,
       "version_minor": 0
      },
      "text/plain": [
       "HBox(children=(IntProgress(value=0), HTML(value='')))"
      ]
     },
     "metadata": {},
     "output_type": "display_data"
    },
    {
     "data": {
      "application/vnd.jupyter.widget-view+json": {
       "model_id": "1bd1afbc62674a97a5bd12b871249fd6",
       "version_major": 2,
       "version_minor": 0
      },
      "text/plain": [
       "HBox(children=(IntProgress(value=0), HTML(value='')))"
      ]
     },
     "metadata": {},
     "output_type": "display_data"
    },
    {
     "data": {
      "application/vnd.jupyter.widget-view+json": {
       "model_id": "6d88bdf315374be99d0f92d8584b7c0f",
       "version_major": 2,
       "version_minor": 0
      },
      "text/plain": [
       "HBox(children=(IntProgress(value=0), HTML(value='')))"
      ]
     },
     "metadata": {},
     "output_type": "display_data"
    },
    {
     "data": {
      "application/vnd.jupyter.widget-view+json": {
       "model_id": "ee1d6d66028240bc9d65a38d2458dc8e",
       "version_major": 2,
       "version_minor": 0
      },
      "text/plain": [
       "HBox(children=(IntProgress(value=0), HTML(value='')))"
      ]
     },
     "metadata": {},
     "output_type": "display_data"
    },
    {
     "data": {
      "application/vnd.jupyter.widget-view+json": {
       "model_id": "523fca4c53d14924a4a3160cc31e7dba",
       "version_major": 2,
       "version_minor": 0
      },
      "text/plain": [
       "HBox(children=(IntProgress(value=0), HTML(value='')))"
      ]
     },
     "metadata": {},
     "output_type": "display_data"
    },
    {
     "data": {
      "application/vnd.jupyter.widget-view+json": {
       "model_id": "5b4157417c2f4ffd8436a6014f9cd4d4",
       "version_major": 2,
       "version_minor": 0
      },
      "text/plain": [
       "HBox(children=(IntProgress(value=0), HTML(value='')))"
      ]
     },
     "metadata": {},
     "output_type": "display_data"
    },
    {
     "data": {
      "application/vnd.jupyter.widget-view+json": {
       "model_id": "5a333b775bec4677a9e43a34ea531373",
       "version_major": 2,
       "version_minor": 0
      },
      "text/plain": [
       "HBox(children=(IntProgress(value=0), HTML(value='')))"
      ]
     },
     "metadata": {},
     "output_type": "display_data"
    },
    {
     "data": {
      "application/vnd.jupyter.widget-view+json": {
       "model_id": "dbe0cb0147e9446c9c3133061fa33744",
       "version_major": 2,
       "version_minor": 0
      },
      "text/plain": [
       "HBox(children=(IntProgress(value=0), HTML(value='')))"
      ]
     },
     "metadata": {},
     "output_type": "display_data"
    },
    {
     "name": "stdout",
     "output_type": "stream",
     "text": [
      "\n"
     ]
    }
   ],
   "source": [
    "# triangular Test data generation\n",
    "test = Ising.Ising(10, 10)\n",
    "x = np.arange(2, 5.5, 0.0625)\n",
    "label = []\n",
    "curr_label = 1\n",
    "X_test = []\n",
    "var = []\n",
    "y = []\n",
    "N = 10**2\n",
    "for T in tqdm(x):\n",
    "    mag = []\n",
    "    if T >= 3.65:\n",
    "        curr_label = 0\n",
    "    else :\n",
    "        curr_label = 1\n",
    "    for i in (range(N)):\n",
    "        test.cluster_ising(1-np.exp(-(1/T)*2), \"triangular\")\n",
    "    for _ in tqdm(range(100)):\n",
    "        for _ in range(10):\n",
    "            test.cluster_ising(1-np.exp(-(1/T)*2), \"triangular\")\n",
    "        mag.append(test.magnetism())\n",
    "        X_test.append(np.array(test.lattice.reshape((1, test.y*test.x))[0]))\n",
    "        label.append(curr_label)\n",
    "    mn = np.mean(mag)\n",
    "    y.append(mn)\n",
    "    var.append(np.std(mag))"
   ]
  },
  {
   "cell_type": "code",
   "execution_count": 5,
   "metadata": {},
   "outputs": [],
   "source": [
    "# Save\n",
    "np.save(\"./Data/data_size10_min1_max3.5_steap0.0625_batch1000_re100_N10000_triangular\", X_test)\n",
    "np.save(\"./Data/labels_size10_min1_max3.5_steap0.0625_batch1000_re100_N10000_triangular\", label)"
   ]
  },
  {
   "cell_type": "code",
   "execution_count": 63,
   "metadata": {},
   "outputs": [],
   "source": [
    "# load\n",
    "X_test = np.load(\"./Data/data_size10_min1_max3.5_steap0.0625_batch1000_re100_N10000_triangular.npy\")\n",
    "label = np.load(\"./Data/labels_size10_min1_max3.5_steap0.0625_batch1000_re100_N10000_triangular.npy\")"
   ]
  },
  {
   "cell_type": "code",
   "execution_count": 64,
   "metadata": {},
   "outputs": [],
   "source": [
    "y = []\n",
    "X_test = np.array(X_test)\n",
    "N = X_test.shape[0]//56\n",
    "for i in range(56):\n",
    "    curr = X_test[(i)*N:(i+1)*N]\n",
    "    mn = []\n",
    "    for i in curr:\n",
    "        mn.append(np.abs(i.mean()))\n",
    "    y.append(np.mean(mn))"
   ]
  },
  {
   "cell_type": "code",
   "execution_count": 65,
   "metadata": {},
   "outputs": [
    {
     "data": {
      "text/plain": [
       "1000"
      ]
     },
     "execution_count": 65,
     "metadata": {},
     "output_type": "execute_result"
    }
   ],
   "source": [
    "N"
   ]
  },
  {
   "cell_type": "code",
   "execution_count": 66,
   "metadata": {},
   "outputs": [
    {
     "data": {
      "text/plain": [
       "[<matplotlib.lines.Line2D at 0x1aaef8fcba8>]"
      ]
     },
     "execution_count": 66,
     "metadata": {},
     "output_type": "execute_result"
    },
    {
     "data": {
      "image/png": "[encoded data removed]",
      "text/plain": [
       "<Figure size 432x288 with 1 Axes>"
      ]
     },
     "metadata": {},
     "output_type": "display_data"
    }
   ],
   "source": [
    "x = np.arange(2, 5.5, 0.0625)\n",
    "plt.plot(x, y)\n",
    "plt.xlabel(\"T\")\n",
    "plt.ylabel(\"magnetism\")\n",
    "\n",
    "x_line = np.arange(0,1.1, 0.1)\n",
    "plt.plot([3.65]*x_line.shape[0], x_line, '-')"
   ]
  },
  {
   "cell_type": "code",
   "execution_count": 67,
   "metadata": {},
   "outputs": [],
   "source": [
    "X_test = np.array(X_test)\n",
    "X_test = torch.from_numpy(X_test)\n",
    "y_test = torch.from_numpy(np.array(label))"
   ]
  },
  {
   "cell_type": "code",
   "execution_count": 69,
   "metadata": {},
   "outputs": [
    {
     "name": "stderr",
     "output_type": "stream",
     "text": [
      "C:\\Users\\miair\\Anaconda3\\lib\\site-packages\\ipykernel_launcher.py:2: UserWarning: Implicit dimension choice for softmax has been deprecated. Change the call to include dim=X as an argument.\n",
      "  \n"
     ]
    }
   ],
   "source": [
    "output_val = net.forward(X_test.float())\n",
    "output_val_soft = cr(output_val).detach().numpy()"
   ]
  },
  {
   "cell_type": "code",
   "execution_count": 70,
   "metadata": {},
   "outputs": [
    {
     "name": "stderr",
     "output_type": "stream",
     "text": [
      "C:\\Users\\miair\\Anaconda3\\lib\\site-packages\\ipykernel_launcher.py:1: UserWarning: Implicit dimension choice for softmax has been deprecated. Change the call to include dim=X as an argument.\n",
      "  \"\"\"Entry point for launching an IPython kernel.\n"
     ]
    },
    {
     "data": {
      "text/plain": [
       "0.8805892857142857"
      ]
     },
     "execution_count": 70,
     "metadata": {},
     "output_type": "execute_result"
    }
   ],
   "source": [
    "((np.around(cr(output_val)[:, 1].detach().numpy()) == y_test.detach().numpy()).sum())/y_test.detach().numpy().shape[0]"
   ]
  },
  {
   "cell_type": "code",
   "execution_count": 74,
   "metadata": {},
   "outputs": [
    {
     "data": {
      "text/plain": [
       "array([[0.00391707, 0.9960829 ],\n",
       "       [0.00103596, 0.9989641 ],\n",
       "       [0.00749197, 0.992508  ],\n",
       "       ...,\n",
       "       [0.9953128 , 0.00468714],\n",
       "       [0.9989184 , 0.00108162],\n",
       "       [0.99612147, 0.00387847]], dtype=float32)"
      ]
     },
     "execution_count": 74,
     "metadata": {},
     "output_type": "execute_result"
    }
   ],
   "source": [
    "output_val_soft"
   ]
  },
  {
   "cell_type": "code",
   "execution_count": 73,
   "metadata": {},
   "outputs": [
    {
     "data": {
      "text/plain": [
       "[<matplotlib.lines.Line2D at 0x1aaed395240>]"
      ]
     },
     "execution_count": 73,
     "metadata": {},
     "output_type": "execute_result"
    },
    {
     "data": {
      "image/png": "[encoded data removed]",
      "text/plain": [
       "<Figure size 432x288 with 1 Axes>"
      ]
     },
     "metadata": {},
     "output_type": "display_data"
    }
   ],
   "source": [
    "x_line = np.arange(0,1.2,0.2)\n",
    "output_0 = []\n",
    "for T in np.unique(x):\n",
    "    indexes = np.where(x == T)\n",
    "    output_0.append(output_val_soft[:, 0][indexes].mean())\n",
    "plt.plot(x, output_0, '-.^g', alpha=0.5)\n",
    "output_1 = []\n",
    "for T in np.unique(x):\n",
    "    indexes = np.where(x == T)\n",
    "    output_1.append(output_val_soft[:, 1][indexes].mean())\n",
    "plt.plot(x, output_1, '-.^b', alpha=0.5)\n",
    "plt.plot([3.65]*x_line.shape[0], x_line, '-')"
   ]
  }
 ],
 "metadata": {
  "kernelspec": {
   "display_name": "Python 3",
   "language": "python",
   "name": "python3"
  },
  "language_info": {
   "codemirror_mode": {
    "name": "ipython",
    "version": 3
   },
   "file_extension": ".py",
   "mimetype": "text/x-python",
   "name": "python",
   "nbconvert_exporter": "python",
   "pygments_lexer": "ipython3",
   "version": "3.7.3"
  },
  "varInspector": {
   "cols": {
    "lenName": 16,
    "lenType": 16,
    "lenVar": 40
   },
   "kernels_config": {
    "python": {
     "delete_cmd_postfix": "",
     "delete_cmd_prefix": "del ",
     "library": "var_list.py",
     "varRefreshCmd": "print(var_dic_list())"
    },
    "r": {
     "delete_cmd_postfix": ") ",
     "delete_cmd_prefix": "rm(",
     "library": "var_list.r",
     "varRefreshCmd": "cat(var_dic_list()) "
    }
   },
   "types_to_exclude": [
    "module",
    "function",
    "builtin_function_or_method",
    "instance",
    "_Feature"
   ],
   "window_display": false
  }
 },
 "nbformat": 4,
 "nbformat_minor": 2
}
